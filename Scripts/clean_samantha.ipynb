{
 "cells": [
  {
   "cell_type": "markdown",
   "id": "c8ffd733-7cc7-46bd-9cea-1dde7ecf5901",
   "metadata": {},
   "source": [
    "# Cleaning Samantha's Data Set\n",
    "Data columns are analyzed sequentially for missing values and typos. Missing values or otherwise unusable data is dropped. Cleaning effects are cumulative. Drop counts are recorded and an overall drop rate is presented at the end. Typos are fixed by inspection whenever possible.\n",
    "\n",
    "The key takeaway is that missing receipt values generates a large amount of discarded data."
   ]
  },
  {
   "cell_type": "code",
   "execution_count": 1,
   "id": "9478323c-dd2e-4dde-971d-02ead918817c",
   "metadata": {},
   "outputs": [],
   "source": [
    "import re\n",
    "import datetime\n",
    "\n",
    "import pandas as pd"
   ]
  },
  {
   "cell_type": "code",
   "execution_count": 2,
   "id": "9be84561-d288-47e6-b04d-6950972bb847",
   "metadata": {
    "tags": []
   },
   "outputs": [
    {
     "name": "stdout",
     "output_type": "stream",
     "text": [
      "Wall time: 1.32 s\n"
     ]
    }
   ],
   "source": [
    "%%time\n",
    "DATA_PATH = '../Data/'\n",
    "FILE_NAME = 'Max, Samantha, Maria data.xlsx'\n",
    "SHEET = 'Samantha'\n",
    "\n",
    "df = pd.read_excel(DATA_PATH + FILE_NAME, sheet_name=SHEET)\n",
    "initial_row_count = df.shape[0]"
   ]
  },
  {
   "cell_type": "markdown",
   "id": "a40c6b73-d445-4c74-bede-06d6ac08fa1b",
   "metadata": {},
   "source": [
    "First, column names are standardized with other data sets to provide consistency and readability. The coupon column is deleted because it provides little information overall and is entirely absent from Max's data set."
   ]
  },
  {
   "cell_type": "code",
   "execution_count": 3,
   "id": "7c363eab-54d4-488f-8ece-d16801dcf21e",
   "metadata": {
    "tags": []
   },
   "outputs": [
    {
     "name": "stdout",
     "output_type": "stream",
     "text": [
      "<class 'pandas.core.frame.DataFrame'>\n",
      "RangeIndex: 3138 entries, 0 to 3137\n",
      "Data columns (total 13 columns):\n",
      " #   Column     Non-Null Count  Dtype         \n",
      "---  ------     --------------  -----         \n",
      " 0   ID         3138 non-null   int64         \n",
      " 1   Session    3138 non-null   int64         \n",
      " 2   Receipt    1822 non-null   object        \n",
      " 3   Date       2509 non-null   datetime64[ns]\n",
      " 4   Item       3069 non-null   object        \n",
      " 5   Item2      135 non-null    object        \n",
      " 6   Uncertain  111 non-null    object        \n",
      " 7   Unknown    82 non-null     object        \n",
      " 8   Quantity   525 non-null    object        \n",
      " 9   Hit        27 non-null     float64       \n",
      " 10  Miss       0 non-null      float64       \n",
      " 11  Category   3003 non-null   object        \n",
      " 12  Comment    284 non-null    object        \n",
      "dtypes: datetime64[ns](1), float64(2), int64(2), object(8)\n",
      "memory usage: 318.8+ KB\n"
     ]
    }
   ],
   "source": [
    "df = df.drop(columns='Coupon (#)')\n",
    "column_names = ['ID', 'Session', 'Receipt', 'Date', \n",
    "                'Item', 'Item2', 'Uncertain', 'Unknown', \n",
    "                'Quantity', 'Hit', 'Miss', 'Category', 'Comment']\n",
    "df.columns = column_names\n",
    "df.info()"
   ]
  },
  {
   "cell_type": "markdown",
   "id": "0a1e6814-c755-40ea-9425-f2c7b7b37e8f",
   "metadata": {
    "tags": []
   },
   "source": [
    "### ID Column\n",
    "Participant identification numbers. Samantha was assigned particpants identified by 131, 139, 145, 149, 152, 157, 162, 113, 118, and 126. Additionally, all three transcribers were assigned the collection 121, 114, 137, 153, 141, 127, 130, 135, 148, and 158, to control for errors."
   ]
  },
  {
   "cell_type": "code",
   "execution_count": 5,
   "id": "9375f48f-440a-4988-a932-986ec5e4800b",
   "metadata": {
    "tags": []
   },
   "outputs": [
    {
     "name": "stdout",
     "output_type": "stream",
     "text": [
      "set()\n"
     ]
    }
   ],
   "source": [
    "df.ID = df.ID.astype('uint8') # memory saving conversion\n",
    "\n",
    "pids_assigned = ({131, 139, 145, 149, 152, 157, 162, 113, 118, 126} | \n",
    "                 {121, 114, 137, 153, 141, 127, 130, 135, 148, 158})\n",
    "\n",
    "print(set(df.ID.unique()) ^ pids_assigned)"
   ]
  },
  {
   "cell_type": "markdown",
   "id": "d90e9fb2-d637-4b4e-9950-60b3b607a1b4",
   "metadata": {},
   "source": [
    "All assigned participants are accounted for."
   ]
  },
  {
   "cell_type": "markdown",
   "id": "c2e9750e-d85f-4f70-a3d0-1cf6f50d5c9c",
   "metadata": {},
   "source": [
    "### Session Column\n",
    "A record of when the transcription was preformed. Transcription was divided into 6 sessions."
   ]
  },
  {
   "cell_type": "code",
   "execution_count": null,
   "id": "2752d25c-ae3a-464d-a4c4-ca20f8161909",
   "metadata": {
    "tags": []
   },
   "outputs": [],
   "source": [
    "df.Session = df.Session.astype('uint8') # memory saving conversion\n",
    "\n",
    "valid_sessions = [1, 2, 3, 4, 5, 6]\n",
    "\n",
    "assert df.Session.isin(valid_sessions).all() "
   ]
  },
  {
   "cell_type": "markdown",
   "id": "b4a389ac-fc02-48da-98fa-f11fceb1b116",
   "metadata": {},
   "source": [
    "### Receipt Column\n",
    "Enumeration of grocery receipts per session. df.info() has shown the existence of missing values, which must be dropped as distinguishing between different receipts is essential to this data set."
   ]
  },
  {
   "cell_type": "code",
   "execution_count": null,
   "id": "8b95cdee-b1db-4cc2-8cb0-c52f73484ef7",
   "metadata": {
    "tags": []
   },
   "outputs": [],
   "source": [
    "null_receipt_count = df.Receipt.isna().sum()\n",
    "print(f'{null_receipt_count} rows missing Receipt values.')\n",
    "df = df[df.Receipt.notna()]"
   ]
  },
  {
   "cell_type": "markdown",
   "id": "05eaf6e1-2ffc-4f0e-a32c-71cf16b32643",
   "metadata": {},
   "source": [
    "This is a very large discard of data. Attributing additional receipt values would greatly increase the quantity of useable data. Next, a typo is discovered by attempting to convert Receipt to integer data type. This is fixed by inspection."
   ]
  },
  {
   "cell_type": "code",
   "execution_count": null,
   "id": "ac3c7ee4-f009-4d28-b44d-28da2308cec2",
   "metadata": {
    "tags": []
   },
   "outputs": [],
   "source": [
    "typo = datetime.datetime(1900, 1, 1, 0, 0)\n",
    "df.loc[df.Receipt == typo, 'Receipt'] = 1\n",
    "df.Receipt = df.Receipt.astype('uint8')"
   ]
  },
  {
   "cell_type": "markdown",
   "id": "9b7237c3-4b4c-40df-8844-6dc6b2823024",
   "metadata": {},
   "source": [
    "Discontinuities in the enumeration are examined as further validation."
   ]
  },
  {
   "cell_type": "code",
   "execution_count": null,
   "id": "c01dd1e4-9075-464d-84c2-63fcbf0942f9",
   "metadata": {},
   "outputs": [],
   "source": [
    "print('(ID, Session): [Receipts]')\n",
    "for pid in df.ID.unique():\n",
    "    for session in df.loc[df.ID == pid, 'Session'].unique():\n",
    "        receipt_numbers = list(df.loc[(df.ID == pid) & (df.Session == session), 'Receipt'].unique())\n",
    "        if receipt_numbers != list(range(1, len(receipt_numbers) + 1)):\n",
    "            print(f'({pid}, {session}):', receipt_numbers)"
   ]
  },
  {
   "cell_type": "markdown",
   "id": "09e2ac4c-1fb8-46ab-85ee-0b8e3b570ffb",
   "metadata": {},
   "source": [
    "The tuples (145, 3, 1) and (145, 3, 2) do not exist in the database and so their absence here is correct. The tuple (153, 6, 1) is labled 153-6 with the receipt number missing, this could possibly be corrected in the database."
   ]
  },
  {
   "cell_type": "markdown",
   "id": "9f256b97-d169-44ae-bf39-5d02a373f1b8",
   "metadata": {},
   "source": [
    "### Date Column\n",
    "Records purchase date on receipt if available. The approximate date range for data collection is 5/1/2020 to 12/31/2020."
   ]
  },
  {
   "cell_type": "code",
   "execution_count": null,
   "id": "de401015-eaf6-40dc-aea0-0dc04302649b",
   "metadata": {
    "tags": []
   },
   "outputs": [],
   "source": [
    "# conversion hack to datetime while discarding time component\n",
    "df.Date = pd.to_datetime(df.Date, errors='coerce').dt.date.astype('datetime64')\n",
    "\n",
    "assert df.Date.dropna().between(datetime.datetime(2020, 5, 1), datetime.datetime(2020, 12, 31)).all()"
   ]
  },
  {
   "cell_type": "markdown",
   "id": "4faf6d03-809a-4c88-a741-5cefa2d2778f",
   "metadata": {
    "tags": []
   },
   "source": [
    "### Item Column\n",
    "A description of a grocery as string formatted as \"ITEM (MODIFIER)\". Item descriptions are essential data and unidentifiable items must be dropped."
   ]
  },
  {
   "cell_type": "code",
   "execution_count": null,
   "id": "a591dd21-7723-4704-9c96-cb59e0abe910",
   "metadata": {},
   "outputs": [],
   "source": [
    "df.Item = df.Item.str.lower().str.strip().astype('string') # lowercase and strip white space\n",
    "df.Item.value_counts(dropna=False).head()"
   ]
  },
  {
   "cell_type": "markdown",
   "id": "f2261b22-e98a-49ae-9f9b-27ee14517a66",
   "metadata": {},
   "source": [
    "35 null items to be dropped."
   ]
  },
  {
   "cell_type": "code",
   "execution_count": null,
   "id": "97dbfbfe-74aa-4ae9-85f6-595b602543e7",
   "metadata": {},
   "outputs": [],
   "source": [
    "NULL_ITEM_DESC = r'unknown|n/a|missing'\n",
    "null_item_count = df.Item.str.contains(NULL_ITEM_DESC).sum() + df.Item.isna().sum()\n",
    "print('Additional items containing null-like language:')\n",
    "display(df[df.Item.str.contains(NULL_ITEM_DESC)])\n",
    "\n",
    "df = df[df.Item.notna()]\n",
    "df = df[~df.Item.str.contains(NULL_ITEM_DESC)] # drop rows\n",
    "print(f'{null_item_count} null item descriptions.')"
   ]
  },
  {
   "cell_type": "markdown",
   "id": "ea441cff-ae35-466f-93ba-718cc195ebec",
   "metadata": {},
   "source": [
    "### Item2 Column\n",
    "Provides additional description of the grocery, but is too sparse to be useful."
   ]
  },
  {
   "cell_type": "code",
   "execution_count": null,
   "id": "ee2c91c9-5f8d-4d0b-a76e-eea7c2251573",
   "metadata": {},
   "outputs": [],
   "source": [
    "df = df.drop(columns='Item2')"
   ]
  },
  {
   "cell_type": "markdown",
   "id": "517dc255-5446-4aa3-813c-e618ee24568d",
   "metadata": {},
   "source": [
    "### Uncertain Column\n",
    "Denotes low confidence in transcription."
   ]
  },
  {
   "cell_type": "code",
   "execution_count": null,
   "id": "0a52d8c6-2c62-433e-adff-f30952e2e205",
   "metadata": {
    "tags": []
   },
   "outputs": [],
   "source": [
    "display(df[df.Uncertain.notna()])"
   ]
  },
  {
   "cell_type": "markdown",
   "id": "91e4eba9-45e9-47e7-947f-b4f619e7d913",
   "metadata": {},
   "source": [
    "The transcription quality seems acceptable so the data will be kept, but question marks removed."
   ]
  },
  {
   "cell_type": "code",
   "execution_count": null,
   "id": "2dd6d1a0-853e-4b7e-b419-334b130047be",
   "metadata": {},
   "outputs": [],
   "source": [
    "df.Item = df.Item.str.replace(r'?', '', regex=False)\n",
    "df = df.drop(columns='Uncertain')"
   ]
  },
  {
   "cell_type": "markdown",
   "id": "26f38efe-4e4c-4a3e-ac34-a4d28fda84ff",
   "metadata": {},
   "source": [
    "### Unknown Column\n",
    "Denotes very low confidence in transcription."
   ]
  },
  {
   "cell_type": "code",
   "execution_count": null,
   "id": "0cc24ea4-225a-4fe6-9fbf-a034a27f8cde",
   "metadata": {
    "tags": []
   },
   "outputs": [],
   "source": [
    "display(df[df.Unknown.notna()])"
   ]
  },
  {
   "cell_type": "markdown",
   "id": "a6abd4fc-ac7d-48a8-832b-ad81acde5ecc",
   "metadata": {},
   "source": [
    "Item descriptions are too vague to be useful and are dropped."
   ]
  },
  {
   "cell_type": "code",
   "execution_count": null,
   "id": "21161e0d-b963-4fa2-bb8a-3a3b1926ed60",
   "metadata": {},
   "outputs": [],
   "source": [
    "unknown_count = df.Unknown.notna().sum()\n",
    "print(f'{unknown_count} unknown items.')\n",
    "df = df[df.Unknown.isna()]\n",
    "df = df.drop(columns='Unknown')"
   ]
  },
  {
   "cell_type": "markdown",
   "id": "1ba19308-36a9-4dc5-893f-339fa941e568",
   "metadata": {},
   "source": [
    "### Quantity Column\n",
    "An integer representing multiple purchases of the same item"
   ]
  },
  {
   "cell_type": "code",
   "execution_count": null,
   "id": "cd9965cb-0cd5-40fe-b40f-28ad9f152d2d",
   "metadata": {},
   "outputs": [],
   "source": [
    "df.Quantity.value_counts(dropna=False)"
   ]
  },
  {
   "cell_type": "markdown",
   "id": "2f6747e4-960d-46a4-93bc-f6c0a9c0dbfc",
   "metadata": {},
   "source": [
    "There is one obvious typo as well as some large quantities that could be typos, but upon inspection, seem fine."
   ]
  },
  {
   "cell_type": "code",
   "execution_count": null,
   "id": "b7d14432-ef9a-4b75-b501-b8149d3f35d9",
   "metadata": {},
   "outputs": [],
   "source": [
    "df.loc[df.Quantity == '??', 'Quantity'] = 1 # fix typo\n",
    "\n",
    "# examine large quantities\n",
    "display(df[df.Quantity.isin([7, 8, 11, 12, 14, 15])])"
   ]
  },
  {
   "cell_type": "markdown",
   "id": "65a3b785-7a37-48fa-8c34-a7b336439ae0",
   "metadata": {},
   "source": [
    "The Quantity column data is sparse. To make future analysis easier, rows will be repeated according to their Quantity value. Each row will now represent a single item. Notice that this will expand the size of the data set."
   ]
  },
  {
   "cell_type": "code",
   "execution_count": null,
   "id": "84c59835-a3ba-411b-8b96-b339db90ff19",
   "metadata": {},
   "outputs": [],
   "source": [
    "print(f'{df.Quantity.fillna(1).sum() - df.shape[0]} rows added from expanding Quantity data.')\n",
    "df = df.loc[df.index.repeat(df.Quantity.fillna(1))]\n",
    "df = df.drop(columns='Quantity')"
   ]
  },
  {
   "cell_type": "markdown",
   "id": "b82a37a1-323e-4faa-a0ba-dc93f1175b55",
   "metadata": {},
   "source": [
    "### Hit Column & Miss Column\n",
    "Contains little to no data at this time and is dropped."
   ]
  },
  {
   "cell_type": "code",
   "execution_count": null,
   "id": "91aa2baa-abc3-467a-8b2c-d5b57437de56",
   "metadata": {},
   "outputs": [],
   "source": [
    "df = df.drop(columns=['Hit', 'Miss'])"
   ]
  },
  {
   "cell_type": "markdown",
   "id": "0fb059ed-14f4-44cc-b14f-8a3d8fc94afa",
   "metadata": {},
   "source": [
    "### Category Column\n",
    "Labels grocery by type."
   ]
  },
  {
   "cell_type": "code",
   "execution_count": null,
   "id": "a413a7d9-4801-4018-a089-0e6178a0f738",
   "metadata": {
    "tags": []
   },
   "outputs": [],
   "source": [
    "df.Category = df.Category.astype('string')\n",
    "df.Category.value_counts(dropna=False).head()"
   ]
  },
  {
   "cell_type": "markdown",
   "id": "b804caf4-d2d2-46f2-b96c-cda3a55b7cda",
   "metadata": {},
   "source": [
    "### Comment Column\n",
    "Contains miscellaneous notes from transcriber."
   ]
  },
  {
   "cell_type": "code",
   "execution_count": null,
   "id": "29c9255c-224f-4023-9761-eed4a158bf64",
   "metadata": {
    "tags": []
   },
   "outputs": [],
   "source": [
    "df.Comment.value_counts().head(10)"
   ]
  },
  {
   "cell_type": "code",
   "execution_count": null,
   "id": "9902d77e-ed45-4ae8-834c-f3e5d0ea90c7",
   "metadata": {
    "tags": []
   },
   "outputs": [],
   "source": [
    "display(df[df.Comment.str.contains(r'uncertain', na=False)].sample(25))"
   ]
  },
  {
   "cell_type": "markdown",
   "id": "8c4a0f7b-a69c-4e55-993e-b43e7d54d45f",
   "metadata": {},
   "source": [
    "\"Uncertain\" items seem useable, but \"repeated\" items are dropped."
   ]
  },
  {
   "cell_type": "code",
   "execution_count": null,
   "id": "3c73bedf-22c8-4401-81ef-793a84e0692b",
   "metadata": {},
   "outputs": [],
   "source": [
    "duplicate_mask = df.Comment.str.contains(r'duplicate|repeat', case=False, na=False)\n",
    "duplicate_drop_count = sum(duplicate_mask)\n",
    "df = df[~duplicate_mask]\n",
    "df.Comment = df.Comment.astype('string')\n",
    "print(f'{duplicate_drop_count} repeated rows.')"
   ]
  },
  {
   "cell_type": "markdown",
   "id": "d6355bca-4c64-48ce-a3d3-17a37f407144",
   "metadata": {},
   "source": [
    "### A Cleaned Data Set"
   ]
  },
  {
   "cell_type": "code",
   "execution_count": null,
   "id": "de904366-3a7b-4c73-a9b0-f273f2622d33",
   "metadata": {},
   "outputs": [],
   "source": [
    "df.info()"
   ]
  },
  {
   "cell_type": "code",
   "execution_count": null,
   "id": "157501e9-4f92-47b2-8df6-c5623e7da113",
   "metadata": {},
   "outputs": [],
   "source": [
    "total_drop = null_receipt_count + null_item_count + unknown_count + duplicate_drop_count\n",
    "print(f'Total row reduction: {total_drop} ({total_drop / initial_row_count:.0%})')"
   ]
  },
  {
   "cell_type": "code",
   "execution_count": null,
   "id": "bb7506dd-d5e3-4fc9-bf49-068888eb6af0",
   "metadata": {
    "tags": []
   },
   "outputs": [],
   "source": [
    "df = df.reset_index(drop=True)\n",
    "df.to_csv(f'{DATA_PATH}clean_{SHEET.lower()}.csv')"
   ]
  }
 ],
 "metadata": {
  "kernelspec": {
   "display_name": "Python 3 (ipykernel)",
   "language": "python",
   "name": "python3"
  },
  "language_info": {
   "codemirror_mode": {
    "name": "ipython",
    "version": 3
   },
   "file_extension": ".py",
   "mimetype": "text/x-python",
   "name": "python",
   "nbconvert_exporter": "python",
   "pygments_lexer": "ipython3",
   "version": "3.9.7"
  }
 },
 "nbformat": 4,
 "nbformat_minor": 5
}
