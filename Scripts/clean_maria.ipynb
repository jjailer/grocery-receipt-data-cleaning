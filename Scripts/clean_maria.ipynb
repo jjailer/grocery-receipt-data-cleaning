{
 "cells": [
  {
   "cell_type": "markdown",
   "id": "05ee76c9-16ea-4d08-9e45-9edb2908e0a6",
   "metadata": {},
   "source": [
    "## Cleaning Maria's Data Set\n",
    "Data columns are analyzed sequentially for missing values and typos. Missing values or otherwise unusable data is dropped. Cleaning effects are cumulative. Drop counts are recorded and an overall drop rate is presented at the end. Typos are fixed by inspection whenever possible.\n",
    "\n",
    "The key takeaway is that missing receipt values generates a large amount of unusable data."
   ]
  },
  {
   "cell_type": "code",
   "execution_count": 1,
   "id": "a9e61162-c983-455e-b627-b3ad92650863",
   "metadata": {},
   "outputs": [],
   "source": [
    "import re\n",
    "import datetime\n",
    "\n",
    "import pandas as pd"
   ]
  },
  {
   "cell_type": "code",
   "execution_count": 2,
   "id": "bc53a6c4-cc99-44c2-89d8-e38177a45241",
   "metadata": {
    "tags": []
   },
   "outputs": [
    {
     "name": "stderr",
     "output_type": "stream",
     "text": [
      "C:\\Users\\Joseph\\anaconda3\\lib\\site-packages\\openpyxl\\worksheet\\_reader.py:211: UserWarning: Cell D2858 is marked as a date but the serial value 6684137 is outside the limits for dates. The cell will be treated as an error.\n",
      "  warn(msg)\n"
     ]
    },
    {
     "name": "stdout",
     "output_type": "stream",
     "text": [
      "Wall time: 1.57 s\n"
     ]
    }
   ],
   "source": [
    "%%time\n",
    "DATA_PATH = '../Data/'\n",
    "FILE_NAME = 'Max, Samantha, Maria data.xlsx'\n",
    "SHEET = 'Maria'\n",
    "\n",
    "df = pd.read_excel(DATA_PATH + FILE_NAME, sheet_name=SHEET)\n",
    "initial_row_count = df.shape[0] # used at the end to compute drop rate"
   ]
  },
  {
   "cell_type": "markdown",
   "id": "31cf0fdf-8e34-4b83-9e0c-4e8e7c4cf5eb",
   "metadata": {},
   "source": [
    "First, column names are standardized with other data sets to provide consistency and readability. The coupon column is dropped because it provides little information overall and is entirely absent from Max's data set."
   ]
  },
  {
   "cell_type": "code",
   "execution_count": 3,
   "id": "7c363eab-54d4-488f-8ece-d16801dcf21e",
   "metadata": {
    "tags": []
   },
   "outputs": [
    {
     "name": "stdout",
     "output_type": "stream",
     "text": [
      "<class 'pandas.core.frame.DataFrame'>\n",
      "RangeIndex: 4324 entries, 0 to 4323\n",
      "Data columns (total 13 columns):\n",
      " #   Column     Non-Null Count  Dtype  \n",
      "---  ------     --------------  -----  \n",
      " 0   ID         4324 non-null   int64  \n",
      " 1   Session    4324 non-null   int64  \n",
      " 2   Receipt    2159 non-null   float64\n",
      " 3   Date       2855 non-null   object \n",
      " 4   Item       4314 non-null   object \n",
      " 5   Item2      10 non-null     float64\n",
      " 6   Uncertain  52 non-null     object \n",
      " 7   Unknown    95 non-null     object \n",
      " 8   Quantity   851 non-null    float64\n",
      " 9   Hit        0 non-null      float64\n",
      " 10  Miss       0 non-null      float64\n",
      " 11  Category   4173 non-null   object \n",
      " 12  Comment    195 non-null    object \n",
      "dtypes: float64(5), int64(2), object(6)\n",
      "memory usage: 439.3+ KB\n"
     ]
    }
   ],
   "source": [
    "df = df.drop(columns='coupon') \n",
    "column_names = ['ID', 'Session', 'Receipt', 'Date', 'Item', 'Item2', 'Uncertain', \n",
    "                'Unknown', 'Quantity', 'Hit', 'Miss', 'Category', 'Comment']\n",
    "df.columns = column_names\n",
    "df.info()"
   ]
  },
  {
   "cell_type": "markdown",
   "id": "4715eb97-ad3b-4494-9fd9-8af4f79426b7",
   "metadata": {
    "tags": []
   },
   "source": [
    "### ID Column\n",
    "Participant identification numbers. Maria was assigned particpants identified by 128, 134, 143, 146, 150, 154, 159, 110, 115, and 119. Additionally, all three transcribers were assigned the collection 121, 114, 137, 153, 141, 127, 130, 135, 148, and 158, to control for errors."
   ]
  },
  {
   "cell_type": "code",
   "execution_count": 4,
   "id": "9375f48f-440a-4988-a932-986ec5e4800b",
   "metadata": {
    "tags": []
   },
   "outputs": [
    {
     "name": "stdout",
     "output_type": "stream",
     "text": [
      "set()\n"
     ]
    }
   ],
   "source": [
    "df.ID = df.ID.astype('uint8') # memory saving conversion\n",
    "\n",
    "pids_assigned = ({128, 134, 143, 146, 150, 154, 159, 110, 115, 119} |\n",
    "                 {121, 114, 137, 153, 141, 127, 130, 135, 148, 158})\n",
    "\n",
    "print(set(df.ID.unique()) ^ pids_assigned)"
   ]
  },
  {
   "cell_type": "markdown",
   "id": "552a8159-75d8-4377-aa9c-d5d37939a3be",
   "metadata": {},
   "source": [
    "All assigned participants are accounted for."
   ]
  },
  {
   "cell_type": "markdown",
   "id": "055cd23b-59bd-4f80-8cbf-e12bf50b6afd",
   "metadata": {},
   "source": [
    "### Session Column\n",
    "A record of when the transcription was preformed. Transcription was divided into 6 sessions."
   ]
  },
  {
   "cell_type": "code",
   "execution_count": 5,
   "id": "2752d25c-ae3a-464d-a4c4-ca20f8161909",
   "metadata": {
    "tags": []
   },
   "outputs": [],
   "source": [
    "df.Session = df.Session.astype('uint8') # memory saving conversion\n",
    "\n",
    "valid_sessions = [1, 2, 3, 4, 5, 6]\n",
    "\n",
    "assert df.Session.isin(valid_sessions).all() "
   ]
  },
  {
   "cell_type": "markdown",
   "id": "8f12540f-1c64-4226-870a-204e3b0bfa80",
   "metadata": {},
   "source": [
    "### Receipt Column\n",
    "Enumeration of grocery receipts per session. df.info() has shown the existence of missing values, which must be dropped as distinguishing between different receipts is essential to this data set."
   ]
  },
  {
   "cell_type": "code",
   "execution_count": 6,
   "id": "8b95cdee-b1db-4cc2-8cb0-c52f73484ef7",
   "metadata": {
    "tags": []
   },
   "outputs": [
    {
     "name": "stdout",
     "output_type": "stream",
     "text": [
      "2165 rows missing Receipt values.\n"
     ]
    }
   ],
   "source": [
    "null_receipt_count = df.Receipt.isna().sum()\n",
    "print(f'{null_receipt_count} rows missing Receipt values.')\n",
    "df = df[df.Receipt.notna()]"
   ]
  },
  {
   "cell_type": "markdown",
   "id": "0c20f814-a092-4487-8033-d5e78ba8cb47",
   "metadata": {},
   "source": [
    "This is a very large discard of data. Attributing additional receipt values would greatly increase the quantity of usable data. Next, typos are discovered by examining discontinuities in the enumeration."
   ]
  },
  {
   "cell_type": "code",
   "execution_count": 7,
   "id": "ac3c7ee4-f009-4d28-b44d-28da2308cec2",
   "metadata": {
    "tags": []
   },
   "outputs": [
    {
     "name": "stdout",
     "output_type": "stream",
     "text": [
      "(ID, Session): [Receipts]\n",
      "(137, 1): [1, 11, 2]\n",
      "(119, 6): [2, 3, 4, 5]\n",
      "(130, 2): [1, 5, 2, 3, 4]\n"
     ]
    }
   ],
   "source": [
    "df.Receipt = df.Receipt.astype('uint8') # memory saving conversion\n",
    "\n",
    "print('(ID, Session): [Receipts]')\n",
    "for pid in df.ID.unique():\n",
    "    for session in df.loc[df.ID == pid, 'Session'].unique():\n",
    "        receipt_numbers = list(df.loc[(df.ID == pid) & (df.Session == session), 'Receipt'].unique())\n",
    "        if receipt_numbers != list(range(1, len(receipt_numbers) + 1)):\n",
    "            print(f'({pid}, {session}):', receipt_numbers)"
   ]
  },
  {
   "cell_type": "markdown",
   "id": "b11ba34a-6e59-4614-bf2e-e07382effab2",
   "metadata": {},
   "source": [
    "The tuple (119, 6, 1) refers to an empty receipt and so it's absence is correct. The other two discontinuities correctly indentify typos, which are fixed by inspection."
   ]
  },
  {
   "cell_type": "code",
   "execution_count": 8,
   "id": "b16fe54d-fc77-435d-ba42-21abd2063963",
   "metadata": {},
   "outputs": [],
   "source": [
    "typo_date = datetime.date(2020, 8, 3)\n",
    "df.loc[(df.ID == 137) & (df.Receipt == 11), 'Receipt'] = 1\n",
    "df.loc[(df.ID == 130) & (df.Session == 2) & (df.Date == typo_date), 'Receipt'] = 1"
   ]
  },
  {
   "cell_type": "markdown",
   "id": "57c207fc-3faa-46ca-9745-b05c8be091c2",
   "metadata": {},
   "source": [
    "### Date Column\n",
    "Records purchase date on receipt if available. The approximate date range for data collection is 5/1/2020 to 12/31/2020."
   ]
  },
  {
   "cell_type": "code",
   "execution_count": 9,
   "id": "de401015-eaf6-40dc-aea0-0dc04302649b",
   "metadata": {
    "tags": []
   },
   "outputs": [
    {
     "data": {
      "text/html": [
       "<div>\n",
       "<style scoped>\n",
       "    .dataframe tbody tr th:only-of-type {\n",
       "        vertical-align: middle;\n",
       "    }\n",
       "\n",
       "    .dataframe tbody tr th {\n",
       "        vertical-align: top;\n",
       "    }\n",
       "\n",
       "    .dataframe thead th {\n",
       "        text-align: right;\n",
       "    }\n",
       "</style>\n",
       "<table border=\"1\" class=\"dataframe\">\n",
       "  <thead>\n",
       "    <tr style=\"text-align: right;\">\n",
       "      <th></th>\n",
       "      <th>ID</th>\n",
       "      <th>Session</th>\n",
       "      <th>Receipt</th>\n",
       "      <th>Date</th>\n",
       "      <th>Item</th>\n",
       "      <th>Item2</th>\n",
       "      <th>Uncertain</th>\n",
       "      <th>Unknown</th>\n",
       "      <th>Quantity</th>\n",
       "      <th>Hit</th>\n",
       "      <th>Miss</th>\n",
       "      <th>Category</th>\n",
       "      <th>Comment</th>\n",
       "    </tr>\n",
       "  </thead>\n",
       "  <tbody>\n",
       "    <tr>\n",
       "      <th>3472</th>\n",
       "      <td>130</td>\n",
       "      <td>5</td>\n",
       "      <td>3</td>\n",
       "      <td>2002-09-21</td>\n",
       "      <td>carrots</td>\n",
       "      <td>NaN</td>\n",
       "      <td>NaN</td>\n",
       "      <td>NaN</td>\n",
       "      <td>NaN</td>\n",
       "      <td>NaN</td>\n",
       "      <td>NaN</td>\n",
       "      <td>vegetable</td>\n",
       "      <td>NaN</td>\n",
       "    </tr>\n",
       "  </tbody>\n",
       "</table>\n",
       "</div>"
      ],
      "text/plain": [
       "       ID  Session  Receipt       Date     Item  Item2 Uncertain Unknown  \\\n",
       "3472  130        5        3 2002-09-21  carrots    NaN       NaN     NaN   \n",
       "\n",
       "      Quantity  Hit  Miss   Category Comment  \n",
       "3472       NaN  NaN   NaN  vegetable     NaN  "
      ]
     },
     "execution_count": 9,
     "metadata": {},
     "output_type": "execute_result"
    }
   ],
   "source": [
    "# conversion hack to datetime while discarding time component\n",
    "df.Date = pd.to_datetime(df.Date, errors='coerce').dt.date.astype('datetime64')\n",
    "\n",
    "df[~df.Date.between(datetime.datetime(2020, 5, 1), datetime.datetime(2020, 12, 31))].dropna(subset=['Date'])"
   ]
  },
  {
   "cell_type": "markdown",
   "id": "3d1613f5-dffb-4269-b3f7-9376956c64ab",
   "metadata": {},
   "source": [
    "A single date appears outside the expected range. It is corrected by inspection."
   ]
  },
  {
   "cell_type": "code",
   "execution_count": 10,
   "id": "cde39747-3ecb-44d1-b462-0185a1a653a7",
   "metadata": {},
   "outputs": [],
   "source": [
    "df.loc[df.Date == datetime.datetime(2002, 9, 21), 'Date'] = datetime.datetime(2020, 9, 21)\n",
    "\n",
    "# some date typos that were discovered in a separate analysis, \n",
    "# but are now discarded by prior cleaning operations\n",
    "#df.loc[df.Date == datetime.datetime(2002, 9, 10), 'Date'] = datetime.datetime(2020, 9, 10)\n",
    "#df.loc[df.Date == datetime.datetime(2020, 4, 6), 'Date'] = datetime.datetime(2020, 6, 4)\n",
    "#df.loc[df.Date == datetime.datetime(2020, 1, 7), 'Date'] = datetime.datetime(2020, 7, 1)\n",
    "\n",
    "assert df.Date.dropna().between(datetime.datetime(2020, 5, 1), datetime.datetime(2020, 12, 31)).all()"
   ]
  },
  {
   "cell_type": "markdown",
   "id": "0bd91d7e-07a5-4f34-a968-e70fe189d1b2",
   "metadata": {
    "tags": []
   },
   "source": [
    "### Item Column\n",
    "A description of a grocery as string formatted as \"ITEM (MODIFIER)\". Item descriptions are essential data and unidentifiable items are unusable."
   ]
  },
  {
   "cell_type": "code",
   "execution_count": 11,
   "id": "a591dd21-7723-4704-9c96-cb59e0abe910",
   "metadata": {},
   "outputs": [
    {
     "data": {
      "text/plain": [
       "strawberries            41\n",
       "bananas                 38\n",
       "blueberries             31\n",
       "eggs                    24\n",
       "cucumbers               22\n",
       "raspberries             21\n",
       "milk                    20\n",
       "ice cream               18\n",
       "peaches                 16\n",
       "orange bell peppers     15\n",
       "heavy whipping cream    14\n",
       "cereal                  13\n",
       "spring water            13\n",
       "potatoes                13\n",
       "oranges                 13\n",
       "strawberry              12\n",
       "sparkling water         11\n",
       "bread                   11\n",
       "tuna                    10\n",
       "NaN                     10\n",
       "Name: Item, dtype: Int64"
      ]
     },
     "execution_count": 11,
     "metadata": {},
     "output_type": "execute_result"
    }
   ],
   "source": [
    "df.Item = df.Item.str.lower().str.strip().astype('string') # lowercase and strip white space\n",
    "df.Item.value_counts(dropna=False).head(20)"
   ]
  },
  {
   "cell_type": "markdown",
   "id": "1a3b9384-7f8c-4c95-a24a-a0b847f7e64f",
   "metadata": {},
   "source": [
    "10 null items to be dropped."
   ]
  },
  {
   "cell_type": "code",
   "execution_count": 12,
   "id": "97dbfbfe-74aa-4ae9-85f6-595b602543e7",
   "metadata": {},
   "outputs": [
    {
     "name": "stdout",
     "output_type": "stream",
     "text": [
      "Additional items containing null-like language:\n"
     ]
    },
    {
     "data": {
      "text/html": [
       "<div>\n",
       "<style scoped>\n",
       "    .dataframe tbody tr th:only-of-type {\n",
       "        vertical-align: middle;\n",
       "    }\n",
       "\n",
       "    .dataframe tbody tr th {\n",
       "        vertical-align: top;\n",
       "    }\n",
       "\n",
       "    .dataframe thead th {\n",
       "        text-align: right;\n",
       "    }\n",
       "</style>\n",
       "<table border=\"1\" class=\"dataframe\">\n",
       "  <thead>\n",
       "    <tr style=\"text-align: right;\">\n",
       "      <th></th>\n",
       "      <th>ID</th>\n",
       "      <th>Session</th>\n",
       "      <th>Receipt</th>\n",
       "      <th>Date</th>\n",
       "      <th>Item</th>\n",
       "      <th>Item2</th>\n",
       "      <th>Uncertain</th>\n",
       "      <th>Unknown</th>\n",
       "      <th>Quantity</th>\n",
       "      <th>Hit</th>\n",
       "      <th>Miss</th>\n",
       "      <th>Category</th>\n",
       "      <th>Comment</th>\n",
       "    </tr>\n",
       "  </thead>\n",
       "  <tbody>\n",
       "    <tr>\n",
       "      <th>2842</th>\n",
       "      <td>119</td>\n",
       "      <td>3</td>\n",
       "      <td>2</td>\n",
       "      <td>2020-07-17</td>\n",
       "      <td>unknown</td>\n",
       "      <td>NaN</td>\n",
       "      <td>NaN</td>\n",
       "      <td>x</td>\n",
       "      <td>NaN</td>\n",
       "      <td>NaN</td>\n",
       "      <td>NaN</td>\n",
       "      <td>NaN</td>\n",
       "      <td>walmart</td>\n",
       "    </tr>\n",
       "  </tbody>\n",
       "</table>\n",
       "</div>"
      ],
      "text/plain": [
       "       ID  Session  Receipt       Date     Item  Item2 Uncertain Unknown  \\\n",
       "2842  119        3        2 2020-07-17  unknown    NaN       NaN       x   \n",
       "\n",
       "      Quantity  Hit  Miss Category  Comment  \n",
       "2842       NaN  NaN   NaN      NaN  walmart  "
      ]
     },
     "metadata": {},
     "output_type": "display_data"
    },
    {
     "name": "stdout",
     "output_type": "stream",
     "text": [
      "11 null item descriptions.\n"
     ]
    }
   ],
   "source": [
    "NULL_ITEM_DESC = r'unknown|n/a|missing'\n",
    "null_item_count = df.Item.str.contains(NULL_ITEM_DESC).sum() + df.Item.isna().sum()\n",
    "print('Additional items containing null-like language:')\n",
    "display(df[df.Item.str.contains(NULL_ITEM_DESC)])\n",
    "\n",
    "df = df[df.Item.notna()]\n",
    "df = df[~df.Item.str.contains(NULL_ITEM_DESC)]\n",
    "print(f'{null_item_count} null item descriptions.')"
   ]
  },
  {
   "cell_type": "markdown",
   "id": "b2ebba61-d7a5-4ace-ace5-195524e3ba01",
   "metadata": {},
   "source": [
    "### Item2 Column\n",
    "Provides additional description of the grocery, but is too sparse to be useful."
   ]
  },
  {
   "cell_type": "code",
   "execution_count": 13,
   "id": "ee2c91c9-5f8d-4d0b-a76e-eea7c2251573",
   "metadata": {},
   "outputs": [],
   "source": [
    "df = df.drop(columns='Item2')"
   ]
  },
  {
   "cell_type": "markdown",
   "id": "72ad00c2-0dc0-4e2c-a2c6-ae4a28949e75",
   "metadata": {},
   "source": [
    "### Uncertain Column\n",
    "Denotes low confidence in transcription."
   ]
  },
  {
   "cell_type": "code",
   "execution_count": 14,
   "id": "0a52d8c6-2c62-433e-adff-f30952e2e205",
   "metadata": {
    "tags": []
   },
   "outputs": [
    {
     "data": {
      "text/html": [
       "<div>\n",
       "<style scoped>\n",
       "    .dataframe tbody tr th:only-of-type {\n",
       "        vertical-align: middle;\n",
       "    }\n",
       "\n",
       "    .dataframe tbody tr th {\n",
       "        vertical-align: top;\n",
       "    }\n",
       "\n",
       "    .dataframe thead th {\n",
       "        text-align: right;\n",
       "    }\n",
       "</style>\n",
       "<table border=\"1\" class=\"dataframe\">\n",
       "  <thead>\n",
       "    <tr style=\"text-align: right;\">\n",
       "      <th></th>\n",
       "      <th>ID</th>\n",
       "      <th>Session</th>\n",
       "      <th>Receipt</th>\n",
       "      <th>Date</th>\n",
       "      <th>Item</th>\n",
       "      <th>Uncertain</th>\n",
       "      <th>Unknown</th>\n",
       "      <th>Quantity</th>\n",
       "      <th>Hit</th>\n",
       "      <th>Miss</th>\n",
       "      <th>Category</th>\n",
       "      <th>Comment</th>\n",
       "    </tr>\n",
       "  </thead>\n",
       "  <tbody>\n",
       "    <tr>\n",
       "      <th>1079</th>\n",
       "      <td>135</td>\n",
       "      <td>1</td>\n",
       "      <td>2</td>\n",
       "      <td>NaT</td>\n",
       "      <td>razor</td>\n",
       "      <td>x</td>\n",
       "      <td>NaN</td>\n",
       "      <td>NaN</td>\n",
       "      <td>NaN</td>\n",
       "      <td>NaN</td>\n",
       "      <td>NaN</td>\n",
       "      <td>NaN</td>\n",
       "    </tr>\n",
       "    <tr>\n",
       "      <th>1144</th>\n",
       "      <td>135</td>\n",
       "      <td>2</td>\n",
       "      <td>6</td>\n",
       "      <td>NaT</td>\n",
       "      <td>wrthr og hrd</td>\n",
       "      <td>x</td>\n",
       "      <td>NaN</td>\n",
       "      <td>NaN</td>\n",
       "      <td>NaN</td>\n",
       "      <td>NaN</td>\n",
       "      <td>NaN</td>\n",
       "      <td>NaN</td>\n",
       "    </tr>\n",
       "    <tr>\n",
       "      <th>1168</th>\n",
       "      <td>135</td>\n",
       "      <td>2</td>\n",
       "      <td>8</td>\n",
       "      <td>2020-08-14</td>\n",
       "      <td>tetro</td>\n",
       "      <td>x</td>\n",
       "      <td>NaN</td>\n",
       "      <td>NaN</td>\n",
       "      <td>NaN</td>\n",
       "      <td>NaN</td>\n",
       "      <td>NaN</td>\n",
       "      <td>NaN</td>\n",
       "    </tr>\n",
       "    <tr>\n",
       "      <th>2795</th>\n",
       "      <td>119</td>\n",
       "      <td>2</td>\n",
       "      <td>1</td>\n",
       "      <td>NaT</td>\n",
       "      <td>catfish nugget</td>\n",
       "      <td>x</td>\n",
       "      <td>NaN</td>\n",
       "      <td>NaN</td>\n",
       "      <td>NaN</td>\n",
       "      <td>NaN</td>\n",
       "      <td>fastfood</td>\n",
       "      <td>NaN</td>\n",
       "    </tr>\n",
       "    <tr>\n",
       "      <th>3240</th>\n",
       "      <td>130</td>\n",
       "      <td>1</td>\n",
       "      <td>5</td>\n",
       "      <td>2020-07-25</td>\n",
       "      <td>frosting</td>\n",
       "      <td>x</td>\n",
       "      <td>NaN</td>\n",
       "      <td>NaN</td>\n",
       "      <td>NaN</td>\n",
       "      <td>NaN</td>\n",
       "      <td>dessert</td>\n",
       "      <td>NaN</td>\n",
       "    </tr>\n",
       "    <tr>\n",
       "      <th>3244</th>\n",
       "      <td>130</td>\n",
       "      <td>1</td>\n",
       "      <td>5</td>\n",
       "      <td>2020-07-28</td>\n",
       "      <td>odor relief</td>\n",
       "      <td>x</td>\n",
       "      <td>NaN</td>\n",
       "      <td>NaN</td>\n",
       "      <td>NaN</td>\n",
       "      <td>NaN</td>\n",
       "      <td>NaN</td>\n",
       "      <td>NaN</td>\n",
       "    </tr>\n",
       "    <tr>\n",
       "      <th>3647</th>\n",
       "      <td>127</td>\n",
       "      <td>5</td>\n",
       "      <td>3</td>\n",
       "      <td>2020-08-13</td>\n",
       "      <td>half moon</td>\n",
       "      <td>x</td>\n",
       "      <td>NaN</td>\n",
       "      <td>NaN</td>\n",
       "      <td>NaN</td>\n",
       "      <td>NaN</td>\n",
       "      <td>NaN</td>\n",
       "      <td>Grocery store unknwon</td>\n",
       "    </tr>\n",
       "  </tbody>\n",
       "</table>\n",
       "</div>"
      ],
      "text/plain": [
       "       ID  Session  Receipt       Date            Item Uncertain Unknown  \\\n",
       "1079  135        1        2        NaT           razor         x     NaN   \n",
       "1144  135        2        6        NaT    wrthr og hrd         x     NaN   \n",
       "1168  135        2        8 2020-08-14           tetro         x     NaN   \n",
       "2795  119        2        1        NaT  catfish nugget         x     NaN   \n",
       "3240  130        1        5 2020-07-25        frosting         x     NaN   \n",
       "3244  130        1        5 2020-07-28     odor relief         x     NaN   \n",
       "3647  127        5        3 2020-08-13       half moon         x     NaN   \n",
       "\n",
       "      Quantity  Hit  Miss  Category                Comment  \n",
       "1079       NaN  NaN   NaN       NaN                    NaN  \n",
       "1144       NaN  NaN   NaN       NaN                    NaN  \n",
       "1168       NaN  NaN   NaN       NaN                    NaN  \n",
       "2795       NaN  NaN   NaN  fastfood                    NaN  \n",
       "3240       NaN  NaN   NaN   dessert                    NaN  \n",
       "3244       NaN  NaN   NaN       NaN                    NaN  \n",
       "3647       NaN  NaN   NaN       NaN  Grocery store unknwon  "
      ]
     },
     "metadata": {},
     "output_type": "display_data"
    }
   ],
   "source": [
    "display(df[df.Uncertain.notna()])"
   ]
  },
  {
   "cell_type": "markdown",
   "id": "a660f2b4-8659-4321-a659-c502d428b118",
   "metadata": {},
   "source": [
    "The transcription quality seems low and will be dropped."
   ]
  },
  {
   "cell_type": "code",
   "execution_count": 15,
   "id": "2dd6d1a0-853e-4b7e-b419-334b130047be",
   "metadata": {},
   "outputs": [
    {
     "name": "stdout",
     "output_type": "stream",
     "text": [
      "7 rows with high uncertainty.\n"
     ]
    }
   ],
   "source": [
    "uncertain_count = df.Uncertain.notna().sum()\n",
    "df = df[df.Uncertain.isna()]\n",
    "df = df.drop(columns='Uncertain')\n",
    "print(f'{uncertain_count} rows with high uncertainty.')"
   ]
  },
  {
   "cell_type": "markdown",
   "id": "96c19a91-574b-48e1-a03f-20a5906293a1",
   "metadata": {},
   "source": [
    "### Unknown Column\n",
    "Denotes very low confidence in transcription."
   ]
  },
  {
   "cell_type": "code",
   "execution_count": 16,
   "id": "0cc24ea4-225a-4fe6-9fbf-a034a27f8cde",
   "metadata": {
    "tags": []
   },
   "outputs": [
    {
     "data": {
      "text/html": [
       "<div>\n",
       "<style scoped>\n",
       "    .dataframe tbody tr th:only-of-type {\n",
       "        vertical-align: middle;\n",
       "    }\n",
       "\n",
       "    .dataframe tbody tr th {\n",
       "        vertical-align: top;\n",
       "    }\n",
       "\n",
       "    .dataframe thead th {\n",
       "        text-align: right;\n",
       "    }\n",
       "</style>\n",
       "<table border=\"1\" class=\"dataframe\">\n",
       "  <thead>\n",
       "    <tr style=\"text-align: right;\">\n",
       "      <th></th>\n",
       "      <th>ID</th>\n",
       "      <th>Session</th>\n",
       "      <th>Receipt</th>\n",
       "      <th>Date</th>\n",
       "      <th>Item</th>\n",
       "      <th>Unknown</th>\n",
       "      <th>Quantity</th>\n",
       "      <th>Hit</th>\n",
       "      <th>Miss</th>\n",
       "      <th>Category</th>\n",
       "      <th>Comment</th>\n",
       "    </tr>\n",
       "  </thead>\n",
       "  <tbody>\n",
       "    <tr>\n",
       "      <th>858</th>\n",
       "      <td>159</td>\n",
       "      <td>3</td>\n",
       "      <td>3</td>\n",
       "      <td>NaT</td>\n",
       "      <td>conventional</td>\n",
       "      <td>x</td>\n",
       "      <td>2.0</td>\n",
       "      <td>NaN</td>\n",
       "      <td>NaN</td>\n",
       "      <td>NaN</td>\n",
       "      <td>NaN</td>\n",
       "    </tr>\n",
       "    <tr>\n",
       "      <th>859</th>\n",
       "      <td>159</td>\n",
       "      <td>3</td>\n",
       "      <td>3</td>\n",
       "      <td>NaT</td>\n",
       "      <td>masculine bi</td>\n",
       "      <td>x</td>\n",
       "      <td>2.0</td>\n",
       "      <td>NaN</td>\n",
       "      <td>NaN</td>\n",
       "      <td>NaN</td>\n",
       "      <td>NaN</td>\n",
       "    </tr>\n",
       "    <tr>\n",
       "      <th>1105</th>\n",
       "      <td>135</td>\n",
       "      <td>1</td>\n",
       "      <td>4</td>\n",
       "      <td>NaT</td>\n",
       "      <td>cg tg tl</td>\n",
       "      <td>x</td>\n",
       "      <td>NaN</td>\n",
       "      <td>NaN</td>\n",
       "      <td>NaN</td>\n",
       "      <td>NaN</td>\n",
       "      <td>NaN</td>\n",
       "    </tr>\n",
       "    <tr>\n",
       "      <th>1106</th>\n",
       "      <td>135</td>\n",
       "      <td>1</td>\n",
       "      <td>4</td>\n",
       "      <td>NaT</td>\n",
       "      <td>sct 1000</td>\n",
       "      <td>x</td>\n",
       "      <td>NaN</td>\n",
       "      <td>NaN</td>\n",
       "      <td>NaN</td>\n",
       "      <td>NaN</td>\n",
       "      <td>NaN</td>\n",
       "    </tr>\n",
       "    <tr>\n",
       "      <th>1107</th>\n",
       "      <td>135</td>\n",
       "      <td>1</td>\n",
       "      <td>4</td>\n",
       "      <td>NaT</td>\n",
       "      <td>tr cn smth28</td>\n",
       "      <td>x</td>\n",
       "      <td>NaN</td>\n",
       "      <td>NaN</td>\n",
       "      <td>NaN</td>\n",
       "      <td>NaN</td>\n",
       "      <td>NaN</td>\n",
       "    </tr>\n",
       "    <tr>\n",
       "      <th>1382</th>\n",
       "      <td>137</td>\n",
       "      <td>4</td>\n",
       "      <td>2</td>\n",
       "      <td>2020-09-14</td>\n",
       "      <td>the original em</td>\n",
       "      <td>x</td>\n",
       "      <td>2.0</td>\n",
       "      <td>NaN</td>\n",
       "      <td>NaN</td>\n",
       "      <td>NaN</td>\n",
       "      <td>NaN</td>\n",
       "    </tr>\n",
       "    <tr>\n",
       "      <th>2474</th>\n",
       "      <td>128</td>\n",
       "      <td>1</td>\n",
       "      <td>5</td>\n",
       "      <td>NaT</td>\n",
       "      <td>organic preserves</td>\n",
       "      <td>x</td>\n",
       "      <td>NaN</td>\n",
       "      <td>NaN</td>\n",
       "      <td>NaN</td>\n",
       "      <td>NaN</td>\n",
       "      <td>NaN</td>\n",
       "    </tr>\n",
       "    <tr>\n",
       "      <th>2488</th>\n",
       "      <td>128</td>\n",
       "      <td>1</td>\n",
       "      <td>7</td>\n",
       "      <td>NaT</td>\n",
       "      <td>morsh</td>\n",
       "      <td>x</td>\n",
       "      <td>2.0</td>\n",
       "      <td>NaN</td>\n",
       "      <td>NaN</td>\n",
       "      <td>NaN</td>\n",
       "      <td>I am not sure about this item</td>\n",
       "    </tr>\n",
       "    <tr>\n",
       "      <th>2489</th>\n",
       "      <td>128</td>\n",
       "      <td>1</td>\n",
       "      <td>7</td>\n",
       "      <td>NaT</td>\n",
       "      <td>cfl</td>\n",
       "      <td>x</td>\n",
       "      <td>2.0</td>\n",
       "      <td>NaN</td>\n",
       "      <td>NaN</td>\n",
       "      <td>NaN</td>\n",
       "      <td>NaN</td>\n",
       "    </tr>\n",
       "    <tr>\n",
       "      <th>2490</th>\n",
       "      <td>128</td>\n",
       "      <td>1</td>\n",
       "      <td>7</td>\n",
       "      <td>NaT</td>\n",
       "      <td>amer</td>\n",
       "      <td>x</td>\n",
       "      <td>NaN</td>\n",
       "      <td>NaN</td>\n",
       "      <td>NaN</td>\n",
       "      <td>NaN</td>\n",
       "      <td>NaN</td>\n",
       "    </tr>\n",
       "    <tr>\n",
       "      <th>2504</th>\n",
       "      <td>128</td>\n",
       "      <td>1</td>\n",
       "      <td>8</td>\n",
       "      <td>NaT</td>\n",
       "      <td>organic preserves</td>\n",
       "      <td>x</td>\n",
       "      <td>NaN</td>\n",
       "      <td>NaN</td>\n",
       "      <td>NaN</td>\n",
       "      <td>NaN</td>\n",
       "      <td>NaN</td>\n",
       "    </tr>\n",
       "    <tr>\n",
       "      <th>2510</th>\n",
       "      <td>128</td>\n",
       "      <td>2</td>\n",
       "      <td>2</td>\n",
       "      <td>NaT</td>\n",
       "      <td>bp hd bf bs</td>\n",
       "      <td>x</td>\n",
       "      <td>NaN</td>\n",
       "      <td>NaN</td>\n",
       "      <td>NaN</td>\n",
       "      <td>NaN</td>\n",
       "      <td>NaN</td>\n",
       "    </tr>\n",
       "    <tr>\n",
       "      <th>2511</th>\n",
       "      <td>128</td>\n",
       "      <td>2</td>\n",
       "      <td>2</td>\n",
       "      <td>NaT</td>\n",
       "      <td>hfut vp ortk</td>\n",
       "      <td>x</td>\n",
       "      <td>NaN</td>\n",
       "      <td>NaN</td>\n",
       "      <td>NaN</td>\n",
       "      <td>NaN</td>\n",
       "      <td>NaN</td>\n",
       "    </tr>\n",
       "    <tr>\n",
       "      <th>2514</th>\n",
       "      <td>128</td>\n",
       "      <td>2</td>\n",
       "      <td>2</td>\n",
       "      <td>NaT</td>\n",
       "      <td>vancarm</td>\n",
       "      <td>x</td>\n",
       "      <td>NaN</td>\n",
       "      <td>NaN</td>\n",
       "      <td>NaN</td>\n",
       "      <td>NaN</td>\n",
       "      <td>NaN</td>\n",
       "    </tr>\n",
       "    <tr>\n",
       "      <th>2521</th>\n",
       "      <td>128</td>\n",
       "      <td>2</td>\n",
       "      <td>2</td>\n",
       "      <td>NaT</td>\n",
       "      <td>100 ct cb</td>\n",
       "      <td>x</td>\n",
       "      <td>2.0</td>\n",
       "      <td>NaN</td>\n",
       "      <td>NaN</td>\n",
       "      <td>NaN</td>\n",
       "      <td>NaN</td>\n",
       "    </tr>\n",
       "    <tr>\n",
       "      <th>2542</th>\n",
       "      <td>128</td>\n",
       "      <td>2</td>\n",
       "      <td>5</td>\n",
       "      <td>NaT</td>\n",
       "      <td>gb</td>\n",
       "      <td>x</td>\n",
       "      <td>NaN</td>\n",
       "      <td>NaN</td>\n",
       "      <td>NaN</td>\n",
       "      <td>NaN</td>\n",
       "      <td>NaN</td>\n",
       "    </tr>\n",
       "    <tr>\n",
       "      <th>2548</th>\n",
       "      <td>128</td>\n",
       "      <td>2</td>\n",
       "      <td>5</td>\n",
       "      <td>NaT</td>\n",
       "      <td>great value</td>\n",
       "      <td>x</td>\n",
       "      <td>NaN</td>\n",
       "      <td>NaN</td>\n",
       "      <td>NaN</td>\n",
       "      <td>NaN</td>\n",
       "      <td>NaN</td>\n",
       "    </tr>\n",
       "    <tr>\n",
       "      <th>2552</th>\n",
       "      <td>128</td>\n",
       "      <td>2</td>\n",
       "      <td>6</td>\n",
       "      <td>NaT</td>\n",
       "      <td>morsh</td>\n",
       "      <td>x</td>\n",
       "      <td>2.0</td>\n",
       "      <td>NaN</td>\n",
       "      <td>NaN</td>\n",
       "      <td>NaN</td>\n",
       "      <td>NaN</td>\n",
       "    </tr>\n",
       "    <tr>\n",
       "      <th>2568</th>\n",
       "      <td>128</td>\n",
       "      <td>3</td>\n",
       "      <td>1</td>\n",
       "      <td>NaT</td>\n",
       "      <td>kaj 30 pk</td>\n",
       "      <td>x</td>\n",
       "      <td>NaN</td>\n",
       "      <td>NaN</td>\n",
       "      <td>NaN</td>\n",
       "      <td>NaN</td>\n",
       "      <td>NaN</td>\n",
       "    </tr>\n",
       "    <tr>\n",
       "      <th>2569</th>\n",
       "      <td>128</td>\n",
       "      <td>3</td>\n",
       "      <td>1</td>\n",
       "      <td>NaT</td>\n",
       "      <td>8/100 fil c</td>\n",
       "      <td>x</td>\n",
       "      <td>NaN</td>\n",
       "      <td>NaN</td>\n",
       "      <td>NaN</td>\n",
       "      <td>NaN</td>\n",
       "      <td>NaN</td>\n",
       "    </tr>\n",
       "    <tr>\n",
       "      <th>2571</th>\n",
       "      <td>128</td>\n",
       "      <td>3</td>\n",
       "      <td>1</td>\n",
       "      <td>NaT</td>\n",
       "      <td>gv colomb</td>\n",
       "      <td>x</td>\n",
       "      <td>NaN</td>\n",
       "      <td>NaN</td>\n",
       "      <td>NaN</td>\n",
       "      <td>NaN</td>\n",
       "      <td>NaN</td>\n",
       "    </tr>\n",
       "    <tr>\n",
       "      <th>2602</th>\n",
       "      <td>128</td>\n",
       "      <td>4</td>\n",
       "      <td>2</td>\n",
       "      <td>NaT</td>\n",
       "      <td>organic preserves</td>\n",
       "      <td>x</td>\n",
       "      <td>NaN</td>\n",
       "      <td>NaN</td>\n",
       "      <td>NaN</td>\n",
       "      <td>NaN</td>\n",
       "      <td>NaN</td>\n",
       "    </tr>\n",
       "    <tr>\n",
       "      <th>2632</th>\n",
       "      <td>128</td>\n",
       "      <td>4</td>\n",
       "      <td>4</td>\n",
       "      <td>2020-08-05</td>\n",
       "      <td>healthy life</td>\n",
       "      <td>x</td>\n",
       "      <td>NaN</td>\n",
       "      <td>NaN</td>\n",
       "      <td>NaN</td>\n",
       "      <td>NaN</td>\n",
       "      <td>NaN</td>\n",
       "    </tr>\n",
       "    <tr>\n",
       "      <th>2636</th>\n",
       "      <td>128</td>\n",
       "      <td>4</td>\n",
       "      <td>4</td>\n",
       "      <td>2020-08-05</td>\n",
       "      <td>mm chk brstf</td>\n",
       "      <td>x</td>\n",
       "      <td>NaN</td>\n",
       "      <td>NaN</td>\n",
       "      <td>NaN</td>\n",
       "      <td>NaN</td>\n",
       "      <td>NaN</td>\n",
       "    </tr>\n",
       "    <tr>\n",
       "      <th>2638</th>\n",
       "      <td>128</td>\n",
       "      <td>4</td>\n",
       "      <td>4</td>\n",
       "      <td>2020-08-05</td>\n",
       "      <td>qne brgr 3lf</td>\n",
       "      <td>x</td>\n",
       "      <td>NaN</td>\n",
       "      <td>NaN</td>\n",
       "      <td>NaN</td>\n",
       "      <td>NaN</td>\n",
       "      <td>NaN</td>\n",
       "    </tr>\n",
       "    <tr>\n",
       "      <th>2642</th>\n",
       "      <td>128</td>\n",
       "      <td>4</td>\n",
       "      <td>4</td>\n",
       "      <td>2020-08-05</td>\n",
       "      <td>mm aa 48</td>\n",
       "      <td>x</td>\n",
       "      <td>2.0</td>\n",
       "      <td>NaN</td>\n",
       "      <td>NaN</td>\n",
       "      <td>NaN</td>\n",
       "      <td>NaN</td>\n",
       "    </tr>\n",
       "    <tr>\n",
       "      <th>2643</th>\n",
       "      <td>128</td>\n",
       "      <td>4</td>\n",
       "      <td>4</td>\n",
       "      <td>2020-08-05</td>\n",
       "      <td>mm towels</td>\n",
       "      <td>x</td>\n",
       "      <td>NaN</td>\n",
       "      <td>NaN</td>\n",
       "      <td>NaN</td>\n",
       "      <td>NaN</td>\n",
       "      <td>NaN</td>\n",
       "    </tr>\n",
       "    <tr>\n",
       "      <th>2661</th>\n",
       "      <td>128</td>\n",
       "      <td>5</td>\n",
       "      <td>2</td>\n",
       "      <td>2020-08-19</td>\n",
       "      <td>inesf</td>\n",
       "      <td>x</td>\n",
       "      <td>NaN</td>\n",
       "      <td>NaN</td>\n",
       "      <td>NaN</td>\n",
       "      <td>NaN</td>\n",
       "      <td>NaN</td>\n",
       "    </tr>\n",
       "    <tr>\n",
       "      <th>2843</th>\n",
       "      <td>119</td>\n",
       "      <td>3</td>\n",
       "      <td>2</td>\n",
       "      <td>2020-07-17</td>\n",
       "      <td>cherry tomatoes</td>\n",
       "      <td>x</td>\n",
       "      <td>4.0</td>\n",
       "      <td>NaN</td>\n",
       "      <td>NaN</td>\n",
       "      <td>vegetables</td>\n",
       "      <td>NaN</td>\n",
       "    </tr>\n",
       "    <tr>\n",
       "      <th>2846</th>\n",
       "      <td>119</td>\n",
       "      <td>3</td>\n",
       "      <td>2</td>\n",
       "      <td>2020-07-17</td>\n",
       "      <td>salad bowl</td>\n",
       "      <td>x</td>\n",
       "      <td>2.0</td>\n",
       "      <td>NaN</td>\n",
       "      <td>NaN</td>\n",
       "      <td>salad</td>\n",
       "      <td>NaN</td>\n",
       "    </tr>\n",
       "    <tr>\n",
       "      <th>2849</th>\n",
       "      <td>119</td>\n",
       "      <td>3</td>\n",
       "      <td>2</td>\n",
       "      <td>2020-07-17</td>\n",
       "      <td>eye drops</td>\n",
       "      <td>x</td>\n",
       "      <td>NaN</td>\n",
       "      <td>NaN</td>\n",
       "      <td>NaN</td>\n",
       "      <td>medication</td>\n",
       "      <td>NaN</td>\n",
       "    </tr>\n",
       "    <tr>\n",
       "      <th>3017</th>\n",
       "      <td>119</td>\n",
       "      <td>6</td>\n",
       "      <td>3</td>\n",
       "      <td>NaT</td>\n",
       "      <td>turkey slices</td>\n",
       "      <td>x</td>\n",
       "      <td>5.0</td>\n",
       "      <td>NaN</td>\n",
       "      <td>NaN</td>\n",
       "      <td>meat</td>\n",
       "      <td>NaN</td>\n",
       "    </tr>\n",
       "    <tr>\n",
       "      <th>3031</th>\n",
       "      <td>119</td>\n",
       "      <td>6</td>\n",
       "      <td>5</td>\n",
       "      <td>NaT</td>\n",
       "      <td>onion rings</td>\n",
       "      <td>x</td>\n",
       "      <td>NaN</td>\n",
       "      <td>NaN</td>\n",
       "      <td>NaN</td>\n",
       "      <td>fastfood</td>\n",
       "      <td>NaN</td>\n",
       "    </tr>\n",
       "  </tbody>\n",
       "</table>\n",
       "</div>"
      ],
      "text/plain": [
       "       ID  Session  Receipt       Date               Item Unknown  Quantity  \\\n",
       "858   159        3        3        NaT       conventional       x       2.0   \n",
       "859   159        3        3        NaT       masculine bi       x       2.0   \n",
       "1105  135        1        4        NaT           cg tg tl       x       NaN   \n",
       "1106  135        1        4        NaT           sct 1000       x       NaN   \n",
       "1107  135        1        4        NaT       tr cn smth28       x       NaN   \n",
       "1382  137        4        2 2020-09-14    the original em       x       2.0   \n",
       "2474  128        1        5        NaT  organic preserves       x       NaN   \n",
       "2488  128        1        7        NaT              morsh       x       2.0   \n",
       "2489  128        1        7        NaT                cfl       x       2.0   \n",
       "2490  128        1        7        NaT               amer       x       NaN   \n",
       "2504  128        1        8        NaT  organic preserves       x       NaN   \n",
       "2510  128        2        2        NaT        bp hd bf bs       x       NaN   \n",
       "2511  128        2        2        NaT       hfut vp ortk       x       NaN   \n",
       "2514  128        2        2        NaT            vancarm       x       NaN   \n",
       "2521  128        2        2        NaT          100 ct cb       x       2.0   \n",
       "2542  128        2        5        NaT                 gb       x       NaN   \n",
       "2548  128        2        5        NaT        great value       x       NaN   \n",
       "2552  128        2        6        NaT              morsh       x       2.0   \n",
       "2568  128        3        1        NaT          kaj 30 pk       x       NaN   \n",
       "2569  128        3        1        NaT        8/100 fil c       x       NaN   \n",
       "2571  128        3        1        NaT          gv colomb       x       NaN   \n",
       "2602  128        4        2        NaT  organic preserves       x       NaN   \n",
       "2632  128        4        4 2020-08-05       healthy life       x       NaN   \n",
       "2636  128        4        4 2020-08-05       mm chk brstf       x       NaN   \n",
       "2638  128        4        4 2020-08-05       qne brgr 3lf       x       NaN   \n",
       "2642  128        4        4 2020-08-05           mm aa 48       x       2.0   \n",
       "2643  128        4        4 2020-08-05          mm towels       x       NaN   \n",
       "2661  128        5        2 2020-08-19              inesf       x       NaN   \n",
       "2843  119        3        2 2020-07-17    cherry tomatoes       x       4.0   \n",
       "2846  119        3        2 2020-07-17         salad bowl       x       2.0   \n",
       "2849  119        3        2 2020-07-17          eye drops       x       NaN   \n",
       "3017  119        6        3        NaT      turkey slices       x       5.0   \n",
       "3031  119        6        5        NaT        onion rings       x       NaN   \n",
       "\n",
       "      Hit  Miss    Category                        Comment  \n",
       "858   NaN   NaN         NaN                            NaN  \n",
       "859   NaN   NaN         NaN                            NaN  \n",
       "1105  NaN   NaN         NaN                            NaN  \n",
       "1106  NaN   NaN         NaN                            NaN  \n",
       "1107  NaN   NaN         NaN                            NaN  \n",
       "1382  NaN   NaN         NaN                            NaN  \n",
       "2474  NaN   NaN         NaN                            NaN  \n",
       "2488  NaN   NaN         NaN  I am not sure about this item  \n",
       "2489  NaN   NaN         NaN                            NaN  \n",
       "2490  NaN   NaN         NaN                            NaN  \n",
       "2504  NaN   NaN         NaN                            NaN  \n",
       "2510  NaN   NaN         NaN                            NaN  \n",
       "2511  NaN   NaN         NaN                            NaN  \n",
       "2514  NaN   NaN         NaN                            NaN  \n",
       "2521  NaN   NaN         NaN                            NaN  \n",
       "2542  NaN   NaN         NaN                            NaN  \n",
       "2548  NaN   NaN         NaN                            NaN  \n",
       "2552  NaN   NaN         NaN                            NaN  \n",
       "2568  NaN   NaN         NaN                            NaN  \n",
       "2569  NaN   NaN         NaN                            NaN  \n",
       "2571  NaN   NaN         NaN                            NaN  \n",
       "2602  NaN   NaN         NaN                            NaN  \n",
       "2632  NaN   NaN         NaN                            NaN  \n",
       "2636  NaN   NaN         NaN                            NaN  \n",
       "2638  NaN   NaN         NaN                            NaN  \n",
       "2642  NaN   NaN         NaN                            NaN  \n",
       "2643  NaN   NaN         NaN                            NaN  \n",
       "2661  NaN   NaN         NaN                            NaN  \n",
       "2843  NaN   NaN  vegetables                            NaN  \n",
       "2846  NaN   NaN       salad                            NaN  \n",
       "2849  NaN   NaN  medication                            NaN  \n",
       "3017  NaN   NaN        meat                            NaN  \n",
       "3031  NaN   NaN    fastfood                            NaN  "
      ]
     },
     "metadata": {},
     "output_type": "display_data"
    }
   ],
   "source": [
    "display(df[df.Unknown.notna()])"
   ]
  },
  {
   "cell_type": "markdown",
   "id": "e2562598-5489-4833-9f81-517e00b60a57",
   "metadata": {},
   "source": [
    "Item descriptions are too vague to be useful and are dropped."
   ]
  },
  {
   "cell_type": "code",
   "execution_count": 17,
   "id": "21161e0d-b963-4fa2-bb8a-3a3b1926ed60",
   "metadata": {},
   "outputs": [
    {
     "name": "stdout",
     "output_type": "stream",
     "text": [
      "33 unknown items.\n"
     ]
    }
   ],
   "source": [
    "unknown_count = df.Unknown.notna().sum()\n",
    "print(f'{unknown_count} unknown items.')\n",
    "df = df[df.Unknown.isna()]\n",
    "df = df.drop(columns='Unknown')"
   ]
  },
  {
   "cell_type": "markdown",
   "id": "27d14117-a328-43b1-9c3f-a541ec0b11c0",
   "metadata": {},
   "source": [
    "### Quantity Column\n",
    "An integer representing multiple purchases of the same item"
   ]
  },
  {
   "cell_type": "code",
   "execution_count": 18,
   "id": "cd9965cb-0cd5-40fe-b40f-28ad9f152d2d",
   "metadata": {},
   "outputs": [
    {
     "data": {
      "text/plain": [
       "NaN     1657\n",
       "2.0      345\n",
       "3.0       53\n",
       "4.0       31\n",
       "5.0        9\n",
       "6.0        7\n",
       "10.0       3\n",
       "14.0       1\n",
       "8.0        1\n",
       "1.0        1\n",
       "Name: Quantity, dtype: int64"
      ]
     },
     "execution_count": 18,
     "metadata": {},
     "output_type": "execute_result"
    }
   ],
   "source": [
    "df.Quantity.value_counts(dropna=False)"
   ]
  },
  {
   "cell_type": "markdown",
   "id": "d9bb3a98-7736-428b-83c0-79f52fd8b658",
   "metadata": {},
   "source": [
    "There are some large quantities that could be typos, but upon inspection, seem fine."
   ]
  },
  {
   "cell_type": "code",
   "execution_count": 19,
   "id": "ddfc8a20-b700-418a-a48a-5726ef963638",
   "metadata": {},
   "outputs": [
    {
     "data": {
      "text/html": [
       "<div>\n",
       "<style scoped>\n",
       "    .dataframe tbody tr th:only-of-type {\n",
       "        vertical-align: middle;\n",
       "    }\n",
       "\n",
       "    .dataframe tbody tr th {\n",
       "        vertical-align: top;\n",
       "    }\n",
       "\n",
       "    .dataframe thead th {\n",
       "        text-align: right;\n",
       "    }\n",
       "</style>\n",
       "<table border=\"1\" class=\"dataframe\">\n",
       "  <thead>\n",
       "    <tr style=\"text-align: right;\">\n",
       "      <th></th>\n",
       "      <th>ID</th>\n",
       "      <th>Session</th>\n",
       "      <th>Receipt</th>\n",
       "      <th>Date</th>\n",
       "      <th>Item</th>\n",
       "      <th>Quantity</th>\n",
       "      <th>Hit</th>\n",
       "      <th>Miss</th>\n",
       "      <th>Category</th>\n",
       "      <th>Comment</th>\n",
       "    </tr>\n",
       "  </thead>\n",
       "  <tbody>\n",
       "    <tr>\n",
       "      <th>105</th>\n",
       "      <td>154</td>\n",
       "      <td>3</td>\n",
       "      <td>3</td>\n",
       "      <td>2020-09-15</td>\n",
       "      <td>spicy hot veggie juice</td>\n",
       "      <td>14.0</td>\n",
       "      <td>NaN</td>\n",
       "      <td>NaN</td>\n",
       "      <td>drink</td>\n",
       "      <td>NaN</td>\n",
       "    </tr>\n",
       "    <tr>\n",
       "      <th>112</th>\n",
       "      <td>154</td>\n",
       "      <td>3</td>\n",
       "      <td>4</td>\n",
       "      <td>2020-09-15</td>\n",
       "      <td>tuna</td>\n",
       "      <td>10.0</td>\n",
       "      <td>NaN</td>\n",
       "      <td>NaN</td>\n",
       "      <td>meat (new category needed0</td>\n",
       "      <td>NaN</td>\n",
       "    </tr>\n",
       "    <tr>\n",
       "      <th>2507</th>\n",
       "      <td>128</td>\n",
       "      <td>2</td>\n",
       "      <td>2</td>\n",
       "      <td>NaT</td>\n",
       "      <td>atkins cereal bar</td>\n",
       "      <td>8.0</td>\n",
       "      <td>NaN</td>\n",
       "      <td>NaN</td>\n",
       "      <td>snack</td>\n",
       "      <td>NaN</td>\n",
       "    </tr>\n",
       "    <tr>\n",
       "      <th>3001</th>\n",
       "      <td>119</td>\n",
       "      <td>6</td>\n",
       "      <td>2</td>\n",
       "      <td>NaT</td>\n",
       "      <td>kool aid</td>\n",
       "      <td>10.0</td>\n",
       "      <td>NaN</td>\n",
       "      <td>NaN</td>\n",
       "      <td>drink</td>\n",
       "      <td>NaN</td>\n",
       "    </tr>\n",
       "    <tr>\n",
       "      <th>3002</th>\n",
       "      <td>119</td>\n",
       "      <td>6</td>\n",
       "      <td>2</td>\n",
       "      <td>NaT</td>\n",
       "      <td>kool aid</td>\n",
       "      <td>10.0</td>\n",
       "      <td>NaN</td>\n",
       "      <td>NaN</td>\n",
       "      <td>drink</td>\n",
       "      <td>NaN</td>\n",
       "    </tr>\n",
       "  </tbody>\n",
       "</table>\n",
       "</div>"
      ],
      "text/plain": [
       "       ID  Session  Receipt       Date                    Item  Quantity  Hit  \\\n",
       "105   154        3        3 2020-09-15  spicy hot veggie juice      14.0  NaN   \n",
       "112   154        3        4 2020-09-15                    tuna      10.0  NaN   \n",
       "2507  128        2        2        NaT       atkins cereal bar       8.0  NaN   \n",
       "3001  119        6        2        NaT                kool aid      10.0  NaN   \n",
       "3002  119        6        2        NaT                kool aid      10.0  NaN   \n",
       "\n",
       "      Miss                    Category Comment  \n",
       "105    NaN                       drink     NaN  \n",
       "112    NaN  meat (new category needed0     NaN  \n",
       "2507   NaN                       snack     NaN  \n",
       "3001   NaN                       drink     NaN  \n",
       "3002   NaN                       drink     NaN  "
      ]
     },
     "metadata": {},
     "output_type": "display_data"
    }
   ],
   "source": [
    "display(df[df.Quantity.isin([8, 10, 14])])"
   ]
  },
  {
   "cell_type": "markdown",
   "id": "12b02b86-ebbf-4b9d-a9da-d41ed592e1d8",
   "metadata": {},
   "source": [
    "The Quantity column data is sparse. To make future analysis easier, rows will be repeated according to their Quantity value. Each row will now represent a single item. Notice that this will expand the size of the data set."
   ]
  },
  {
   "cell_type": "code",
   "execution_count": 20,
   "id": "84c59835-a3ba-411b-8b96-b339db90ff19",
   "metadata": {},
   "outputs": [
    {
     "name": "stdout",
     "output_type": "stream",
     "text": [
      "662.0 rows added by expanding Quantity data.\n"
     ]
    }
   ],
   "source": [
    "print(f'{df.Quantity.fillna(1).sum() - df.shape[0]} rows added by expanding Quantity data.')\n",
    "df = df.loc[df.index.repeat(df.Quantity.fillna(1))]\n",
    "df = df.drop(columns='Quantity')"
   ]
  },
  {
   "cell_type": "markdown",
   "id": "366fc799-5afb-4766-b3fe-21bd0a0bc738",
   "metadata": {},
   "source": [
    "### Hit Column & Miss Column\n",
    "Contains little to no data at this time and is dropped."
   ]
  },
  {
   "cell_type": "code",
   "execution_count": 21,
   "id": "91aa2baa-abc3-467a-8b2c-d5b57437de56",
   "metadata": {},
   "outputs": [],
   "source": [
    "df = df.drop(columns=['Hit', 'Miss'])"
   ]
  },
  {
   "cell_type": "markdown",
   "id": "d927ed84-2572-4df9-8611-b08e893e175d",
   "metadata": {},
   "source": [
    "### Category Column\n",
    "Labels grocery by type."
   ]
  },
  {
   "cell_type": "code",
   "execution_count": 22,
   "id": "a413a7d9-4801-4018-a089-0e6178a0f738",
   "metadata": {
    "tags": []
   },
   "outputs": [
    {
     "data": {
      "text/plain": [
       "fruit         369\n",
       "vegetables    287\n",
       "drink         258\n",
       "vegetable     171\n",
       "snack         163\n",
       "Name: Category, dtype: Int64"
      ]
     },
     "execution_count": 22,
     "metadata": {},
     "output_type": "execute_result"
    }
   ],
   "source": [
    "df.Category = df.Category.astype('string')\n",
    "df.Category.value_counts(dropna=False).head()"
   ]
  },
  {
   "cell_type": "markdown",
   "id": "2db65036-8a47-4f2f-bb3a-7f5e07bc1120",
   "metadata": {},
   "source": [
    "### Comment Column\n",
    "Contains miscellaneous notes from transcriber."
   ]
  },
  {
   "cell_type": "code",
   "execution_count": 23,
   "id": "29c9255c-224f-4023-9761-eed4a158bf64",
   "metadata": {
    "tags": []
   },
   "outputs": [
    {
     "data": {
      "text/plain": [
       "new category needed                               8\n",
       "new category needed                               8\n",
       "walmart receipt and prices are unknown. Unsure    6\n",
       "unsure about category                             3\n",
       "New category needed                               3\n",
       "walmart receipt. Unknwon receipt                  3\n",
       "does not specify                                  3\n",
       "could not find item                               2\n",
       "Could not find products                           2\n",
       "dont know grocery store,couldnt find item         2\n",
       "Name: Comment, dtype: int64"
      ]
     },
     "execution_count": 23,
     "metadata": {},
     "output_type": "execute_result"
    }
   ],
   "source": [
    "df.Comment.value_counts().head(10)"
   ]
  },
  {
   "cell_type": "markdown",
   "id": "579ac3a9-f8e5-484e-9e7f-8c671b5b8336",
   "metadata": {},
   "source": [
    "Values sizes are small and ignored for now."
   ]
  },
  {
   "cell_type": "code",
   "execution_count": 24,
   "id": "29babd91-1ad9-49ce-869c-b9e3b5480dba",
   "metadata": {},
   "outputs": [],
   "source": [
    "df.Comment = df.Comment.astype('string')"
   ]
  },
  {
   "cell_type": "markdown",
   "id": "fb3a6165-88b6-4751-ad9e-12da3cabca32",
   "metadata": {},
   "source": [
    "### A Cleaned Data Set"
   ]
  },
  {
   "cell_type": "code",
   "execution_count": 25,
   "id": "de904366-3a7b-4c73-a9b0-f273f2622d33",
   "metadata": {},
   "outputs": [
    {
     "name": "stdout",
     "output_type": "stream",
     "text": [
      "<class 'pandas.core.frame.DataFrame'>\n",
      "Int64Index: 2770 entries, 0 to 4236\n",
      "Data columns (total 7 columns):\n",
      " #   Column    Non-Null Count  Dtype         \n",
      "---  ------    --------------  -----         \n",
      " 0   ID        2770 non-null   uint8         \n",
      " 1   Session   2770 non-null   uint8         \n",
      " 2   Receipt   2770 non-null   uint8         \n",
      " 3   Date      1536 non-null   datetime64[ns]\n",
      " 4   Item      2770 non-null   string        \n",
      " 5   Category  2741 non-null   string        \n",
      " 6   Comment   76 non-null     string        \n",
      "dtypes: datetime64[ns](1), string(3), uint8(3)\n",
      "memory usage: 116.3 KB\n"
     ]
    }
   ],
   "source": [
    "df.info()"
   ]
  },
  {
   "cell_type": "code",
   "execution_count": 26,
   "id": "157501e9-4f92-47b2-8df6-c5623e7da113",
   "metadata": {},
   "outputs": [
    {
     "name": "stdout",
     "output_type": "stream",
     "text": [
      "Total row reduction: 2216 (51%)\n"
     ]
    }
   ],
   "source": [
    "total_drop = null_receipt_count + null_item_count + uncertain_count + unknown_count\n",
    "print(f'Total row reduction: {total_drop} ({total_drop / initial_row_count:.0%})')"
   ]
  },
  {
   "cell_type": "code",
   "execution_count": 27,
   "id": "bb7506dd-d5e3-4fc9-bf49-068888eb6af0",
   "metadata": {
    "tags": []
   },
   "outputs": [],
   "source": [
    "df = df.reset_index(drop=True)\n",
    "df.to_csv(f'{DATA_PATH}clean_{SHEET.lower()}.csv')"
   ]
  }
 ],
 "metadata": {
  "kernelspec": {
   "display_name": "Python 3 (ipykernel)",
   "language": "python",
   "name": "python3"
  },
  "language_info": {
   "codemirror_mode": {
    "name": "ipython",
    "version": 3
   },
   "file_extension": ".py",
   "mimetype": "text/x-python",
   "name": "python",
   "nbconvert_exporter": "python",
   "pygments_lexer": "ipython3",
   "version": "3.9.7"
  }
 },
 "nbformat": 4,
 "nbformat_minor": 5
}
