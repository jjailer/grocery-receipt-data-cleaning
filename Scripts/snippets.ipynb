{
 "cells": [
  {
   "cell_type": "code",
   "execution_count": null,
   "id": "11222710-b439-4c4b-abcd-ff985cc612da",
   "metadata": {},
   "outputs": [],
   "source": [
    "# list of non-food categories\n",
    "nonfood_list = ['Cleaningsupplies','Clothing/accessories','Electronics',\\\n",
    "                'Flower','Kitchentool','Officesupplies','Paperproduct',\\\n",
    "                'Paperproducts','Petfood','petfood','Plasticproduct',\\\n",
    "                'plasticproduct','Supplement','Toiletries',\\\n",
    "                'toiletries','Utensil','utensil']\n",
    "\n",
    "# drops non-food items\n",
    "data.drop(data[data['FoodCategory'].isin(nonfood_list)].index, inplace=True)"
   ]
  },
  {
   "cell_type": "code",
   "execution_count": null,
   "id": "912cdc59-fc4b-4d4c-b1c3-6961b42fc639",
   "metadata": {},
   "outputs": [],
   "source": [
    "# drops participants with less than 50 data points\n",
    "low_part = data['ID'].value_counts() < 50\n",
    "for p in low_part[low_part == True].index:\n",
    "    data.drop(data[data['ID'] == p].index, inplace=True)"
   ]
  },
  {
   "cell_type": "code",
   "execution_count": null,
   "id": "9ac8ce7c-cc2d-4153-8cff-e8057f5751e5",
   "metadata": {},
   "outputs": [],
   "source": [
    "# crude first pass interpolation of missing dates\n",
    "# if 20% or more data is missing abort\n",
    "# otherwise attribute all missing dates to the middle of the largest date gap\n",
    "for id in data['ID'].unique():\n",
    "    # 20% NaN check\n",
    "    nan_count = sum(data[data['ID'] == id]['RecDate'].isna())\n",
    "    item_count = len(data[data['ID'] == id]['RecDate'])\n",
    "    nan_percent = nan_count / item_count\n",
    "    if nan_percent <= .2:\n",
    "        # interpolate to middle of largest gap in dates\n",
    "        shopping_days = data[data['ID'] == id]['RecDate'].unique()\n",
    "        shopping_days.sort()\n",
    "        gaps = []\n",
    "        for d in range(len(shopping_days)-1):\n",
    "            gaps.append(shopping_days[d+1] - shopping_days[d])\n",
    "        ind = gaps.index(max(gaps))\n",
    "        interp_date = (shopping_days[ind] + max(gaps)/2).astype('datetime64[D]')\n",
    "        data.loc[(data['ID'] == 113) & pd.isnull(data['RecDate']), 'RecDate'] = interp_date\n",
    "    else:\n",
    "        continue"
   ]
  },
  {
   "cell_type": "code",
   "execution_count": null,
   "id": "31153250-15df-47dd-8d57-3335f2afc931",
   "metadata": {},
   "outputs": [],
   "source": [
    "# remove (modifier) data from 'Item (modifier)' column\n",
    "paren = re.compile(r' \\(.*\\)')\n",
    "#[paren.findall(x) for x in data['Item (modifier)']]\n",
    "data['Item'] = [re.sub(paren,'', str(x)) for x in data['Item (modifier)']]\n",
    "# df[col] = df[col].str.replace(r'\\(|\\)|\\?', '', regex = True)"
   ]
  },
  {
   "cell_type": "code",
   "execution_count": null,
   "id": "edfb433e-9b62-447b-b99e-6c5d6324bf91",
   "metadata": {},
   "outputs": [],
   "source": [
    "# Spelling correction on Item\n",
    "from textblob import TextBlob\n",
    "df_max['ItemSpellchecked'] = df_max['Item'].apply(lambda item: ''.join(TextBlob(item).correct()))"
   ]
  }
 ],
 "metadata": {
  "kernelspec": {
   "display_name": "Python 3 (ipykernel)",
   "language": "python",
   "name": "python3"
  },
  "language_info": {
   "codemirror_mode": {
    "name": "ipython",
    "version": 3
   },
   "file_extension": ".py",
   "mimetype": "text/x-python",
   "name": "python",
   "nbconvert_exporter": "python",
   "pygments_lexer": "ipython3",
   "version": "3.9.7"
  }
 },
 "nbformat": 4,
 "nbformat_minor": 5
}
