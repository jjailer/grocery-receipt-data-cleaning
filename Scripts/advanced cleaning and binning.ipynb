{
 "cells": [
  {
   "cell_type": "code",
   "execution_count": 1,
   "id": "dff8e004-5c34-4042-918f-87f010d56007",
   "metadata": {},
   "outputs": [],
   "source": [
    "import pandas as pd"
   ]
  },
  {
   "cell_type": "code",
   "execution_count": 2,
   "id": "a9e616df-1f26-4f07-a376-75e300532c18",
   "metadata": {},
   "outputs": [],
   "source": [
    "data = pd.read_excel('Greco cleaned.xlsx')"
   ]
  },
  {
   "cell_type": "code",
   "execution_count": 3,
   "id": "3f6837b1-5162-499f-ad0c-390407de384c",
   "metadata": {},
   "outputs": [
    {
     "data": {
      "text/plain": [
       "1130"
      ]
     },
     "execution_count": 3,
     "metadata": {},
     "output_type": "execute_result"
    }
   ],
   "source": [
    "## clean food items\n",
    "data['Item (modifier)'].nunique()"
   ]
  },
  {
   "cell_type": "code",
   "execution_count": 4,
   "id": "ad01a266-be94-4cb7-b87f-55d0e92d994e",
   "metadata": {},
   "outputs": [
    {
     "name": "stdout",
     "output_type": "stream",
     "text": [
      "Item list\n",
      " 155                  Granola (vanilla, pecan)\n",
      "376             Granola bars (chocolate chip)\n",
      "377               Granola bars (fig and date)\n",
      "378              Granola bars (peanut, dates)\n",
      "454                    Granola (triple berry)\n",
      "911     Granola bars (dark chocolate, raisin)\n",
      "1291                  Granola (ginger almond)\n",
      "1400                              Granola bar\n",
      "2151                  Granola (ginger almond)\n",
      "2152                  Granola (ginger almond)\n",
      "2153                 Granola (vanilla, pecan)\n",
      "2513            Granola bars (chocolate chip)\n",
      "2514    Granola bars (dark chocolate, raisin)\n",
      "Name: Item (modifier), dtype: object\n"
     ]
    }
   ],
   "source": [
    "print('Item list\\n', data.loc[data['Item (modifier)'].str.contains('Granola'), 'Item (modifier)'])"
   ]
  },
  {
   "cell_type": "code",
   "execution_count": 5,
   "id": "bcfb5463-7cc7-4dc9-9938-1022289eed88",
   "metadata": {},
   "outputs": [],
   "source": [
    "# 'Corn flakes' -> 'Cereal'\n",
    "data.loc[data['Item (modifier)'].str.contains('Granola') & ~data['Item (modifier)'].str.contains('bar'), 'Item (modifier)'] = 'Granola'\n",
    "data.loc[data['Item (modifier)'].str.contains('Granola') & data['Item (modifier)'].str.contains('bar'), 'Item (modifier)'] = 'Granola bar'\n",
    "data.loc[data['Item (modifier)'].str.contains('Cereal'), 'Item (modifier)'] = 'Cereal'"
   ]
  },
  {
   "cell_type": "code",
   "execution_count": 6,
   "id": "5e134cbe-03a7-4661-895e-88b3c0538b5e",
   "metadata": {
    "tags": []
   },
   "outputs": [
    {
     "data": {
      "text/plain": [
       "array(['Breakfast', 'Dairy', 'Dessert', 'Dish', 'Drink', 'Fruit',\n",
       "       'Seafood', 'Seasoning', 'Meat', 'Salad', 'Snack', 'Pasta',\n",
       "       'Vegetable', 'Condiment', 'Spanishfood', 'Baking', 'Candy', 'Side',\n",
       "       'Asianfood', 'Dip', 'Fastfood', 'Grain', 'Spread', 'Vegetables',\n",
       "       'Middleeasternfood', 'Europeanfood', 'Sauce', 'Soup', 'Sandwich',\n",
       "       'Fish', 'Southernfood', 'Fruit/Vegetable', 'Snak', 'Mexicanfood'],\n",
       "      dtype=object)"
      ]
     },
     "execution_count": 6,
     "metadata": {},
     "output_type": "execute_result"
    }
   ],
   "source": [
    "## clean categories\n",
    "data['FoodCategory'].unique()"
   ]
  },
  {
   "cell_type": "code",
   "execution_count": 7,
   "id": "de30d7eb-fb20-434d-bc5a-20fbced36ad8",
   "metadata": {
    "tags": []
   },
   "outputs": [
    {
     "name": "stdout",
     "output_type": "stream",
     "text": [
      "Count by cat\n",
      " Snack        7\n",
      "Breakfast    5\n",
      "Grain        1\n",
      "Name: FoodCategory, dtype: int64\n",
      "Total items:  13\n"
     ]
    }
   ],
   "source": [
    "# analyze categories\n",
    "print('Count by cat\\n', data.loc[data['Item (modifier)'].str.contains('Granola'), 'FoodCategory'].value_counts())\n",
    "print('Total items: ', sum(data['Item (modifier)'].str.contains('Granola')))"
   ]
  },
  {
   "cell_type": "code",
   "execution_count": 8,
   "id": "81e46cc1-2f63-44e7-8a83-2e9f0f0d6312",
   "metadata": {},
   "outputs": [],
   "source": [
    "# some Items are miscategorized and must(?) be moved by hand\n",
    "# data.loc[data['Item (modifier)'] == 'ITEM_NAME', 'FoodCategory'] = NEW_CATEGORY\n",
    "data.loc[data['Item (modifier)'] == 'Pinwheel pastries', 'FoodCategory']  = 'Dessert'\n",
    "data.loc[data['Item (modifier)'].str.contains('Granola') & ~data['Item (modifier)'].str.contains('bar'), 'FoodCategory'] = 'Breakfast'"
   ]
  },
  {
   "cell_type": "code",
   "execution_count": 9,
   "id": "8c461906-b149-4247-82a1-764741cd5eeb",
   "metadata": {},
   "outputs": [],
   "source": [
    "# collapse FoodCategory = \"Dessert\" into single Item called \"Dessert\" \n",
    "data.loc[data['FoodCategory'] == 'Dessert', 'Item (modifier)'] = 'Dessert'\n",
    "# TODO: collapse FoodCategory = \"Dish\" into single Item bin called \"Prepared food\"\n",
    "# TODO: collapse FoodCategory = \"Snack\" into single Item bin called \"Snack\""
   ]
  }
 ],
 "metadata": {
  "kernelspec": {
   "display_name": "Python 3 (ipykernel)",
   "language": "python",
   "name": "python3"
  },
  "language_info": {
   "codemirror_mode": {
    "name": "ipython",
    "version": 3
   },
   "file_extension": ".py",
   "mimetype": "text/x-python",
   "name": "python",
   "nbconvert_exporter": "python",
   "pygments_lexer": "ipython3",
   "version": "3.9.7"
  }
 },
 "nbformat": 4,
 "nbformat_minor": 5
}
