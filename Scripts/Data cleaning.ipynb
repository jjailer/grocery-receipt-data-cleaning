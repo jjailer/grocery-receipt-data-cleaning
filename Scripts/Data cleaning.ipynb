{
 "cells": [
  {
   "cell_type": "code",
   "execution_count": 1,
   "id": "a7369827-1243-4496-be32-290777c77a86",
   "metadata": {},
   "outputs": [],
   "source": [
    "import pandas as pd\n",
    "import re"
   ]
  },
  {
   "cell_type": "code",
   "execution_count": 2,
   "id": "68589b57-2014-4716-a4c1-663b813241dd",
   "metadata": {},
   "outputs": [],
   "source": [
    "data = pd.read_excel('Greco receiptData.xlsx')"
   ]
  },
  {
   "cell_type": "code",
   "execution_count": 3,
   "id": "e04b7d5b-89fd-47b7-b466-4659da5bbeec",
   "metadata": {},
   "outputs": [],
   "source": [
    "# drops listed columns\n",
    "data.drop(['Secondary name','Coupon (#)','Uncertain','Unknown','Hit','Miss','Comments','Unnamed: 14','Unnamed: 15'],axis=1,inplace=True)"
   ]
  },
  {
   "cell_type": "code",
   "execution_count": 4,
   "id": "2c8cf0c6-9628-40a3-bf92-a7e1810011a6",
   "metadata": {
    "tags": []
   },
   "outputs": [],
   "source": [
    "# sets null quantity purchased to 1\n",
    "data.loc[pd.isna(data['NumPurchased']), 'NumPurchased'] = 1"
   ]
  },
  {
   "cell_type": "code",
   "execution_count": 5,
   "id": "054bfe58-5639-4c0f-bb10-82e0bab60f5d",
   "metadata": {},
   "outputs": [],
   "source": [
    "# drops rows with null items \n",
    "data.drop(data[data['Item (modifier)'].isna()].index, inplace=True)"
   ]
  },
  {
   "cell_type": "code",
   "execution_count": 6,
   "id": "96b6bbf0-bee6-408a-ba82-fb6d1d745dd7",
   "metadata": {},
   "outputs": [],
   "source": [
    "# drops few rows with null food category (non-food item)\n",
    "data.drop(data[data['FoodCategory'].isna()].index, inplace=True)"
   ]
  },
  {
   "cell_type": "code",
   "execution_count": 7,
   "id": "549db50a-3d6c-49da-94b9-6689b4bf3806",
   "metadata": {},
   "outputs": [],
   "source": [
    "# list of non-food categories\n",
    "nonfood_list = ['Cleaningsupplies','Clothing/accessories','Electronics',\\\n",
    "                'Flower','Kitchentool','Officesupplies','Paperproduct',\\\n",
    "                'Paperproducts','Petfood','petfood','Plasticproduct',\\\n",
    "                'plasticproduct','Supplement','Toiletries',\\\n",
    "                'toiletries','Utensil','utensil']"
   ]
  },
  {
   "cell_type": "code",
   "execution_count": 8,
   "id": "fd51fdaa-3c83-44b4-a332-4cf77c530567",
   "metadata": {},
   "outputs": [],
   "source": [
    "# drops non-food items\n",
    "data.drop(data[data['FoodCategory'].isin(nonfood_list)].index, inplace=True)"
   ]
  },
  {
   "cell_type": "code",
   "execution_count": 9,
   "id": "fb3848ec-b0a4-42a6-84e2-0efc8226a879",
   "metadata": {
    "tags": []
   },
   "outputs": [],
   "source": [
    "# when receipt number is null, assume all items came from a single basket that day\n",
    "data.loc[pd.isna(data['RecNum']), 'RecNum'] = 1"
   ]
  },
  {
   "cell_type": "code",
   "execution_count": 10,
   "id": "4091a70d-0125-42c3-9781-f2a26505f8ca",
   "metadata": {
    "tags": []
   },
   "outputs": [],
   "source": [
    "# drops participants with less than 50 data points\n",
    "low_part = data['ID'].value_counts() < 50\n",
    "for p in low_part[low_part == True].index:\n",
    "    data.drop(data[data['ID'] == p].index, inplace=True)"
   ]
  },
  {
   "cell_type": "code",
   "execution_count": 11,
   "id": "403374d4-c27e-4af4-8db0-f147ac031e48",
   "metadata": {
    "tags": []
   },
   "outputs": [],
   "source": [
    "# crude first pass interpolation of missing dates\n",
    "# if 20% or more data is missing abort\n",
    "# otherwise attribute all missing dates to the middle of the largest date gap\n",
    "for id in data['ID'].unique():\n",
    "    # 20% NaN check\n",
    "    nan_count = sum(data[data['ID'] == id]['RecDate'].isna())\n",
    "    item_count = len(data[data['ID'] == id]['RecDate'])\n",
    "    nan_percent = nan_count / item_count\n",
    "    if nan_percent <= .2:\n",
    "        # interpolate to middle of largest gap in dates\n",
    "        shopping_days = data[data['ID'] == id]['RecDate'].unique()\n",
    "        shopping_days.sort()\n",
    "        gaps = []\n",
    "        for d in range(len(shopping_days)-1):\n",
    "            gaps.append(shopping_days[d+1] - shopping_days[d])\n",
    "        ind = gaps.index(max(gaps))\n",
    "        interp_date = (shopping_days[ind] + max(gaps)/2).astype('datetime64[D]')\n",
    "        data.loc[(data['ID'] == 113) & pd.isnull(data['RecDate']), 'RecDate'] = interp_date\n",
    "    else:\n",
    "        continue"
   ]
  },
  {
   "cell_type": "code",
   "execution_count": 12,
   "id": "09da2877-d134-4d2c-93d2-08e06aa0a7cc",
   "metadata": {},
   "outputs": [],
   "source": [
    "# remove (modifier) data from 'Item (modifier)' column\n",
    "paren = re.compile(r' \\(.*\\)')\n",
    "#[paren.findall(x) for x in data['Item (modifier)']]\n",
    "data['Item'] = [re.sub(paren,'', str(x)) for x in data['Item (modifier)']]"
   ]
  },
  {
   "cell_type": "code",
   "execution_count": 13,
   "id": "dcfb176d-76fc-4759-b530-261eddf6c89b",
   "metadata": {},
   "outputs": [],
   "source": [
    "data.to_csv('Greco cleaned.csv')"
   ]
  }
 ],
 "metadata": {
  "kernelspec": {
   "display_name": "Python 3 (ipykernel)",
   "language": "python",
   "name": "python3"
  },
  "language_info": {
   "codemirror_mode": {
    "name": "ipython",
    "version": 3
   },
   "file_extension": ".py",
   "mimetype": "text/x-python",
   "name": "python",
   "nbconvert_exporter": "python",
   "pygments_lexer": "ipython3",
   "version": "3.9.7"
  }
 },
 "nbformat": 4,
 "nbformat_minor": 5
}
