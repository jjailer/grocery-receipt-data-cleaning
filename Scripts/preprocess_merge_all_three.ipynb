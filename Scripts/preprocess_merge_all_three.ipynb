{
 "cells": [
  {
   "cell_type": "markdown",
   "id": "2ff4cb0a-28dc-4934-957f-720f0d7e4761",
   "metadata": {},
   "source": [
    "## Preprocess Data for Algorithmic Merging\n",
    "The merging algorithm in merge.py employs an O(n!) brute force search, where n is the number of highly divergent item descriptions. To be computationally feasible n must be 8 or less. Cleaning is done by hand until they are sufficiently similar. This notebook preprocess the subset of participants whose receipts were transcribed in all three data sets."
   ]
  },
  {
   "cell_type": "code",
   "execution_count": 1,
   "id": "e755e79d-6fe4-4ea7-868d-7226e7c3749d",
   "metadata": {},
   "outputs": [],
   "source": [
    "import re\n",
    "import datetime\n",
    "\n",
    "import pandas as pd\n",
    "import gensim.downloader as api\n",
    "\n",
    "import merge"
   ]
  },
  {
   "cell_type": "code",
   "execution_count": 2,
   "id": "68e10449-3998-4e8d-b688-69d52f84f461",
   "metadata": {},
   "outputs": [],
   "source": [
    "pd.set_option('display.max_rows', 200)"
   ]
  },
  {
   "cell_type": "code",
   "execution_count": null,
   "id": "321f875b-770a-4b80-ae6f-f115f827222d",
   "metadata": {
    "tags": []
   },
   "outputs": [],
   "source": [
    "%time word_vectors = api.load(\"glove-wiki-gigaword-300\") # 50, 100, 200, 300 sizes available"
   ]
  },
  {
   "cell_type": "code",
   "execution_count": null,
   "id": "21dad53c-f035-41b9-8791-d6adee8a7e74",
   "metadata": {},
   "outputs": [],
   "source": [
    "DATA_PATH = '../Data/'\n",
    "FILES = ['max', 'maria', 'samantha']\n",
    "COLS = [0, 1, 2, 3, 5]  # Index, ID, Session, Receipt, Item\n",
    "DTYPES = {'ID': 'uint8', 'Session': 'uint8', 'Receipt': 'uint8', 'Item': str}\n",
    "\n",
    "dfs = [pd.read_csv(DATA_PATH + 'clean_' + file + '.csv', index_col=0, usecols=COLS, dtype=DTYPES) for file in FILES]"
   ]
  },
  {
   "cell_type": "markdown",
   "id": "0157290f-7345-4691-bd7b-2525bf30901c",
   "metadata": {},
   "source": [
    "Restrict data set to shared participants"
   ]
  },
  {
   "cell_type": "code",
   "execution_count": null,
   "id": "55a8d0f0-723e-418b-a00a-c4112c4c793e",
   "metadata": {
    "tags": []
   },
   "outputs": [],
   "source": [
    "ids_shared = set.intersection(*[set(df.ID.unique()) for df in dfs])\n",
    "dfs = [df[df.ID.isin(ids_shared)].reset_index(drop=True) for df in dfs]"
   ]
  },
  {
   "cell_type": "code",
   "execution_count": null,
   "id": "3050c0b7-d9c3-4421-a04a-a9f2bdf3acb8",
   "metadata": {},
   "outputs": [],
   "source": [
    "initial_row_counts = [df.shape[0] for df in dfs] # used at the end to compute drop rate"
   ]
  },
  {
   "cell_type": "code",
   "execution_count": null,
   "id": "c98e684e-57ef-4ad2-9336-137c939d39d2",
   "metadata": {},
   "outputs": [],
   "source": [
    "for df in dfs:\n",
    "    print(df.info())\n",
    "    print()"
   ]
  },
  {
   "cell_type": "markdown",
   "id": "3c1ff028-8ab6-4f0a-b36b-75425496c0a6",
   "metadata": {},
   "source": [
    "Item descriptions are optionally formated as \"item (modifier)\", where modifier usually denotes an adjective like flavor, such as \"ice cream (chocolate)\". The reformat_modifier function removes this formatting by moving 'modifier' to beginning of text and droping the parentheses. The Item strings are additionally cleaned by removing punctuation and stripping white space."
   ]
  },
  {
   "cell_type": "code",
   "execution_count": null,
   "id": "cd57ad39-4e1d-4944-afa9-c81f3729e5ac",
   "metadata": {
    "tags": []
   },
   "outputs": [],
   "source": [
    "paren = re.compile(r'\\(.+\\)')\n",
    "\n",
    "def reformat_modifier(text):\n",
    "    m = paren.search(text)\n",
    "    if m:\n",
    "        text = ' '.join([m.group(0)[1:-1], text])\n",
    "        text = paren.sub('', text)\n",
    "    return text"
   ]
  },
  {
   "cell_type": "code",
   "execution_count": null,
   "id": "b8f308dd-cf46-454e-ab5f-8c539074198d",
   "metadata": {
    "tags": []
   },
   "outputs": [],
   "source": [
    "for df in dfs:\n",
    "    df.Item = (df.Item\n",
    "               .apply(reformat_modifier)\n",
    "               .str.replace(r'[/(),\"&]', ' ', regex=True)\n",
    "               .str.replace(r'?', '', regex=False)\n",
    "               .str.replace(r\"'s\", '', regex=False)\n",
    "               .str.replace(r\"coupon\", '', regex=False)\n",
    "               .str.strip())"
   ]
  },
  {
   "cell_type": "markdown",
   "id": "edc709c2-0191-4704-bda0-76d587d55036",
   "metadata": {},
   "source": [
    "### Examination of Variation within Sessions"
   ]
  },
  {
   "cell_type": "code",
   "execution_count": null,
   "id": "1b0c7c7a-f34b-4541-beb6-45bb79768754",
   "metadata": {
    "tags": []
   },
   "outputs": [],
   "source": [
    "pd.concat([df.groupby(by=['ID', 'Session']).Item.count() for df in dfs], axis=1, ignore_index=True)"
   ]
  },
  {
   "cell_type": "markdown",
   "id": "4ee183ee-dd7b-47f6-b377-54f4f76803fd",
   "metadata": {},
   "source": [
    "The following transcription sessions are dropped by inspection."
   ]
  },
  {
   "cell_type": "code",
   "execution_count": null,
   "id": "0cca5e47-fadb-4015-bc7f-5352874ddeed",
   "metadata": {},
   "outputs": [],
   "source": [
    "for df in dfs:\n",
    "    df.drop(df[(df.ID == 114) & (df.Session == 4)].index, inplace=True)\n",
    "    df.drop(df[(df.ID == 130) & (df.Session == 1)].index, inplace=True)\n",
    "    df.drop(df[(df.ID == 135) & (df.Session == 6)].index, inplace=True)\n",
    "    df.drop(df[(df.ID == 153) & (df.Session == 2)].index, inplace=True)\n",
    "    df.drop(df[(df.ID == 153) & (df.Session == 6)].index, inplace=True)"
   ]
  },
  {
   "cell_type": "markdown",
   "id": "548d2015-3907-4b95-bf31-0f8686660eef",
   "metadata": {},
   "source": [
    "### Examination of Variation in Receipt Count\n",
    "The merge algorithm operates on receipts and requires each data set to recognize the same number of receipts per session per ID. The number of receipts are examined for variations between the data sets."
   ]
  },
  {
   "cell_type": "code",
   "execution_count": null,
   "id": "8807529a-ebeb-4381-95c7-17b7e77e3df0",
   "metadata": {
    "tags": []
   },
   "outputs": [],
   "source": [
    "pd.concat([df.groupby(by=['ID', 'Session']).Receipt.unique() for df in dfs], axis=1, ignore_index=True)"
   ]
  },
  {
   "cell_type": "markdown",
   "id": "a0e58e21-f17f-45d0-aaa4-d987a7e07158",
   "metadata": {},
   "source": [
    "Discrepancies are corrected by inspection. In some cases a receipt stub remained as an artifact of previous data cleaning. In other cases two receipts needed to be merged due to the same."
   ]
  },
  {
   "cell_type": "markdown",
   "id": "b7a5ccc9-cacd-4551-bb36-1b2f12587159",
   "metadata": {},
   "source": [
    "ID: 114, Session: 5, Receipts: [1]\t[1, 2]\t[1]"
   ]
  },
  {
   "cell_type": "code",
   "execution_count": null,
   "id": "72b7a763-1a24-4937-b35c-ea4a6afefd46",
   "metadata": {
    "tags": []
   },
   "outputs": [],
   "source": [
    "pd.concat([df.loc[(df.ID == 114) & (df.Session == 5), ['Receipt', 'Item']].reset_index(drop=True) for df in dfs],\n",
    "          axis=1, ignore_index=True)"
   ]
  },
  {
   "cell_type": "code",
   "execution_count": null,
   "id": "d83edb9d-8cc3-4659-a56b-4e9e7a3f52a4",
   "metadata": {
    "tags": []
   },
   "outputs": [],
   "source": [
    "dfs[1].drop(dfs[1][(dfs[1].ID == 114) & (dfs[1].Session == 5) & (dfs[1].Receipt == 2)].index, inplace=True)"
   ]
  },
  {
   "cell_type": "markdown",
   "id": "888baa79-fde0-4d09-afc1-e1d97c33a953",
   "metadata": {},
   "source": [
    "ID: 127, Session: 2, Receipts: [1, 2, 3]\t[1, 2]\t[1, 2, 3]"
   ]
  },
  {
   "cell_type": "code",
   "execution_count": null,
   "id": "11a56c5c-7b98-4f9b-84b0-aac514d753e2",
   "metadata": {
    "tags": []
   },
   "outputs": [],
   "source": [
    "pd.concat([df.loc[(df.ID == 127) & (df.Session == 2), ['Receipt', 'Item']].reset_index(drop=True) for df in dfs],\n",
    "          axis=1, ignore_index=True)"
   ]
  },
  {
   "cell_type": "code",
   "execution_count": null,
   "id": "3ae99807-5014-4fad-87fd-d3096d6c6c02",
   "metadata": {
    "tags": []
   },
   "outputs": [],
   "source": [
    "dfs[1].loc[(dfs[1].ID == 127) & (dfs[1].Session == 2), ['Receipt', 'Item']]"
   ]
  },
  {
   "cell_type": "code",
   "execution_count": null,
   "id": "3757d15e-76f3-4e00-bf1d-3bee6fd2633f",
   "metadata": {},
   "outputs": [],
   "source": [
    "dfs[1].loc[831:839, 'Receipt'] = 3"
   ]
  },
  {
   "cell_type": "markdown",
   "id": "fcce6389-a49e-40af-9cf4-8b5122fe95b9",
   "metadata": {},
   "source": [
    "ID: 127, Session: 5, Receipts: [1, 2, 3, 4]\t[1, 2, 3]\t[1, 2, 3, 4]"
   ]
  },
  {
   "cell_type": "code",
   "execution_count": null,
   "id": "7076762e-28f5-4faa-b23d-4a8b6cad85ff",
   "metadata": {
    "tags": []
   },
   "outputs": [],
   "source": [
    "pd.concat([df.loc[(df.ID == 127) & (df.Session == 5), ['Receipt', 'Item']].reset_index(drop=True) for df in dfs],\n",
    "          axis=1, ignore_index=True)"
   ]
  },
  {
   "cell_type": "code",
   "execution_count": null,
   "id": "c3a03411-e3db-499a-a080-0d57d0c92f76",
   "metadata": {
    "tags": []
   },
   "outputs": [],
   "source": [
    "dfs[1].loc[(dfs[1].ID == 127) & (dfs[1].Session == 5), ['Receipt', 'Item']]"
   ]
  },
  {
   "cell_type": "code",
   "execution_count": null,
   "id": "ebbb5530-60d1-464e-ab82-3a26ecfe9f5f",
   "metadata": {},
   "outputs": [],
   "source": [
    "dfs[1].loc[880:901, 'Receipt'] = 4"
   ]
  },
  {
   "cell_type": "markdown",
   "id": "ffa7535a-a650-4eeb-8142-dfeb674e5593",
   "metadata": {},
   "source": [
    "ID: 135, Session: 2, Receipts: [1, 2, 3, 4, 5, 6, 7, 8]\t[1, 2, 3, 4, 5, 6, 7, 8, 9]\t[1, 2, 3, 4, 5, 6, 7, 8]"
   ]
  },
  {
   "cell_type": "code",
   "execution_count": null,
   "id": "47f2b2d1-4088-446a-9377-2f7d1c26c901",
   "metadata": {
    "tags": []
   },
   "outputs": [],
   "source": [
    "pd.concat([df.loc[(df.ID == 135) & (df.Session == 2), ['Receipt', 'Item']].reset_index(drop=True) for df in dfs],\n",
    "          axis=1, ignore_index=True)"
   ]
  },
  {
   "cell_type": "code",
   "execution_count": null,
   "id": "ab257a4c-ed59-4095-8b25-80891a08f0fe",
   "metadata": {},
   "outputs": [],
   "source": [
    "dfs[1].drop(dfs[1][(dfs[1].ID == 135) & (dfs[1].Session == 2) & (dfs[1].Receipt == 9)].index, inplace=True)"
   ]
  },
  {
   "cell_type": "markdown",
   "id": "8969f345-d5a1-492d-94db-0930946f4f1b",
   "metadata": {},
   "source": [
    "### Examination of Item Divergence\n",
    "Receipts are examined individually for highly divergent items. Corrections are made by inspection."
   ]
  },
  {
   "cell_type": "code",
   "execution_count": null,
   "id": "bc0117f3-b8c5-48ee-9c72-b2076936d2a0",
   "metadata": {
    "tags": []
   },
   "outputs": [],
   "source": [
    "merge.divergence([dfs[0], dfs[1]], word_vectors)"
   ]
  },
  {
   "cell_type": "markdown",
   "id": "0e37424f-0e84-401c-bc04-b63cbe3f49d5",
   "metadata": {},
   "source": [
    "ID: 135, Session: 2, Receipt: 3, Div: 8! [1, 3, 4, 5, 6, 7, 8, 9]"
   ]
  },
  {
   "cell_type": "code",
   "execution_count": null,
   "id": "9be3f33f-eb07-4921-a301-deb886cc7ac2",
   "metadata": {},
   "outputs": [],
   "source": [
    "pd.concat([df.loc[(df.ID == 135) & (df.Session == 2) & (df.Receipt == 3), 'Item'].reset_index(drop=True) for df in dfs],\n",
    "          axis=1, ignore_index=True)"
   ]
  },
  {
   "cell_type": "code",
   "execution_count": null,
   "id": "ddaf2ad2-14a7-4292-b6b3-57249e2c5ac5",
   "metadata": {},
   "outputs": [],
   "source": [
    "for df in dfs:\n",
    "    df.drop(df[(df.ID == 135) & (df.Session == 2) & (df.Receipt == 3)].index, inplace=True)"
   ]
  },
  {
   "cell_type": "markdown",
   "id": "c9234fdd-4e02-412a-a5b3-f15bbd241b07",
   "metadata": {},
   "source": [
    "ID: 135, Session: 2, Receipt: 8! [0, 1, 2, 10, 14, 15, 16, 17]"
   ]
  },
  {
   "cell_type": "code",
   "execution_count": null,
   "id": "0bf3547c-937e-46f3-93d5-84837d7ff4bc",
   "metadata": {
    "tags": []
   },
   "outputs": [],
   "source": [
    "pd.concat([df.loc[(df.ID == 135) & (df.Session == 2) & (df.Receipt == 6), 'Item'].reset_index(drop=True) for df in dfs],\n",
    "          axis=1, ignore_index=True)"
   ]
  },
  {
   "cell_type": "code",
   "execution_count": null,
   "id": "97fd77ef-9040-4ddd-9e54-bfa323af1af9",
   "metadata": {
    "tags": []
   },
   "outputs": [],
   "source": [
    "dfs[1].loc[(dfs[1].ID == 135) & (dfs[1].Session == 2) & (dfs[1].Receipt == 6) & (dfs[1].Item == 'quino brown bread'), 'Item'] = 'quinoa brown bread'\n",
    "dfs[1].loc[(dfs[1].ID == 135) & (dfs[1].Session == 2) & (dfs[1].Receipt == 6) & (dfs[1].Item == 'sweetner'), 'Item'] = 'sweetener'"
   ]
  },
  {
   "cell_type": "code",
   "execution_count": null,
   "id": "5df93021-a2c6-42d6-bc50-b994ed430385",
   "metadata": {
    "tags": []
   },
   "outputs": [],
   "source": [
    "merge.divergence([dfs[0], dfs[2]], word_vectors)"
   ]
  },
  {
   "cell_type": "code",
   "execution_count": null,
   "id": "b3ac5a0f-89c0-462c-8399-a52dd6e2db42",
   "metadata": {
    "tags": []
   },
   "outputs": [],
   "source": [
    "merge.divergence([dfs[1], dfs[2]], word_vectors)"
   ]
  },
  {
   "cell_type": "markdown",
   "id": "9276a929-5989-45fe-acb0-016398d94b15",
   "metadata": {},
   "source": [
    "ID: 135, Session: 2, Receipt: 6, Div: 8! [1, 2, 3, 5, 15, 16, 17, 18]"
   ]
  },
  {
   "cell_type": "code",
   "execution_count": null,
   "id": "ae62fe1b-0628-47cc-b479-8a3ff95be9d2",
   "metadata": {},
   "outputs": [],
   "source": [
    "pd.concat([df.loc[(df.ID == 135) & (df.Session == 2) & (df.Receipt == 6), 'Item'].reset_index(drop=True) for df in dfs],\n",
    "          axis=1, ignore_index=True)"
   ]
  },
  {
   "cell_type": "code",
   "execution_count": null,
   "id": "d98c8259-6eb6-4ba0-9a47-852bb4ab7208",
   "metadata": {},
   "outputs": [],
   "source": [
    "dfs[2].loc[(dfs[2].ID == 135) & (dfs[2].Session == 2) & (dfs[2].Receipt == 6) & (dfs[2].Item == 'quiona'), 'Item'] = 'quinoa'"
   ]
  },
  {
   "cell_type": "markdown",
   "id": "d622cc30-b338-4912-aa8e-fc7802b0b1f7",
   "metadata": {},
   "source": [
    "### Results"
   ]
  },
  {
   "cell_type": "code",
   "execution_count": null,
   "id": "3c6cd7ab-4a95-41be-9831-c886aaae7234",
   "metadata": {
    "tags": []
   },
   "outputs": [],
   "source": [
    "for df in dfs:\n",
    "    df.info()\n",
    "    print()"
   ]
  },
  {
   "cell_type": "code",
   "execution_count": null,
   "id": "af64c7a5-dfc2-43c0-b8ca-dbc0db714812",
   "metadata": {},
   "outputs": [],
   "source": [
    "for initial_row_count, df in zip(initial_row_counts, dfs):\n",
    "    print(f'Total row reduction: {initial_row_count - df.shape[0]} ({(initial_row_count - df.shape[0]) / initial_row_count:.0%})')"
   ]
  },
  {
   "cell_type": "code",
   "execution_count": 34,
   "id": "ca2dda48-18aa-44fc-9c33-70ad8ebb33e9",
   "metadata": {
    "tags": []
   },
   "outputs": [],
   "source": [
    "for i, df in enumerate(dfs):\n",
    "    df = df.reset_index(drop=True)\n",
    "    df.to_csv(f'{DATA_PATH}all_three_{FILES[i]}_to_merge.csv')"
   ]
  },
  {
   "cell_type": "code",
   "execution_count": null,
   "id": "0bba5993-913b-4264-b17b-219d24fd4dea",
   "metadata": {},
   "outputs": [],
   "source": []
  }
 ],
 "metadata": {
  "kernelspec": {
   "display_name": "envs",
   "language": "python",
   "name": "envs"
  },
  "language_info": {
   "codemirror_mode": {
    "name": "ipython",
    "version": 3
   },
   "file_extension": ".py",
   "mimetype": "text/x-python",
   "name": "python",
   "nbconvert_exporter": "python",
   "pygments_lexer": "ipython3",
   "version": "3.10.8"
  }
 },
 "nbformat": 4,
 "nbformat_minor": 5
}
