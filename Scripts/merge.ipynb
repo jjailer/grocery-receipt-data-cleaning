{
 "cells": [
  {
   "cell_type": "code",
   "execution_count": 1,
   "id": "6c248283-b7b1-480a-b641-406ccc6fc1f7",
   "metadata": {
    "tags": []
   },
   "outputs": [],
   "source": [
    "import pandas as pd\n",
    "import gensim.downloader as api\n",
    "from importlib import reload\n",
    "\n",
    "import merge"
   ]
  },
  {
   "cell_type": "code",
   "execution_count": 2,
   "id": "b3f27c09-f9e8-4a0d-9ade-e05599415198",
   "metadata": {},
   "outputs": [],
   "source": [
    "pd.set_option('display.max_rows', 1000)"
   ]
  },
  {
   "cell_type": "markdown",
   "id": "eba3da2c-c25a-45ae-97a2-1311a1e62c18",
   "metadata": {},
   "source": [
    "When two item descriptions don't contain any matches, we use pre-trained word embeddings from [gensim](https://github.com/RaRe-Technologies/gensim-data#models) to compute their similarity. For example, \"hamburger meat\" compared with \"beef patties.\""
   ]
  },
  {
   "cell_type": "code",
   "execution_count": 3,
   "id": "de17825f-cb41-47f1-87c1-16abbfa18de7",
   "metadata": {
    "tags": []
   },
   "outputs": [
    {
     "name": "stdout",
     "output_type": "stream",
     "text": [
      "Wall time: 1min 49s\n"
     ]
    }
   ],
   "source": [
    "%time word_vectors = api.load(\"glove-wiki-gigaword-300\") # 50, 100, 200, 300 sizes available"
   ]
  },
  {
   "cell_type": "code",
   "execution_count": 4,
   "id": "15c97439-9dba-4cda-9f8e-1058149788ea",
   "metadata": {
    "tags": []
   },
   "outputs": [
    {
     "name": "stdout",
     "output_type": "stream",
     "text": [
      "IDs for merging: {130, 135, 137, 114, 153, 127}\n",
      "Full list: {121, 114, 137, 153, 141, 127, 130, 135, 148, 158}\n",
      "Wall time: 125 ms\n"
     ]
    }
   ],
   "source": [
    "%%time\n",
    "DATA_PATH = '../Data/'\n",
    "FILES = ['clean_max_to_merge', 'clean_maria_to_merge', 'clean_samantha_to_merge']\n",
    "COLS = [0, 1, 2, 3, 4]  # Index, ID, Session, Receipt, Item\n",
    "DTYPES = {'ID': 'uint8', 'Session': 'uint8', 'Receipt': 'uint8', 'Item': 'string'}\n",
    "\n",
    "dfs = [pd.read_csv(DATA_PATH + file + '.csv', index_col=0, usecols=COLS, dtype=DTYPES) for file in FILES]\n",
    "\n",
    "ids_shared = set.intersection(*[set(df.ID.unique()) for df in dfs])\n",
    "print(f'IDs for merging: {ids_shared}')\n",
    "print('Full list: {121, 114, 137, 153, 141, 127, 130, 135, 148, 158}')\n",
    "dfs = [df[df.ID.isin(ids_shared)].reset_index(drop=True) for df in dfs]"
   ]
  },
  {
   "cell_type": "code",
   "execution_count": 5,
   "id": "2f28f3f2-07bc-49f5-8ae0-8840f571a8b1",
   "metadata": {
    "tags": []
   },
   "outputs": [
    {
     "name": "stdout",
     "output_type": "stream",
     "text": [
      "<class 'pandas.core.frame.DataFrame'>\n",
      "RangeIndex: 885 entries, 0 to 884\n",
      "Data columns (total 4 columns):\n",
      " #   Column   Non-Null Count  Dtype \n",
      "---  ------   --------------  ----- \n",
      " 0   ID       885 non-null    uint8 \n",
      " 1   Session  885 non-null    uint8 \n",
      " 2   Receipt  885 non-null    uint8 \n",
      " 3   Item     885 non-null    string\n",
      "dtypes: string(1), uint8(3)\n",
      "memory usage: 9.6 KB\n",
      "\n",
      "<class 'pandas.core.frame.DataFrame'>\n",
      "RangeIndex: 861 entries, 0 to 860\n",
      "Data columns (total 4 columns):\n",
      " #   Column   Non-Null Count  Dtype \n",
      "---  ------   --------------  ----- \n",
      " 0   ID       861 non-null    uint8 \n",
      " 1   Session  861 non-null    uint8 \n",
      " 2   Receipt  861 non-null    uint8 \n",
      " 3   Item     861 non-null    string\n",
      "dtypes: string(1), uint8(3)\n",
      "memory usage: 9.4 KB\n",
      "\n",
      "<class 'pandas.core.frame.DataFrame'>\n",
      "RangeIndex: 888 entries, 0 to 887\n",
      "Data columns (total 4 columns):\n",
      " #   Column   Non-Null Count  Dtype \n",
      "---  ------   --------------  ----- \n",
      " 0   ID       888 non-null    uint8 \n",
      " 1   Session  888 non-null    uint8 \n",
      " 2   Receipt  888 non-null    uint8 \n",
      " 3   Item     888 non-null    string\n",
      "dtypes: string(1), uint8(3)\n",
      "memory usage: 9.7 KB\n",
      "\n"
     ]
    }
   ],
   "source": [
    "for df in dfs:\n",
    "    df.info()\n",
    "    print()"
   ]
  },
  {
   "cell_type": "raw",
   "id": "16b264d5-2636-4814-923f-d1aecfca4a89",
   "metadata": {
    "jupyter": {
     "outputs_hidden": true
    },
    "tags": []
   },
   "source": [
    "merge.divergence([dfs[0], dfs[1]], word_vectors)\n",
    "merge.divergence([dfs[0], dfs[2]], word_vectors)\n",
    "merge.divergence([dfs[1], dfs[2]], word_vectors)"
   ]
  },
  {
   "cell_type": "code",
   "execution_count": 6,
   "id": "9b7b3c13-e2aa-4477-9129-9f4b0a1a81bd",
   "metadata": {},
   "outputs": [
    {
     "data": {
      "text/plain": [
       "<module 'merge' from 'C:\\\\Users\\\\Joseph\\\\Documents\\\\Projects\\\\ALab\\\\CookiesAndCognition\\\\Scripts\\\\merge.py'>"
      ]
     },
     "execution_count": 6,
     "metadata": {},
     "output_type": "execute_result"
    }
   ],
   "source": [
    "reload(merge)"
   ]
  },
  {
   "cell_type": "code",
   "execution_count": 7,
   "id": "40f30064-8c70-47e9-87c7-418c2a3a8cdb",
   "metadata": {
    "tags": []
   },
   "outputs": [
    {
     "data": {
      "application/vnd.jupyter.widget-view+json": {
       "model_id": "95a51e54ebf34b3580de43e5e825e38f",
       "version_major": 2,
       "version_minor": 0
      },
      "text/plain": [
       "ID:   0%|          | 0/6 [00:00<?, ?it/s]"
      ]
     },
     "metadata": {},
     "output_type": "display_data"
    },
    {
     "data": {
      "application/vnd.jupyter.widget-view+json": {
       "model_id": "fc13b9c54b164f56bed9ba84a356ff87",
       "version_major": 2,
       "version_minor": 0
      },
      "text/plain": [
       "Session:   0%|          | 0/5 [00:00<?, ?it/s]"
      ]
     },
     "metadata": {},
     "output_type": "display_data"
    },
    {
     "data": {
      "application/vnd.jupyter.widget-view+json": {
       "model_id": "eb80cec66a7941fcaf23782717ae5be8",
       "version_major": 2,
       "version_minor": 0
      },
      "text/plain": [
       "Session:   0%|          | 0/2 [00:00<?, ?it/s]"
      ]
     },
     "metadata": {},
     "output_type": "display_data"
    },
    {
     "data": {
      "application/vnd.jupyter.widget-view+json": {
       "model_id": "9675347b00924918b334f51ba05f1955",
       "version_major": 2,
       "version_minor": 0
      },
      "text/plain": [
       "Session:   0%|          | 0/2 [00:00<?, ?it/s]"
      ]
     },
     "metadata": {},
     "output_type": "display_data"
    },
    {
     "data": {
      "application/vnd.jupyter.widget-view+json": {
       "model_id": "08fe4806c0b94b3e84273b13c53bf202",
       "version_major": 2,
       "version_minor": 0
      },
      "text/plain": [
       "Session:   0%|          | 0/4 [00:00<?, ?it/s]"
      ]
     },
     "metadata": {},
     "output_type": "display_data"
    },
    {
     "data": {
      "application/vnd.jupyter.widget-view+json": {
       "model_id": "663b7f2dc9884799bb03df0fca0d4443",
       "version_major": 2,
       "version_minor": 0
      },
      "text/plain": [
       "Session:   0%|          | 0/4 [00:00<?, ?it/s]"
      ]
     },
     "metadata": {},
     "output_type": "display_data"
    },
    {
     "data": {
      "application/vnd.jupyter.widget-view+json": {
       "model_id": "178a3b59bd70482a8bcb21d757c80f42",
       "version_major": 2,
       "version_minor": 0
      },
      "text/plain": [
       "Session:   0%|          | 0/2 [00:00<?, ?it/s]"
      ]
     },
     "metadata": {},
     "output_type": "display_data"
    },
    {
     "data": {
      "text/html": [
       "<div>\n",
       "<style scoped>\n",
       "    .dataframe tbody tr th:only-of-type {\n",
       "        vertical-align: middle;\n",
       "    }\n",
       "\n",
       "    .dataframe tbody tr th {\n",
       "        vertical-align: top;\n",
       "    }\n",
       "\n",
       "    .dataframe thead th {\n",
       "        text-align: right;\n",
       "    }\n",
       "</style>\n",
       "<table border=\"1\" class=\"dataframe\">\n",
       "  <thead>\n",
       "    <tr style=\"text-align: right;\">\n",
       "      <th></th>\n",
       "      <th>ID</th>\n",
       "      <th>Session</th>\n",
       "      <th>Receipt</th>\n",
       "      <th>Item</th>\n",
       "    </tr>\n",
       "  </thead>\n",
       "  <tbody>\n",
       "    <tr>\n",
       "      <th>0</th>\n",
       "      <td>114</td>\n",
       "      <td>1</td>\n",
       "      <td>1</td>\n",
       "      <td>turkey bacon</td>\n",
       "    </tr>\n",
       "    <tr>\n",
       "      <th>1</th>\n",
       "      <td>114</td>\n",
       "      <td>1</td>\n",
       "      <td>1</td>\n",
       "      <td>bananas</td>\n",
       "    </tr>\n",
       "    <tr>\n",
       "      <th>2</th>\n",
       "      <td>114</td>\n",
       "      <td>1</td>\n",
       "      <td>1</td>\n",
       "      <td>newspaper</td>\n",
       "    </tr>\n",
       "    <tr>\n",
       "      <th>3</th>\n",
       "      <td>114</td>\n",
       "      <td>1</td>\n",
       "      <td>1</td>\n",
       "      <td>chicken enchilada</td>\n",
       "    </tr>\n",
       "    <tr>\n",
       "      <th>4</th>\n",
       "      <td>114</td>\n",
       "      <td>1</td>\n",
       "      <td>1</td>\n",
       "      <td>dog food</td>\n",
       "    </tr>\n",
       "  </tbody>\n",
       "</table>\n",
       "</div>"
      ],
      "text/plain": [
       "    ID  Session  Receipt               Item\n",
       "0  114        1        1       turkey bacon\n",
       "1  114        1        1            bananas\n",
       "2  114        1        1          newspaper\n",
       "3  114        1        1  chicken enchilada\n",
       "4  114        1        1           dog food"
      ]
     },
     "execution_count": 7,
     "metadata": {},
     "output_type": "execute_result"
    }
   ],
   "source": [
    "df_merged01, df_merged01_wv = merge.merge([dfs[0], dfs[1]], word_vectors)\n",
    "df_merged01.head()"
   ]
  },
  {
   "cell_type": "code",
   "execution_count": 8,
   "id": "3e52472f-b355-4194-a2b4-9b7f631096ce",
   "metadata": {
    "tags": []
   },
   "outputs": [
    {
     "data": {
      "application/vnd.jupyter.widget-view+json": {
       "model_id": "521c6b625e3c48f09a26b7bb85536a63",
       "version_major": 2,
       "version_minor": 0
      },
      "text/plain": [
       "ID:   0%|          | 0/6 [00:00<?, ?it/s]"
      ]
     },
     "metadata": {},
     "output_type": "display_data"
    },
    {
     "data": {
      "application/vnd.jupyter.widget-view+json": {
       "model_id": "bcc88bed3ed54ab1ad1a2ece44be55e2",
       "version_major": 2,
       "version_minor": 0
      },
      "text/plain": [
       "Session:   0%|          | 0/5 [00:00<?, ?it/s]"
      ]
     },
     "metadata": {},
     "output_type": "display_data"
    },
    {
     "data": {
      "application/vnd.jupyter.widget-view+json": {
       "model_id": "d3a976eac84d4308b0fc142656a44b95",
       "version_major": 2,
       "version_minor": 0
      },
      "text/plain": [
       "Session:   0%|          | 0/2 [00:00<?, ?it/s]"
      ]
     },
     "metadata": {},
     "output_type": "display_data"
    },
    {
     "data": {
      "application/vnd.jupyter.widget-view+json": {
       "model_id": "7dcab11df7c54ab582b7198d21e7a298",
       "version_major": 2,
       "version_minor": 0
      },
      "text/plain": [
       "Session:   0%|          | 0/2 [00:00<?, ?it/s]"
      ]
     },
     "metadata": {},
     "output_type": "display_data"
    },
    {
     "data": {
      "application/vnd.jupyter.widget-view+json": {
       "model_id": "985002000f844a6db1ec67808ec67b96",
       "version_major": 2,
       "version_minor": 0
      },
      "text/plain": [
       "Session:   0%|          | 0/4 [00:00<?, ?it/s]"
      ]
     },
     "metadata": {},
     "output_type": "display_data"
    },
    {
     "data": {
      "application/vnd.jupyter.widget-view+json": {
       "model_id": "d95bc963a47d469abc5455bd2a0fd2e4",
       "version_major": 2,
       "version_minor": 0
      },
      "text/plain": [
       "Session:   0%|          | 0/4 [00:00<?, ?it/s]"
      ]
     },
     "metadata": {},
     "output_type": "display_data"
    },
    {
     "data": {
      "application/vnd.jupyter.widget-view+json": {
       "model_id": "a49bd6649a2f465fba447fc733f15117",
       "version_major": 2,
       "version_minor": 0
      },
      "text/plain": [
       "Session:   0%|          | 0/2 [00:00<?, ?it/s]"
      ]
     },
     "metadata": {},
     "output_type": "display_data"
    },
    {
     "data": {
      "text/html": [
       "<div>\n",
       "<style scoped>\n",
       "    .dataframe tbody tr th:only-of-type {\n",
       "        vertical-align: middle;\n",
       "    }\n",
       "\n",
       "    .dataframe tbody tr th {\n",
       "        vertical-align: top;\n",
       "    }\n",
       "\n",
       "    .dataframe thead th {\n",
       "        text-align: right;\n",
       "    }\n",
       "</style>\n",
       "<table border=\"1\" class=\"dataframe\">\n",
       "  <thead>\n",
       "    <tr style=\"text-align: right;\">\n",
       "      <th></th>\n",
       "      <th>ID</th>\n",
       "      <th>Session</th>\n",
       "      <th>Receipt</th>\n",
       "      <th>Item</th>\n",
       "    </tr>\n",
       "  </thead>\n",
       "  <tbody>\n",
       "    <tr>\n",
       "      <th>0</th>\n",
       "      <td>114</td>\n",
       "      <td>1</td>\n",
       "      <td>1</td>\n",
       "      <td>chicken enchilada</td>\n",
       "    </tr>\n",
       "    <tr>\n",
       "      <th>1</th>\n",
       "      <td>114</td>\n",
       "      <td>1</td>\n",
       "      <td>1</td>\n",
       "      <td>dog food</td>\n",
       "    </tr>\n",
       "    <tr>\n",
       "      <th>2</th>\n",
       "      <td>114</td>\n",
       "      <td>1</td>\n",
       "      <td>1</td>\n",
       "      <td>bags tea</td>\n",
       "    </tr>\n",
       "    <tr>\n",
       "      <th>3</th>\n",
       "      <td>114</td>\n",
       "      <td>1</td>\n",
       "      <td>1</td>\n",
       "      <td>jack cheese colby</td>\n",
       "    </tr>\n",
       "    <tr>\n",
       "      <th>4</th>\n",
       "      <td>114</td>\n",
       "      <td>1</td>\n",
       "      <td>1</td>\n",
       "      <td>salad asian</td>\n",
       "    </tr>\n",
       "  </tbody>\n",
       "</table>\n",
       "</div>"
      ],
      "text/plain": [
       "    ID  Session  Receipt               Item\n",
       "0  114        1        1  chicken enchilada\n",
       "1  114        1        1           dog food\n",
       "2  114        1        1           bags tea\n",
       "3  114        1        1  jack cheese colby\n",
       "4  114        1        1        salad asian"
      ]
     },
     "execution_count": 8,
     "metadata": {},
     "output_type": "execute_result"
    }
   ],
   "source": [
    "df_merged02, df_merged02_wv = merge.merge([dfs[0], dfs[2]], word_vectors)\n",
    "df_merged02.head()"
   ]
  },
  {
   "cell_type": "code",
   "execution_count": null,
   "id": "83e2a46a-c010-427c-80d8-e2bf3bb82e7a",
   "metadata": {
    "tags": []
   },
   "outputs": [
    {
     "data": {
      "application/vnd.jupyter.widget-view+json": {
       "model_id": "624894033d994104ae94e8c1b5a0198a",
       "version_major": 2,
       "version_minor": 0
      },
      "text/plain": [
       "ID:   0%|          | 0/6 [00:00<?, ?it/s]"
      ]
     },
     "metadata": {},
     "output_type": "display_data"
    },
    {
     "data": {
      "application/vnd.jupyter.widget-view+json": {
       "model_id": "09b4b6cb802c4bebaf3a0ff465711c88",
       "version_major": 2,
       "version_minor": 0
      },
      "text/plain": [
       "Session:   0%|          | 0/2 [00:00<?, ?it/s]"
      ]
     },
     "metadata": {},
     "output_type": "display_data"
    },
    {
     "data": {
      "application/vnd.jupyter.widget-view+json": {
       "model_id": "f70f39e200da4a00a55a1aeed6234e13",
       "version_major": 2,
       "version_minor": 0
      },
      "text/plain": [
       "Session:   0%|          | 0/2 [00:00<?, ?it/s]"
      ]
     },
     "metadata": {},
     "output_type": "display_data"
    }
   ],
   "source": [
    "df_merged12, df_merged12_wv = merge.merge([dfs[1], dfs[2]], word_vectors)\n",
    "df_merged12.head()"
   ]
  },
  {
   "cell_type": "code",
   "execution_count": null,
   "id": "fbdd8dec-7a2c-4ce6-ab6a-2dea8a01ed44",
   "metadata": {},
   "outputs": [],
   "source": [
    "df_merged01_2, df_merged01_2_wv = merge.merge([df_merged01, dfs[2]], word_vectors)\n",
    "df_merged01_2.head()"
   ]
  },
  {
   "cell_type": "code",
   "execution_count": null,
   "id": "57662faf-88d0-450f-a1c3-45199c542c32",
   "metadata": {
    "tags": []
   },
   "outputs": [],
   "source": [
    "df_merged01.info()\n",
    "df_merged02.info()\n",
    "df_merged12.info()\n",
    "df_merged01_2.info()"
   ]
  },
  {
   "cell_type": "code",
   "execution_count": null,
   "id": "b0ee4393-5775-49d1-b35e-ae5face80beb",
   "metadata": {
    "tags": []
   },
   "outputs": [],
   "source": [
    "display(df_merged02_wv)"
   ]
  },
  {
   "cell_type": "code",
   "execution_count": null,
   "id": "84b58cfc-a6ca-42d4-8ac3-beccddcb613a",
   "metadata": {},
   "outputs": [],
   "source": [
    "# barbecue sauce\tbbq sauce\tsauce spicy\n",
    "item1 = \"barbecue\".split()\n",
    "item2 = \"bbq\".split()\n",
    "print(word_vectors.n_similarity(item1, item2))\n",
    "print(word_vectors.most_similar(positive=[*item1, *item2], topn=5))\n",
    "print(word_vectors.wmdistance(item1, item2))"
   ]
  },
  {
   "cell_type": "code",
   "execution_count": null,
   "id": "10224d3a-7e8c-4ba7-bc04-4a8ea3415c90",
   "metadata": {},
   "outputs": [],
   "source": []
  }
 ],
 "metadata": {
  "kernelspec": {
   "display_name": "Python 3 (ipykernel)",
   "language": "python",
   "name": "python3"
  },
  "language_info": {
   "codemirror_mode": {
    "name": "ipython",
    "version": 3
   },
   "file_extension": ".py",
   "mimetype": "text/x-python",
   "name": "python",
   "nbconvert_exporter": "python",
   "pygments_lexer": "ipython3",
   "version": "3.9.7"
  }
 },
 "nbformat": 4,
 "nbformat_minor": 5
}
