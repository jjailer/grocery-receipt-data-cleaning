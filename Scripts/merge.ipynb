{
 "cells": [
  {
   "cell_type": "code",
   "execution_count": null,
   "id": "6c248283-b7b1-480a-b641-406ccc6fc1f7",
   "metadata": {},
   "outputs": [],
   "source": [
    "import numpy as np\n",
    "import pandas as pd\n",
    "import datetime\n",
    "import re\n",
    "\n",
    "import gensim.downloader as api\n",
    "word_vectors = api.load(\"glove-wiki-gigaword-200\")\n",
    "\n",
    "pd.options.display.max_rows = 999"
   ]
  },
  {
   "cell_type": "code",
   "execution_count": null,
   "id": "15c97439-9dba-4cda-9f8e-1058149788ea",
   "metadata": {},
   "outputs": [],
   "source": [
    "DATA_PATH = '../Data/'\n",
    "df_max = pd.read_csv(DATA_PATH + 'clean_max.csv', index_col=0, parse_dates=[3])\n",
    "df_mar = pd.read_csv(DATA_PATH + 'clean_mar.csv', index_col=0, parse_dates=[3])\n",
    "df_sam = pd.read_csv(DATA_PATH + 'clean_sam.csv', index_col=0, parse_dates=[3])\n",
    "\n",
    "df_all = [df_max, df_mar, df_sam]\n",
    "df_sizes = [df.shape[0] for df in df_all]"
   ]
  },
  {
   "cell_type": "code",
   "execution_count": null,
   "id": "082ba0bf-e068-4d9d-8ea5-8e7d68459145",
   "metadata": {
    "tags": []
   },
   "outputs": [],
   "source": [
    "### Assign Data Types \n",
    "int_columns = ['ID', 'Session', 'Receipt', 'Quantity']\n",
    "string_columns = ['Item', 'ItemMore', 'Category', 'Comment']\n",
    "for df in df_all:\n",
    "    df.loc[:, int_columns] = df[int_columns].astype(int)\n",
    "    df.loc[:, string_columns] = df[string_columns].astype(str)\n",
    "    df.loc[:, 'Date'] = pd.to_datetime(df.Date, errors='coerce').dt.date"
   ]
  },
  {
   "cell_type": "code",
   "execution_count": null,
   "id": "44e644dc-0e3d-4a70-92eb-c134df71bff6",
   "metadata": {
    "tags": []
   },
   "outputs": [],
   "source": [
    "### Shared Participants\n",
    "ids_shared = set(df_max.ID.unique()) & set(df_mar.ID.unique()) & set(df_sam.ID.unique())\n",
    "\n",
    "df_shared = []\n",
    "for df in df_all:\n",
    "    df_shared.append(df[df.ID.isin(ids_shared)].copy())"
   ]
  },
  {
   "cell_type": "code",
   "execution_count": null,
   "id": "096f5e2a-2e18-4cae-a7c4-cc9046f70180",
   "metadata": {
    "tags": []
   },
   "outputs": [],
   "source": [
    "### Compare\n",
    "def compare(df):\n",
    "    result = []\n",
    "    df_split = df.str.split()\n",
    "    \n",
    "    # return shared words\n",
    "    shared_words = list(set.intersection(*map(set, df_split)))\n",
    "    if shared_words:\n",
    "        for word in shared_words:\n",
    "            result.append(word)\n",
    "        df_unique = [[word for word in phrase if word not in shared_words] for phrase in df_split]\n",
    "    else:\n",
    "        df_unique = df_split\n",
    "    \n",
    "    # discard word outside vocabulary\n",
    "    df_in_voc = [[word for word in phrase if word in word_vectors.vocab] for phrase in df_unique]\n",
    "    \n",
    "    # if any text is exhausted return\n",
    "    if not all(df_in_voc):\n",
    "        df['WordVec'] = ' '.join(result)\n",
    "        df['Similarity'] = 1.0\n",
    "        return df\n",
    "    \n",
    "    # use word vectors to average remaining words\n",
    "    words = [word for text in df_in_voc for word in text]\n",
    "    wv_result = word_vectors.most_similar(positive=[*words])\n",
    "    most_similar_key, similarity = wv_result[0]\n",
    "    result.append(most_similar_key)\n",
    "    df['WordVec'] = ' '.join(result)\n",
    "    df['Similarity'] = round(similarity, 3)\n",
    "    return df"
   ]
  },
  {
   "cell_type": "code",
   "execution_count": null,
   "id": "12b871ae-8279-4eea-b535-7463f1c3902e",
   "metadata": {
    "tags": []
   },
   "outputs": [],
   "source": [
    "### Align Data Sets by hand\n",
    "# ID 137 and 114 have low variation\n",
    "df1 = df_shared[0].loc[df_shared[0].ID == 137, ['Item']].copy().reset_index(drop=True)\n",
    "df3 = df_shared[2].loc[df_shared[2].ID == 137, ['Item']].copy().reset_index(drop=True)\n",
    "\n",
    "# align by inspecting for proof of concept\n",
    "df3_aligned = df3.drop([102]).reset_index(drop=True)\n",
    "df_hand_aligned = pd.concat([df1, df3_aligned], axis=1)\n",
    "df_hand_aligned.columns = ['Item1', 'Item3']\n",
    "\n",
    "### Pre-process\n",
    "df_hand_aligned['Item1'] = df_hand_aligned['Item1'].str.replace(r'[()?]', '', regex=True)\n",
    "df_hand_aligned['Item1'] = df_hand_aligned['Item1'].str.replace(r'/', ' ', regex=False)\n",
    "df_hand_aligned['Item1'] = df_hand_aligned['Item1'].str.replace(r'unknown', '', regex=False)\n",
    "df_hand_aligned['Item1'] = df_hand_aligned['Item1'].str.replace(r'nan', '', regex=False)\n",
    "\n",
    "df_hand_aligned['Item3'] = df_hand_aligned['Item3'].str.replace(r'[()?]', '', regex=True)\n",
    "df_hand_aligned['Item3'] = df_hand_aligned['Item3'].str.replace(r'/', ' ', regex=False)\n",
    "df_hand_aligned['Item3'] = df_hand_aligned['Item3'].str.replace(r'unknown', '', regex=False)\n",
    "df_hand_aligned['Item3'] = df_hand_aligned['Item3'].str.replace(r'nan', '', regex=False)\n",
    "\n",
    "df_hand_aligned = df_hand_aligned.apply(compare, axis=1)\n",
    "display(df_hand_aligned)"
   ]
  },
  {
   "cell_type": "code",
   "execution_count": null,
   "id": "7d78a428-9d8e-40ba-930b-ba3a22edaa21",
   "metadata": {
    "tags": []
   },
   "outputs": [],
   "source": [
    "### Pre-process\n",
    "df = pd.concat([df1, df2, df3], axis=1)\n",
    "\n",
    "df.columns = ['Item1', 'Item2', 'Item3']\n",
    "df['Item1'] = df['Item1'].str.replace(r'[()?]', '', regex=True)\n",
    "df['Item1'] = df['Item1'].str.replace(r'/', ' ', regex=False)\n",
    "df['Item1'] = df['Item1'].str.replace(r'unknown', '', regex=False)\n",
    "df['Item1'] = df['Item1'].str.replace(r'nan', '', regex=False)\n",
    "\n",
    "df['Item2'] = df['Item2'].str.replace(r'[()?]', '', regex=True)\n",
    "df['Item2'] = df['Item2'].str.replace(r'/', ' ', regex=False)\n",
    "df['Item2'] = df['Item2'].str.replace(r'unknown', '', regex=False)\n",
    "df['Item2'] = df['Item2'].str.replace(r'nan', '', regex=False)\n",
    "\n",
    "df['Item3'] = df['Item3'].str.replace(r'[()?]', '', regex=True)\n",
    "df['Item3'] = df['Item3'].str.replace(r'/', ' ', regex=False)\n",
    "df['Item3'] = df['Item3'].str.replace(r'unknown', '', regex=False)\n",
    "df['Item3'] = df['Item3'].str.replace(r'nan', '', regex=False)\n",
    "\n",
    "df = df.fillna('')\n",
    "\n",
    "df = df.apply(compare, axis=1)\n",
    "display(df)"
   ]
  },
  {
   "cell_type": "code",
   "execution_count": null,
   "id": "232ae3fe-b14d-4ce9-82f5-e2720f24b558",
   "metadata": {},
   "outputs": [],
   "source": []
  }
 ],
 "metadata": {
  "kernelspec": {
   "display_name": "Python 3 (ipykernel)",
   "language": "python",
   "name": "python3"
  },
  "language_info": {
   "codemirror_mode": {
    "name": "ipython",
    "version": 3
   },
   "file_extension": ".py",
   "mimetype": "text/x-python",
   "name": "python",
   "nbconvert_exporter": "python",
   "pygments_lexer": "ipython3",
   "version": "3.9.7"
  }
 },
 "nbformat": 4,
 "nbformat_minor": 5
}
