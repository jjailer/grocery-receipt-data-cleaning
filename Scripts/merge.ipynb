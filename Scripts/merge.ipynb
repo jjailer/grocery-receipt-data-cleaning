{
 "cells": [
  {
   "cell_type": "code",
   "execution_count": null,
   "id": "15c97439-9dba-4cda-9f8e-1058149788ea",
   "metadata": {},
   "outputs": [],
   "source": [
    "data_path = '../Data/'\n",
    "df_max = pd.read_csv(data_path + 'clean_max.csv', index_col = 0, parse_dates = [3])\n",
    "df_mar = pd.read_csv(data_path + 'clean_mar.csv', index_col = 0, parse_dates = [3])\n",
    "df_sam = pd.read_csv(data_path + 'clean_sam.csv', index_col = 0, parse_dates = [3])\n",
    "\n",
    "df_all = [df_max, df_mar, df_sam]\n",
    "df_max.info()"
   ]
  },
  {
   "cell_type": "code",
   "execution_count": null,
   "id": "bb25f34d-06ac-4c7e-8183-104d026190fa",
   "metadata": {},
   "outputs": [],
   "source": [
    "### Basket item verification across shared participants\n",
    "\n",
    "## Build multi-index (ID, BasketNum, ItemNum) \n",
    "for df in df_shared:\n",
    "    # Generate BasketNum column\n",
    "    df['BasketNum'] = np.nan    \n",
    "    for pid in df['ID'].unique():\n",
    "        basket_counter = 0\n",
    "        \n",
    "        for session in df.loc[df['ID'] == pid, 'Session'].unique():\n",
    "            \n",
    "            for receipt in df.loc[(df['ID'] == pid) & (df['Session'] == session), 'ReceiptNum'].unique():\n",
    "                basket_counter += 1\n",
    "                df.loc[(df['ID'] == pid) & (df['Session'] == session) & (df['ReceiptNum'] == receipt), 'BasketNum'] = basket_counter\n",
    "\n",
    "    df['BasketNum'] = df['BasketNum'].astype('Int16')\n",
    "\n",
    "    # Generate ItemNum column\n",
    "    df['ItemNum'] = np.nan  \n",
    "    for pid in df['ID'].unique():\n",
    "        \n",
    "        for basket in df.loc[df['ID'] == pid, 'BasketNum'].unique():\n",
    "            df.loc[(df['ID'] == pid) & (df['BasketNum'] == basket), 'ItemNum'] = \\\n",
    "                    range(1, df.loc[(df['ID'] == pid) & (df['BasketNum'] == basket), 'ItemNum'].size + 1)\n",
    "\n",
    "    df['ItemNum'] = df['ItemNum'].astype('Int16')\n",
    "    df.drop(columns = ['Session', 'ReceiptNum'], inplace = True)\n",
    "\n",
    "    # Create multi-index\n",
    "    df.set_index(['ID', 'BasketNum', 'ItemNum'], inplace = True)\n",
    "    df.sort_index(inplace = True)\n",
    "    assert df.index.is_monotonic_increasing"
   ]
  },
  {
   "cell_type": "code",
   "execution_count": null,
   "id": "7a04e3e5-2d9e-49de-bffc-c721150bf656",
   "metadata": {},
   "outputs": [],
   "source": [
    "## Statistics on shared multi-indicies\n",
    "assert df_shared[0].index.unique(0).equals(df_shared[1].index.unique(0)) and df_shared[1].index.unique(0).equals(df_shared[2].index.unique(0)) \n",
    "\n",
    "# Symmetric difference of three sets = (A delta B delta C) - (A & B & C)\n",
    "index_sym_diff = list(set(df_shared[0].loc[shared_ids].index.symmetric_difference(df_shared[1].loc[shared_ids].index).symmetric_difference(df_shared[2].loc[shared_ids].index).tolist()) \\\n",
    "      - set(df_shared[0].loc[shared_ids].index.intersection(df_shared[1].loc[shared_ids].index).intersection(df_shared[2].loc[shared_ids].index).tolist()))\n",
    "index_sym_diff = sorted(sorted(sorted(index_sym_diff, key = lambda i: i[2]), key = lambda i: i[1]), key = lambda i: i[0])\n",
    "print('Symmetric difference of three indices\\n', index_sym_diff)"
   ]
  },
  {
   "cell_type": "code",
   "execution_count": null,
   "id": "22adfcb7-a319-435a-806d-5864a0a7c9ac",
   "metadata": {},
   "outputs": [],
   "source": [
    "# TODO check for basket count agreement\n",
    "for pid in df_shared[0].index.unique(0):\n",
    "    print('\\nID:', pid)\n",
    "    for df in df_shared:\n",
    "        print(df.loc[pid].index.unique(0)) # TODO restrict to PID"
   ]
  },
  {
   "cell_type": "code",
   "execution_count": null,
   "id": "5ac9ed9d-d658-401d-a72c-0816d5890972",
   "metadata": {},
   "outputs": [],
   "source": [
    "display(df_shared[0].loc[137, ['Item']].join(df_shared[1].loc[137, ['Item']], how = 'outer', lsuffix = '_0', rsuffix = '_1'))"
   ]
  },
  {
   "cell_type": "code",
   "execution_count": null,
   "id": "fad1f73b-0ac5-494c-83ea-b70a866ddf69",
   "metadata": {},
   "outputs": [],
   "source": [
    "# Drop unusable rows\n",
    "essential_drop_count, unknown_drop_count, duplicate_drop_count, total_drop_count = [], [], [], []\n",
    "for df in df_all:\n",
    "    # missing essential values\n",
    "    essential_drop_count.append(df[['ID', 'Session', 'ReceiptNum', 'Item']].isna().sum().sum())\n",
    "    df.dropna(subset = ['ID', 'Session', 'ReceiptNum', 'Item'], inplace = True)\n",
    "    \n",
    "    # unreliable\n",
    "    unknown_drop_count.append(df[df['Unknown'] == 'x'].isna().sum().sum())\n",
    "    df.drop(df[df['Unknown'] == 'x'].index, inplace = True)\n",
    "    \n",
    "    # duplicate receipts\n",
    "    duplicate_drop_count.append(df['Comment'].str.contains(r'duplicate|repeat').sum())\n",
    "    df.drop(df[df['Comment'].str.contains(r'duplicate|repeat')].index, inplace = True)\n",
    "    \n",
    "    assert df[['ID', 'Session', 'ReceiptNum', 'Item']].notna().all(axis = None)\n",
    "    assert df_max['Unknown'].isna().all()\n",
    "    assert not df['Comment'].str.contains(r'duplicate|repeat').any()\n",
    "\n",
    "print('Number of columns dropped due to missing essential columns:', essential_drop_count)\n",
    "print('Number of columns dropped due to item being marked as \"unknown\":', unknown_drop_count)\n",
    "print('Number of duplicate columns dropped:', duplicate_drop_count)\n",
    "\n",
    "total_drop_count = [sum(c) for c in zip(essential_drop_count, unknown_drop_count, duplicate_drop_count)]\n",
    "print('Total number of dropped rows:', total_drop_count)\n",
    "\n",
    "drop_percentage = [round(c[0] / c[1] * 100) for c in zip(total_drop_count, df_sizes)]\n",
    "print('Drop percentage:', drop_percentage)"
   ]
  },
  {
   "cell_type": "raw",
   "id": "27e49e82-4fbf-4b46-8dd0-1de5db060dc6",
   "metadata": {},
   "source": [
    "# TODO\n",
    "measure item number disagreement\n",
    "expand out NumPurchased\n",
    "are basket lengths the same after accounting for num purchased?"
   ]
  }
 ],
 "metadata": {
  "kernelspec": {
   "display_name": "Python 3 (ipykernel)",
   "language": "python",
   "name": "python3"
  },
  "language_info": {
   "codemirror_mode": {
    "name": "ipython",
    "version": 3
   },
   "file_extension": ".py",
   "mimetype": "text/x-python",
   "name": "python",
   "nbconvert_exporter": "python",
   "pygments_lexer": "ipython3",
   "version": "3.9.7"
  }
 },
 "nbformat": 4,
 "nbformat_minor": 5
}
