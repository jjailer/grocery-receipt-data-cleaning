{
 "cells": [
  {
   "cell_type": "markdown",
   "id": "3519e4e1-be57-499f-ad40-e7b890bec5ce",
   "metadata": {},
   "source": [
    "## Merging Repeated Transcription Data\n",
    "There are two collections of participants that were repeatedly transcribed. Transcription produces several types of variation including alternate spellings (\"mangos\" vs \"mangoes\"), synonyms (\"beef patty\" vs \"hamburger\"), as well as the documented variation in the number of items transcribed leading to misalignments and common typos. The data sets are merged algorithmically. Finally, the merged sets are concatenated along with the transcription data unique to each transcriber."
   ]
  },
  {
   "cell_type": "code",
   "execution_count": 1,
   "id": "6c248283-b7b1-480a-b641-406ccc6fc1f7",
   "metadata": {
    "tags": []
   },
   "outputs": [],
   "source": [
    "import copy\n",
    "\n",
    "import pandas as pd\n",
    "import gensim.downloader as api\n",
    "from importlib import reload\n",
    "\n",
    "import merge"
   ]
  },
  {
   "cell_type": "code",
   "execution_count": 2,
   "id": "b3f27c09-f9e8-4a0d-9ade-e05599415198",
   "metadata": {},
   "outputs": [],
   "source": [
    "pd.set_option('display.max_rows', 1000)"
   ]
  },
  {
   "cell_type": "markdown",
   "id": "eba3da2c-c25a-45ae-97a2-1311a1e62c18",
   "metadata": {},
   "source": [
    "When two item descriptions are sufficiently divergent, for example, \"hamburger meat\" compared with \"beef patties,\" we use pre-trained word embeddings from [gensim](https://github.com/RaRe-Technologies/gensim-data#models) to compute their similarity. "
   ]
  },
  {
   "cell_type": "code",
   "execution_count": 3,
   "id": "de17825f-cb41-47f1-87c1-16abbfa18de7",
   "metadata": {
    "tags": []
   },
   "outputs": [
    {
     "name": "stdout",
     "output_type": "stream",
     "text": [
      "Wall time: 1min 32s\n"
     ]
    }
   ],
   "source": [
    "%time word_vectors = api.load(\"glove-wiki-gigaword-300\") # 50, 100, 200, 300 sizes available"
   ]
  },
  {
   "cell_type": "markdown",
   "id": "7b3ad2db-edf2-4b6a-87ae-7d482230d424",
   "metadata": {},
   "source": [
    "### All Three\n",
    "A collection of participants was transcribed in all three data sets. Merging three data columns requires two iterations of merge.py."
   ]
  },
  {
   "cell_type": "code",
   "execution_count": 4,
   "id": "15c97439-9dba-4cda-9f8e-1058149788ea",
   "metadata": {
    "tags": []
   },
   "outputs": [
    {
     "name": "stdout",
     "output_type": "stream",
     "text": [
      "Wall time: 12 ms\n"
     ]
    }
   ],
   "source": [
    "%%time\n",
    "DATA_PATH = '../Data/'\n",
    "FILES_ALL_THREE = ['all_three_max_to_merge', 'all_three_maria_to_merge', 'all_three_samantha_to_merge']\n",
    "COLS = [0, 1, 2, 3, 4]  # Index, ID, Session, Receipt, Item\n",
    "DTYPES = {'ID': 'uint8', 'Session': 'uint8', 'Receipt': 'uint8', 'Item': 'string'}\n",
    "\n",
    "dfs_all_three = [pd.read_csv(DATA_PATH + file + '.csv', index_col=0, usecols=COLS, dtype=DTYPES) for file in FILES_ALL_THREE]"
   ]
  },
  {
   "cell_type": "code",
   "execution_count": 5,
   "id": "40f30064-8c70-47e9-87c7-418c2a3a8cdb",
   "metadata": {
    "tags": []
   },
   "outputs": [
    {
     "data": {
      "application/vnd.jupyter.widget-view+json": {
       "model_id": "1ca062c2a6524f5b9ea47278b0057789",
       "version_major": 2,
       "version_minor": 0
      },
      "text/plain": [
       "ID:   0%|          | 0/6 [00:00<?, ?it/s]"
      ]
     },
     "metadata": {},
     "output_type": "display_data"
    },
    {
     "ename": "KeyboardInterrupt",
     "evalue": "",
     "output_type": "error",
     "traceback": [
      "\u001b[1;31m---------------------------------------------------------------------------\u001b[0m",
      "\u001b[1;31mKeyboardInterrupt\u001b[0m                         Traceback (most recent call last)",
      "\u001b[1;32m<timed exec>\u001b[0m in \u001b[0;36m<module>\u001b[1;34m\u001b[0m\n",
      "\u001b[1;32m~\\Documents\\Projects\\ALab\\CookiesAndCognition\\Scripts\\merge.py\u001b[0m in \u001b[0;36mmerge\u001b[1;34m(dfs, word_vectors)\u001b[0m\n\u001b[0;32m    255\u001b[0m         \u001b[1;32mfor\u001b[0m \u001b[0msession\u001b[0m \u001b[1;32min\u001b[0m \u001b[0mdfs\u001b[0m\u001b[1;33m[\u001b[0m\u001b[1;36m0\u001b[0m\u001b[1;33m]\u001b[0m\u001b[1;33m.\u001b[0m\u001b[0mloc\u001b[0m\u001b[1;33m[\u001b[0m\u001b[0mdfs\u001b[0m\u001b[1;33m[\u001b[0m\u001b[1;36m0\u001b[0m\u001b[1;33m]\u001b[0m\u001b[1;33m.\u001b[0m\u001b[0mID\u001b[0m \u001b[1;33m==\u001b[0m \u001b[0mpid\u001b[0m\u001b[1;33m,\u001b[0m \u001b[1;34m'Session'\u001b[0m\u001b[1;33m]\u001b[0m\u001b[1;33m.\u001b[0m\u001b[0munique\u001b[0m\u001b[1;33m(\u001b[0m\u001b[1;33m)\u001b[0m\u001b[1;33m:\u001b[0m\u001b[1;33m\u001b[0m\u001b[1;33m\u001b[0m\u001b[0m\n\u001b[0;32m    256\u001b[0m             \u001b[1;32mfor\u001b[0m \u001b[0mreceipt\u001b[0m \u001b[1;32min\u001b[0m \u001b[0mdfs\u001b[0m\u001b[1;33m[\u001b[0m\u001b[1;36m0\u001b[0m\u001b[1;33m]\u001b[0m\u001b[1;33m.\u001b[0m\u001b[0mloc\u001b[0m\u001b[1;33m[\u001b[0m\u001b[1;33m(\u001b[0m\u001b[0mdfs\u001b[0m\u001b[1;33m[\u001b[0m\u001b[1;36m0\u001b[0m\u001b[1;33m]\u001b[0m\u001b[1;33m.\u001b[0m\u001b[0mID\u001b[0m \u001b[1;33m==\u001b[0m \u001b[0mpid\u001b[0m\u001b[1;33m)\u001b[0m \u001b[1;33m&\u001b[0m \u001b[1;33m(\u001b[0m\u001b[0mdfs\u001b[0m\u001b[1;33m[\u001b[0m\u001b[1;36m0\u001b[0m\u001b[1;33m]\u001b[0m\u001b[1;33m.\u001b[0m\u001b[0mSession\u001b[0m \u001b[1;33m==\u001b[0m \u001b[0msession\u001b[0m\u001b[1;33m)\u001b[0m\u001b[1;33m,\u001b[0m \u001b[1;34m'Receipt'\u001b[0m\u001b[1;33m]\u001b[0m\u001b[1;33m.\u001b[0m\u001b[0munique\u001b[0m\u001b[1;33m(\u001b[0m\u001b[1;33m)\u001b[0m\u001b[1;33m:\u001b[0m\u001b[1;33m\u001b[0m\u001b[1;33m\u001b[0m\u001b[0m\n\u001b[1;32m--> 257\u001b[1;33m                 df_large = pd.concat([df_large, align(dfs[0].loc[(dfs[0].ID == pid) & \n\u001b[0m\u001b[0;32m    258\u001b[0m                                                                  \u001b[1;33m(\u001b[0m\u001b[0mdfs\u001b[0m\u001b[1;33m[\u001b[0m\u001b[1;36m0\u001b[0m\u001b[1;33m]\u001b[0m\u001b[1;33m.\u001b[0m\u001b[0mSession\u001b[0m \u001b[1;33m==\u001b[0m \u001b[0msession\u001b[0m\u001b[1;33m)\u001b[0m \u001b[1;33m&\u001b[0m\u001b[1;33m\u001b[0m\u001b[1;33m\u001b[0m\u001b[0m\n\u001b[0;32m    259\u001b[0m                                                                  (dfs[0].Receipt == receipt)].reset_index(drop=True),\n",
      "\u001b[1;32m~\\Documents\\Projects\\ALab\\CookiesAndCognition\\Scripts\\merge.py\u001b[0m in \u001b[0;36malign\u001b[1;34m(df1, df2, word_vectors, count_only)\u001b[0m\n\u001b[0;32m    173\u001b[0m             \u001b[0mp\u001b[0m \u001b[1;33m=\u001b[0m \u001b[0mpd\u001b[0m\u001b[1;33m.\u001b[0m\u001b[0mIndex\u001b[0m\u001b[1;33m(\u001b[0m\u001b[0mp\u001b[0m\u001b[1;33m)\u001b[0m\u001b[1;33m\u001b[0m\u001b[1;33m\u001b[0m\u001b[0m\n\u001b[0;32m    174\u001b[0m             total_distance.append(\n\u001b[1;32m--> 175\u001b[1;33m                 sum(pd.concat(\n\u001b[0m\u001b[0;32m    176\u001b[0m                     \u001b[1;33m[\u001b[0m\u001b[0mdf1_reindexed\u001b[0m\u001b[1;33m.\u001b[0m\u001b[0mItem\u001b[0m\u001b[1;33m,\u001b[0m \u001b[0mdf2\u001b[0m\u001b[1;33m.\u001b[0m\u001b[0mloc\u001b[0m\u001b[1;33m[\u001b[0m\u001b[0mp\u001b[0m\u001b[1;33m,\u001b[0m \u001b[1;34m'Item'\u001b[0m\u001b[1;33m]\u001b[0m\u001b[1;33m.\u001b[0m\u001b[0mreset_index\u001b[0m\u001b[1;33m(\u001b[0m\u001b[0mdrop\u001b[0m\u001b[1;33m=\u001b[0m\u001b[1;32mTrue\u001b[0m\u001b[1;33m)\u001b[0m\u001b[1;33m]\u001b[0m\u001b[1;33m,\u001b[0m \u001b[0maxis\u001b[0m\u001b[1;33m=\u001b[0m\u001b[1;36m1\u001b[0m\u001b[1;33m)\u001b[0m\u001b[1;33m.\u001b[0m\u001b[0mapply\u001b[0m\u001b[1;33m(\u001b[0m\u001b[0mcompare_naive\u001b[0m\u001b[1;33m,\u001b[0m\u001b[1;33m\u001b[0m\u001b[1;33m\u001b[0m\u001b[0m\n\u001b[0;32m    177\u001b[0m                                                                                   axis=1, args=(word_vectors,)).Distance))        \n",
      "\u001b[1;32m~\\anaconda3\\lib\\site-packages\\pandas\\core\\frame.py\u001b[0m in \u001b[0;36mapply\u001b[1;34m(self, func, axis, raw, result_type, args, **kwargs)\u001b[0m\n\u001b[0;32m   8738\u001b[0m             \u001b[0mkwargs\u001b[0m\u001b[1;33m=\u001b[0m\u001b[0mkwargs\u001b[0m\u001b[1;33m,\u001b[0m\u001b[1;33m\u001b[0m\u001b[1;33m\u001b[0m\u001b[0m\n\u001b[0;32m   8739\u001b[0m         )\n\u001b[1;32m-> 8740\u001b[1;33m         \u001b[1;32mreturn\u001b[0m \u001b[0mop\u001b[0m\u001b[1;33m.\u001b[0m\u001b[0mapply\u001b[0m\u001b[1;33m(\u001b[0m\u001b[1;33m)\u001b[0m\u001b[1;33m\u001b[0m\u001b[1;33m\u001b[0m\u001b[0m\n\u001b[0m\u001b[0;32m   8741\u001b[0m \u001b[1;33m\u001b[0m\u001b[0m\n\u001b[0;32m   8742\u001b[0m     def applymap(\n",
      "\u001b[1;32m~\\anaconda3\\lib\\site-packages\\pandas\\core\\apply.py\u001b[0m in \u001b[0;36mapply\u001b[1;34m(self)\u001b[0m\n\u001b[0;32m    686\u001b[0m             \u001b[1;32mreturn\u001b[0m \u001b[0mself\u001b[0m\u001b[1;33m.\u001b[0m\u001b[0mapply_raw\u001b[0m\u001b[1;33m(\u001b[0m\u001b[1;33m)\u001b[0m\u001b[1;33m\u001b[0m\u001b[1;33m\u001b[0m\u001b[0m\n\u001b[0;32m    687\u001b[0m \u001b[1;33m\u001b[0m\u001b[0m\n\u001b[1;32m--> 688\u001b[1;33m         \u001b[1;32mreturn\u001b[0m \u001b[0mself\u001b[0m\u001b[1;33m.\u001b[0m\u001b[0mapply_standard\u001b[0m\u001b[1;33m(\u001b[0m\u001b[1;33m)\u001b[0m\u001b[1;33m\u001b[0m\u001b[1;33m\u001b[0m\u001b[0m\n\u001b[0m\u001b[0;32m    689\u001b[0m \u001b[1;33m\u001b[0m\u001b[0m\n\u001b[0;32m    690\u001b[0m     \u001b[1;32mdef\u001b[0m \u001b[0magg\u001b[0m\u001b[1;33m(\u001b[0m\u001b[0mself\u001b[0m\u001b[1;33m)\u001b[0m\u001b[1;33m:\u001b[0m\u001b[1;33m\u001b[0m\u001b[1;33m\u001b[0m\u001b[0m\n",
      "\u001b[1;32m~\\anaconda3\\lib\\site-packages\\pandas\\core\\apply.py\u001b[0m in \u001b[0;36mapply_standard\u001b[1;34m(self)\u001b[0m\n\u001b[0;32m    810\u001b[0m \u001b[1;33m\u001b[0m\u001b[0m\n\u001b[0;32m    811\u001b[0m     \u001b[1;32mdef\u001b[0m \u001b[0mapply_standard\u001b[0m\u001b[1;33m(\u001b[0m\u001b[0mself\u001b[0m\u001b[1;33m)\u001b[0m\u001b[1;33m:\u001b[0m\u001b[1;33m\u001b[0m\u001b[1;33m\u001b[0m\u001b[0m\n\u001b[1;32m--> 812\u001b[1;33m         \u001b[0mresults\u001b[0m\u001b[1;33m,\u001b[0m \u001b[0mres_index\u001b[0m \u001b[1;33m=\u001b[0m \u001b[0mself\u001b[0m\u001b[1;33m.\u001b[0m\u001b[0mapply_series_generator\u001b[0m\u001b[1;33m(\u001b[0m\u001b[1;33m)\u001b[0m\u001b[1;33m\u001b[0m\u001b[1;33m\u001b[0m\u001b[0m\n\u001b[0m\u001b[0;32m    813\u001b[0m \u001b[1;33m\u001b[0m\u001b[0m\n\u001b[0;32m    814\u001b[0m         \u001b[1;31m# wrap results\u001b[0m\u001b[1;33m\u001b[0m\u001b[1;33m\u001b[0m\u001b[0m\n",
      "\u001b[1;32m~\\anaconda3\\lib\\site-packages\\pandas\\core\\apply.py\u001b[0m in \u001b[0;36mapply_series_generator\u001b[1;34m(self)\u001b[0m\n\u001b[0;32m    826\u001b[0m             \u001b[1;32mfor\u001b[0m \u001b[0mi\u001b[0m\u001b[1;33m,\u001b[0m \u001b[0mv\u001b[0m \u001b[1;32min\u001b[0m \u001b[0menumerate\u001b[0m\u001b[1;33m(\u001b[0m\u001b[0mseries_gen\u001b[0m\u001b[1;33m)\u001b[0m\u001b[1;33m:\u001b[0m\u001b[1;33m\u001b[0m\u001b[1;33m\u001b[0m\u001b[0m\n\u001b[0;32m    827\u001b[0m                 \u001b[1;31m# ignore SettingWithCopy here in case the user mutates\u001b[0m\u001b[1;33m\u001b[0m\u001b[1;33m\u001b[0m\u001b[0m\n\u001b[1;32m--> 828\u001b[1;33m                 \u001b[0mresults\u001b[0m\u001b[1;33m[\u001b[0m\u001b[0mi\u001b[0m\u001b[1;33m]\u001b[0m \u001b[1;33m=\u001b[0m \u001b[0mself\u001b[0m\u001b[1;33m.\u001b[0m\u001b[0mf\u001b[0m\u001b[1;33m(\u001b[0m\u001b[0mv\u001b[0m\u001b[1;33m)\u001b[0m\u001b[1;33m\u001b[0m\u001b[1;33m\u001b[0m\u001b[0m\n\u001b[0m\u001b[0;32m    829\u001b[0m                 \u001b[1;32mif\u001b[0m \u001b[0misinstance\u001b[0m\u001b[1;33m(\u001b[0m\u001b[0mresults\u001b[0m\u001b[1;33m[\u001b[0m\u001b[0mi\u001b[0m\u001b[1;33m]\u001b[0m\u001b[1;33m,\u001b[0m \u001b[0mABCSeries\u001b[0m\u001b[1;33m)\u001b[0m\u001b[1;33m:\u001b[0m\u001b[1;33m\u001b[0m\u001b[1;33m\u001b[0m\u001b[0m\n\u001b[0;32m    830\u001b[0m                     \u001b[1;31m# If we have a view on v, we need to make a copy because\u001b[0m\u001b[1;33m\u001b[0m\u001b[1;33m\u001b[0m\u001b[0m\n",
      "\u001b[1;32m~\\anaconda3\\lib\\site-packages\\pandas\\core\\apply.py\u001b[0m in \u001b[0;36mf\u001b[1;34m(x)\u001b[0m\n\u001b[0;32m    129\u001b[0m \u001b[1;33m\u001b[0m\u001b[0m\n\u001b[0;32m    130\u001b[0m             \u001b[1;32mdef\u001b[0m \u001b[0mf\u001b[0m\u001b[1;33m(\u001b[0m\u001b[0mx\u001b[0m\u001b[1;33m)\u001b[0m\u001b[1;33m:\u001b[0m\u001b[1;33m\u001b[0m\u001b[1;33m\u001b[0m\u001b[0m\n\u001b[1;32m--> 131\u001b[1;33m                 \u001b[1;32mreturn\u001b[0m \u001b[0mfunc\u001b[0m\u001b[1;33m(\u001b[0m\u001b[0mx\u001b[0m\u001b[1;33m,\u001b[0m \u001b[1;33m*\u001b[0m\u001b[0margs\u001b[0m\u001b[1;33m,\u001b[0m \u001b[1;33m**\u001b[0m\u001b[0mkwargs\u001b[0m\u001b[1;33m)\u001b[0m\u001b[1;33m\u001b[0m\u001b[1;33m\u001b[0m\u001b[0m\n\u001b[0m\u001b[0;32m    132\u001b[0m \u001b[1;33m\u001b[0m\u001b[0m\n\u001b[0;32m    133\u001b[0m         \u001b[1;32melse\u001b[0m\u001b[1;33m:\u001b[0m\u001b[1;33m\u001b[0m\u001b[1;33m\u001b[0m\u001b[0m\n",
      "\u001b[1;32m~\\Documents\\Projects\\ALab\\CookiesAndCognition\\Scripts\\merge.py\u001b[0m in \u001b[0;36mcompare_naive\u001b[1;34m(df_row, word_vectors)\u001b[0m\n\u001b[0;32m     97\u001b[0m     \u001b[1;31m# 6. multiple unmatched words in vocabulary\u001b[0m\u001b[1;33m\u001b[0m\u001b[1;33m\u001b[0m\u001b[0m\n\u001b[0;32m     98\u001b[0m     \u001b[1;32melif\u001b[0m \u001b[0mlen\u001b[0m\u001b[1;33m(\u001b[0m\u001b[0munmatched_words_in_voc\u001b[0m\u001b[1;33m)\u001b[0m \u001b[1;33m>\u001b[0m \u001b[1;36m1\u001b[0m\u001b[1;33m:\u001b[0m\u001b[1;33m\u001b[0m\u001b[1;33m\u001b[0m\u001b[0m\n\u001b[1;32m---> 99\u001b[1;33m         \u001b[0mmost_similar_key\u001b[0m\u001b[1;33m,\u001b[0m \u001b[0m_\u001b[0m \u001b[1;33m=\u001b[0m \u001b[0mword_vectors\u001b[0m\u001b[1;33m.\u001b[0m\u001b[0mmost_similar\u001b[0m\u001b[1;33m(\u001b[0m\u001b[0mpositive\u001b[0m\u001b[1;33m=\u001b[0m\u001b[1;33m[\u001b[0m\u001b[1;33m*\u001b[0m\u001b[0mwords_in_voc\u001b[0m\u001b[1;33m]\u001b[0m\u001b[1;33m,\u001b[0m \u001b[0mtopn\u001b[0m\u001b[1;33m=\u001b[0m\u001b[1;36m1\u001b[0m\u001b[1;33m)\u001b[0m\u001b[1;33m[\u001b[0m\u001b[1;36m0\u001b[0m\u001b[1;33m]\u001b[0m\u001b[1;33m\u001b[0m\u001b[1;33m\u001b[0m\u001b[0m\n\u001b[0m\u001b[0;32m    100\u001b[0m \u001b[1;33m\u001b[0m\u001b[0m\n\u001b[0;32m    101\u001b[0m         \u001b[1;31m# don't append word vector if it repeats a word or subword\u001b[0m\u001b[1;33m\u001b[0m\u001b[1;33m\u001b[0m\u001b[0m\n",
      "\u001b[1;32m~\\anaconda3\\lib\\site-packages\\gensim\\models\\keyedvectors.py\u001b[0m in \u001b[0;36mmost_similar\u001b[1;34m(self, positive, negative, topn, restrict_vocab, indexer)\u001b[0m\n\u001b[0;32m    562\u001b[0m \u001b[1;33m\u001b[0m\u001b[0m\n\u001b[0;32m    563\u001b[0m         \u001b[0mlimited\u001b[0m \u001b[1;33m=\u001b[0m \u001b[0mself\u001b[0m\u001b[1;33m.\u001b[0m\u001b[0mvectors_norm\u001b[0m \u001b[1;32mif\u001b[0m \u001b[0mrestrict_vocab\u001b[0m \u001b[1;32mis\u001b[0m \u001b[1;32mNone\u001b[0m \u001b[1;32melse\u001b[0m \u001b[0mself\u001b[0m\u001b[1;33m.\u001b[0m\u001b[0mvectors_norm\u001b[0m\u001b[1;33m[\u001b[0m\u001b[1;33m:\u001b[0m\u001b[0mrestrict_vocab\u001b[0m\u001b[1;33m]\u001b[0m\u001b[1;33m\u001b[0m\u001b[1;33m\u001b[0m\u001b[0m\n\u001b[1;32m--> 564\u001b[1;33m         \u001b[0mdists\u001b[0m \u001b[1;33m=\u001b[0m \u001b[0mdot\u001b[0m\u001b[1;33m(\u001b[0m\u001b[0mlimited\u001b[0m\u001b[1;33m,\u001b[0m \u001b[0mmean\u001b[0m\u001b[1;33m)\u001b[0m\u001b[1;33m\u001b[0m\u001b[1;33m\u001b[0m\u001b[0m\n\u001b[0m\u001b[0;32m    565\u001b[0m         \u001b[1;32mif\u001b[0m \u001b[1;32mnot\u001b[0m \u001b[0mtopn\u001b[0m\u001b[1;33m:\u001b[0m\u001b[1;33m\u001b[0m\u001b[1;33m\u001b[0m\u001b[0m\n\u001b[0;32m    566\u001b[0m             \u001b[1;32mreturn\u001b[0m \u001b[0mdists\u001b[0m\u001b[1;33m\u001b[0m\u001b[1;33m\u001b[0m\u001b[0m\n",
      "\u001b[1;32m<__array_function__ internals>\u001b[0m in \u001b[0;36mdot\u001b[1;34m(*args, **kwargs)\u001b[0m\n",
      "\u001b[1;31mKeyboardInterrupt\u001b[0m: "
     ]
    }
   ],
   "source": [
    "%time df_merged01, df_merged01_wv = merge.merge([dfs_all_three[0], dfs_all_three[1]], word_vectors)"
   ]
  },
  {
   "cell_type": "code",
   "execution_count": 6,
   "id": "da3ddcdc-3a87-43b6-b220-b7c1924d56aa",
   "metadata": {},
   "outputs": [
    {
     "ename": "NameError",
     "evalue": "name 'df_merged01_wv' is not defined",
     "output_type": "error",
     "traceback": [
      "\u001b[1;31m---------------------------------------------------------------------------\u001b[0m",
      "\u001b[1;31mNameError\u001b[0m                                 Traceback (most recent call last)",
      "\u001b[1;32m~\\AppData\\Local\\Temp/ipykernel_16096/2762638179.py\u001b[0m in \u001b[0;36m<module>\u001b[1;34m\u001b[0m\n\u001b[1;32m----> 1\u001b[1;33m \u001b[0mprint\u001b[0m\u001b[1;33m(\u001b[0m\u001b[1;34mf\"The merge used word_vectors heavily on {df_merged01_wv.shape[0]} rows\"\u001b[0m\u001b[1;33m)\u001b[0m\u001b[1;33m\u001b[0m\u001b[1;33m\u001b[0m\u001b[0m\n\u001b[0m",
      "\u001b[1;31mNameError\u001b[0m: name 'df_merged01_wv' is not defined"
     ]
    }
   ],
   "source": [
    "print(f\"The merge used word_vectors heavily on {df_merged01_wv.shape[0]} rows\")"
   ]
  },
  {
   "cell_type": "code",
   "execution_count": null,
   "id": "e8036429-e256-4a47-83e2-4655086bf06f",
   "metadata": {
    "tags": []
   },
   "outputs": [],
   "source": [
    "df_merged01_wv"
   ]
  },
  {
   "cell_type": "markdown",
   "id": "99b1834c-a0af-40d5-9aeb-3556a3f868b7",
   "metadata": {},
   "source": [
    "73 items corrected by hand. An empty string (19) represents no obvious connection between items."
   ]
  },
  {
   "cell_type": "code",
   "execution_count": null,
   "id": "3f59227d-17cd-410a-b7e0-206c0edf7554",
   "metadata": {
    "tags": []
   },
   "outputs": [],
   "source": [
    "df_merged01.iloc[61, 3] = \"chocolate bars\"\n",
    "df_merged01.iloc[73, 3] = \"hamburgers\"\n",
    "df_merged01.iloc[76, 3] = \"hot dogs\"\n",
    "df_merged01.iloc[106, 3] = \"pie\"\n",
    "df_merged01.iloc[125, 3] = \"\"\n",
    "df_merged01.iloc[136, 3] = \"salad\"\n",
    "df_merged01.iloc[156, 3] = \"mango popsicles\"\n",
    "df_merged01.iloc[162, 3] = \"\"\n",
    "df_merged01.iloc[163, 3] = \"\"\n",
    "df_merged01.iloc[191, 3] = \"\"\n",
    "df_merged01.iloc[205, 3] = \"\"\n",
    "df_merged01.iloc[216, 3] = \"maple cereal\"\n",
    "df_merged01.iloc[205, 3] = \"\"\n",
    "df_merged01.iloc[221, 3] = \"walnuts\"\n",
    "df_merged01.iloc[223, 3] = \"tilapia\"\n",
    "df_merged01.iloc[230, 3] = \"havarti cheese\"\n",
    "df_merged01.iloc[258, 3] = \"swiss cheese\"\n",
    "df_merged01.iloc[259, 3] = \"havarti cheese\"\n",
    "df_merged01.iloc[279, 3] = \"caesar salad\"\n",
    "df_merged01.iloc[294, 3] = \"fruit\"\n",
    "df_merged01.iloc[306, 3] = \"cake\"\n",
    "df_merged01.iloc[331, 3] = \"blueberries\"\n",
    "df_merged01.iloc[332, 3] = \"blueberries\"\n",
    "df_merged01.iloc[345, 3] = \"salad\"\n",
    "df_merged01.iloc[400, 3] = \"hot dogs\"\n",
    "df_merged01.iloc[401, 3] = \"\"\n",
    "df_merged01.iloc[402, 3] = \"\"\n",
    "df_merged01.iloc[416, 3] = \"mint ice cream\"\n",
    "df_merged01.iloc[424, 3] = \"\"\n",
    "df_merged01.iloc[432, 3] = \"yogurt\"\n",
    "df_merged01.iloc[434, 3] = \"yogurts\"\n",
    "df_merged01.iloc[447, 3] = \"\"\n",
    "df_merged01.iloc[491, 3] = \"fruit\"\n",
    "df_merged01.iloc[492, 3] = \"fruit\"\n",
    "df_merged01.iloc[520, 3] = \"milk\"\n",
    "df_merged01.iloc[521, 3] = \"corvina\"\n",
    "df_merged01.iloc[526, 3] = \"fruit\"\n",
    "df_merged01.iloc[553, 3] = \"milk\"\n",
    "df_merged01.iloc[555, 3] = \"beans\"\n",
    "df_merged01.iloc[559, 3] = \"strawberries\"\n",
    "df_merged01.iloc[560, 3] = \"\"\n",
    "df_merged01.iloc[594, 3] = \"strawberries\"\n",
    "df_merged01.iloc[609, 3] = \"\"\n",
    "df_merged01.iloc[610, 3] = \"\"\n",
    "df_merged01.iloc[611, 3] = \"candy\"\n",
    "df_merged01.iloc[627, 3] = \"milk\"\n",
    "df_merged01.iloc[629, 3] = \"strawberries\"\n",
    "df_merged01.iloc[637, 3] = \"blackberry jam\"\n",
    "df_merged01.iloc[642, 3] = \"chocolate candy\"\n",
    "df_merged01.iloc[665, 3] = \"strawberries\"\n",
    "df_merged01.iloc[677, 3] = \"milk\"\n",
    "df_merged01.iloc[685, 3] = \"\"\n",
    "df_merged01.iloc[703, 3] = \"salmon\"\n",
    "df_merged01.iloc[704, 3] = \"strawberries\"\n",
    "df_merged01.iloc[705, 3] = \"strawberries\"\n",
    "df_merged01.iloc[715, 3] = \"milk\"\n",
    "df_merged01.iloc[730, 3] = \"corvina\"\n",
    "df_merged01.iloc[741, 3] = \"milk\"\n",
    "df_merged01.iloc[748, 3] = \"\"\n",
    "df_merged01.iloc[768, 3] = \"blueberries\"\n",
    "df_merged01.iloc[769, 3] = \"blueberries\"\n",
    "df_merged01.iloc[772, 3] = \"\"\n",
    "df_merged01.iloc[812, 3] = \"\"\n",
    "df_merged01.iloc[815, 3] = \"beef\"\n",
    "df_merged01.iloc[823, 3] = \"romaine lettuce\"\n",
    "df_merged01.iloc[825, 3] = \"garlic toast\"\n",
    "df_merged01.iloc[846, 3] = \"vegetables\"\n",
    "df_merged01.iloc[854, 3] = \"mangos\"\n",
    "df_merged01.iloc[889, 3] = \"\"\n",
    "df_merged01.iloc[890, 3] = \"chips\"\n",
    "df_merged01.iloc[891, 3] = \"chips\"\n",
    "df_merged01.iloc[892, 3] = \"\""
   ]
  },
  {
   "cell_type": "markdown",
   "id": "bcf696ac-ce5c-4e20-9cbb-a0d229f8954a",
   "metadata": {},
   "source": [
    "Merge the previous results with the third data set. We first examine the divergence to see if the data sets are sufficiently similar for reasonable computation: a divergence of 8 or less."
   ]
  },
  {
   "cell_type": "code",
   "execution_count": null,
   "id": "89a1d61d-797f-4f64-8b3c-55ad91d59776",
   "metadata": {
    "tags": []
   },
   "outputs": [],
   "source": [
    "merge.divergence([df_merged01, dfs_all_three[2]], word_vectors)"
   ]
  },
  {
   "cell_type": "code",
   "execution_count": null,
   "id": "fbdd8dec-7a2c-4ce6-ab6a-2dea8a01ed44",
   "metadata": {
    "tags": []
   },
   "outputs": [],
   "source": [
    "%time df_merged01_2, df_merged01_2_wv = merge.merge([df_merged01, dfs_all_three[2]], word_vectors)"
   ]
  },
  {
   "cell_type": "code",
   "execution_count": null,
   "id": "2fdc1833-952c-4865-9c3f-66b7546a84ad",
   "metadata": {},
   "outputs": [],
   "source": [
    "print(f\"The merge used word_vectors heavily on {df_merged01_2_wv.shape[0]} rows\")"
   ]
  },
  {
   "cell_type": "code",
   "execution_count": null,
   "id": "b63626cf-266d-4c0e-b3a1-d4bdb9235525",
   "metadata": {
    "tags": []
   },
   "outputs": [],
   "source": [
    "df_merged01_2_wv"
   ]
  },
  {
   "cell_type": "markdown",
   "id": "2ccb1507-790c-4f61-92fd-aec7e3d0423a",
   "metadata": {
    "tags": []
   },
   "source": [
    "32 items corrected by hand. An empty string (8) represents no obvious connection between items."
   ]
  },
  {
   "cell_type": "code",
   "execution_count": null,
   "id": "61d74f0a-5749-4c74-a84d-68e242ae5dcb",
   "metadata": {
    "tags": []
   },
   "outputs": [],
   "source": [
    "df_merged01_2.iloc[57, 3] = \"candy bars\"\n",
    "df_merged01_2.iloc[76, 3] = \"\"\n",
    "df_merged01_2.iloc[86, 3] = \"\"\n",
    "df_merged01_2.iloc[87, 3] = \"bread\"\n",
    "df_merged01_2.iloc[135, 3] = \"barbecue sauce\"\n",
    "df_merged01_2.iloc[147, 3] = \"salad dressing\"\n",
    "df_merged01_2.iloc[153, 3] = \"salad dressing\"\n",
    "df_merged01_2.iloc[308, 3] = \"cake\"\n",
    "df_merged01_2.iloc[346, 3] = \"salad\"\n",
    "df_merged01_2.iloc[379, 3] = \"dog treats\"\n",
    "df_merged01_2.iloc[401, 3] = \"\"\n",
    "df_merged01_2.iloc[410, 3] = \"\"\n",
    "df_merged01_2.iloc[471, 3] = \"\"\n",
    "df_merged01_2.iloc[487, 3] = \"\"\n",
    "df_merged01_2.iloc[488, 3] = \"\"\n",
    "df_merged01_2.iloc[499, 3] = \"soda\"\n",
    "df_merged01_2.iloc[516, 3] = \"cheese\"\n",
    "df_merged01_2.iloc[564, 3] = \"whipped cream\"\n",
    "df_merged01_2.iloc[595, 3] = \"hot dogs\"\n",
    "df_merged01_2.iloc[640, 3] = \"blackberry jam\"\n",
    "df_merged01_2.iloc[641, 3] = \"raspberry jam\"\n",
    "df_merged01_2.iloc[673, 3] = \"milk\"\n",
    "df_merged01_2.iloc[681, 3] = \"whipped cream\"\n",
    "df_merged01_2.iloc[686, 3] = \"tomato sauce\"\n",
    "df_merged01_2.iloc[747, 3] = \"\"\n",
    "df_merged01_2.iloc[799, 3] = \"sauce\"\n",
    "df_merged01_2.iloc[826, 3] = \"romaine lettuce\"\n",
    "df_merged01_2.iloc[829, 3] = \"soda\"\n",
    "df_merged01_2.iloc[855, 3] = \"mangos\"\n",
    "df_merged01_2.iloc[888, 3] = \"grain\"\n",
    "df_merged01_2.iloc[901, 3] = \"cranberry sauce\""
   ]
  },
  {
   "cell_type": "markdown",
   "id": "fcf9d2ee-4455-4cf2-b4ca-5389c3215930",
   "metadata": {},
   "source": [
    "### Only Two\n",
    "A collection of participants was transcribed in on Maria's and Samantha's data set."
   ]
  },
  {
   "cell_type": "code",
   "execution_count": null,
   "id": "fe9b9bbe-5181-4e2a-8a01-a5bb418182e3",
   "metadata": {
    "tags": []
   },
   "outputs": [],
   "source": [
    "%%time\n",
    "FILES_ONLY_TWO = ['only_two_maria_to_merge', 'only_two_samantha_to_merge']\n",
    "\n",
    "dfs_only_two = [pd.read_csv(DATA_PATH + file + '.csv', index_col=0, usecols=COLS, dtype=DTYPES) for file in FILES_ONLY_TWO]"
   ]
  },
  {
   "cell_type": "code",
   "execution_count": null,
   "id": "66cee74b-8d03-4b27-8701-84bbbda3f252",
   "metadata": {
    "tags": []
   },
   "outputs": [],
   "source": [
    "merge.divergence(dfs_only_two, word_vectors)"
   ]
  },
  {
   "cell_type": "code",
   "execution_count": null,
   "id": "ba9e2038-59c6-4844-9680-55772d47a0bd",
   "metadata": {
    "tags": []
   },
   "outputs": [],
   "source": [
    "%time df_merged_only_two, df_merged_only_two_wv = merge.merge(dfs_only_two, word_vectors)"
   ]
  },
  {
   "cell_type": "code",
   "execution_count": null,
   "id": "bbb9c999-b2fe-4327-8bcf-a2a60d2ba079",
   "metadata": {},
   "outputs": [],
   "source": [
    "print(f\"The merge used word_vectors heavily on {df_merged_only_two_wv.shape[0]} rows\")"
   ]
  },
  {
   "cell_type": "code",
   "execution_count": null,
   "id": "0bd9b6f6-81a4-4837-b8a9-a1d3c91bdb10",
   "metadata": {
    "tags": []
   },
   "outputs": [],
   "source": [
    "df_merged_only_two_wv"
   ]
  },
  {
   "cell_type": "markdown",
   "id": "45265958-4773-4da2-94c7-0d1e2243c5bd",
   "metadata": {},
   "source": [
    "5 items corrected by hand. An empty string (4) represents no obvious connection between items."
   ]
  },
  {
   "cell_type": "code",
   "execution_count": null,
   "id": "b1ee8f09-18f4-4fe5-982a-3937ed4c9250",
   "metadata": {},
   "outputs": [],
   "source": [
    "df_merged_only_two.iloc[8, 3] = \"\"\n",
    "df_merged_only_two.iloc[9, 3] = \"\"\n",
    "df_merged_only_two.iloc[65, 3] = \"soda\"\n",
    "df_merged_only_two.iloc[66, 3] = \"\"\n",
    "df_merged_only_two.iloc[69, 3] = \"\""
   ]
  },
  {
   "cell_type": "markdown",
   "id": "ee33cd1b-c867-4de7-b877-c8b912891887",
   "metadata": {},
   "source": [
    "### Concatenate All Sources of Data\n",
    "After merging, there are five sources of unique data. Three are unique to the transcribers and two are the results of the merges above."
   ]
  },
  {
   "cell_type": "code",
   "execution_count": null,
   "id": "73708138-ada0-4593-99ed-614bc4015718",
   "metadata": {
    "tags": []
   },
   "outputs": [],
   "source": [
    "%%time\n",
    "FILES_CLEAN = ['clean_max', 'clean_maria', 'clean_samantha']\n",
    "COLS_CLEAN = [0, 1, 2, 3, 5]\n",
    "\n",
    "dfs_clean = [pd.read_csv(DATA_PATH + file + '.csv', index_col=0, usecols=COLS_CLEAN, dtype=DTYPES) for file in FILES_CLEAN]"
   ]
  },
  {
   "cell_type": "code",
   "execution_count": null,
   "id": "44de3140-4cf1-4a27-89b7-fe3f5f8d3206",
   "metadata": {},
   "outputs": [],
   "source": [
    "dfs_unique = copy.deepcopy(dfs_clean)\n",
    "for i, df in enumerate(dfs_unique):\n",
    "    for j, df in enumerate(dfs_clean):\n",
    "        if i != j:\n",
    "            dfs_unique[i] = dfs_unique[i][~dfs_unique[i].ID.isin(dfs_clean[j].ID.unique())]\n",
    "\n",
    "dfs_all = [*dfs_unique, df_merged01_2, df_merged_only_two]\n",
    "print(*[df.ID.unique() for df in dfs_all], sep='\\n')"
   ]
  },
  {
   "cell_type": "code",
   "execution_count": null,
   "id": "99ea0688-d1de-478e-b8a1-ad4ee2066a82",
   "metadata": {},
   "outputs": [],
   "source": [
    "for df in dfs_all:\n",
    "    print(df.info())\n",
    "    print()"
   ]
  },
  {
   "cell_type": "code",
   "execution_count": null,
   "id": "d7f55282-58b2-4826-82c9-9be550ce8907",
   "metadata": {},
   "outputs": [],
   "source": [
    "df_merged_final = pd.concat(dfs_all).reset_index()"
   ]
  },
  {
   "cell_type": "code",
   "execution_count": null,
   "id": "49cad7dd-7e94-4f03-b5ec-29bd7d734778",
   "metadata": {},
   "outputs": [],
   "source": [
    "print(df_merged_final.info())\n",
    "display(df_merged_final.head())"
   ]
  },
  {
   "cell_type": "code",
   "execution_count": null,
   "id": "ca6540bc-1034-4aa7-8031-31f7af1008d8",
   "metadata": {},
   "outputs": [],
   "source": [
    "df_merged_final.to_csv(f'{DATA_PATH}merged_full.csv')"
   ]
  },
  {
   "cell_type": "code",
   "execution_count": null,
   "id": "35385735-efd5-480a-bd46-ec0299aaa9d2",
   "metadata": {},
   "outputs": [],
   "source": []
  }
 ],
 "metadata": {
  "kernelspec": {
   "display_name": "Python 3 (ipykernel)",
   "language": "python",
   "name": "python3"
  },
  "language_info": {
   "codemirror_mode": {
    "name": "ipython",
    "version": 3
   },
   "file_extension": ".py",
   "mimetype": "text/x-python",
   "name": "python",
   "nbconvert_exporter": "python",
   "pygments_lexer": "ipython3",
   "version": "3.9.7"
  }
 },
 "nbformat": 4,
 "nbformat_minor": 5
}
