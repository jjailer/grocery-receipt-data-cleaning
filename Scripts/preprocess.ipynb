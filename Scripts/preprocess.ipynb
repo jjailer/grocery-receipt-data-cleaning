{
 "cells": [
  {
   "cell_type": "code",
   "execution_count": null,
   "id": "70436809-26a0-4bf1-9ebe-e61655145d08",
   "metadata": {},
   "outputs": [],
   "source": [
    "### Examine Large Baskets\n",
    "# A basket is a tuple (ID, Session, Scan, Date)\n",
    "\n",
    "for df in df_all:\n",
    "    for pid in df.ID.unique():\n",
    "        for session in df.loc[df.ID == pid, 'Session'].unique():\n",
    "            for scan in df.loc[(df.ID == pid) & (df.Session == session), 'Scan'].unique():\n",
    "                for date in df.loc[(df.ID == pid) & (df.Session == session) & (df.Scan == scan), 'Date'].unique():\n",
    "                    if df[(df.ID == pid) & (df.Session == session) & (df.Scan == scan) & (df.Date == date)].shape[0] >= 40:\n",
    "                        print(f'({pid}, {session}, {scan}):', [str(d) for d in df.loc[(df.ID == pid) & (df.Session == session) & (df.Scan == scan), 'Date'].unique()])\n",
    "    print()"
   ]
  },
  {
   "cell_type": "code",
   "execution_count": null,
   "id": "155aa48e-f93b-4022-93d2-c97f69461754",
   "metadata": {},
   "outputs": [],
   "source": [
    "## Examine Missing Scan / ReceiptNum\n",
    "for df in df_all:\n",
    "    for pid in df.ID.unique():\n",
    "        for session in df.loc[df.ID == pid, 'Session'].unique():\n",
    "            for date in df.loc[(df.ID == pid) & (df.Session == session) & (df.Scan == -1), 'Date'].unique():\n",
    "                print(f'({pid}, {session}, -1):', [str(d) for d in df.loc[(df.ID == pid) & (df.Session == session) & (df.Scan == -1), 'Date'].unique()])\n",
    "    print()"
   ]
  },
  {
   "cell_type": "code",
   "execution_count": null,
   "id": "16748a9f-1a03-4583-970a-acc3a25391b6",
   "metadata": {},
   "outputs": [],
   "source": [
    "## Scan / ReceiptNum with multiple dates\n",
    "for df in df_all:\n",
    "    for pid in df.ID.unique():\n",
    "        for session in df.loc[df.ID == pid, 'Session'].unique():\n",
    "            for scan in df.loc[(df.ID == pid) & (df.Session == session), 'Scan'].unique():\n",
    "                if (len(df.loc[(df.ID == pid) & (df.Session == session) & (df.Scan == scan), 'Date'].unique()) > 1) and (scan != -1):\n",
    "                    print(f'({pid}, {session}, {scan}):', [str(d) for d in df.loc[(df.ID == pid) & (df.Session == session) & (df.Scan == scan), 'Date'].unique()])\n",
    "    print()"
   ]
  }
 ],
 "metadata": {
  "kernelspec": {
   "display_name": "Python 3 (ipykernel)",
   "language": "python",
   "name": "python3"
  },
  "language_info": {
   "codemirror_mode": {
    "name": "ipython",
    "version": 3
   },
   "file_extension": ".py",
   "mimetype": "text/x-python",
   "name": "python",
   "nbconvert_exporter": "python",
   "pygments_lexer": "ipython3",
   "version": "3.9.7"
  }
 },
 "nbformat": 4,
 "nbformat_minor": 5
}
