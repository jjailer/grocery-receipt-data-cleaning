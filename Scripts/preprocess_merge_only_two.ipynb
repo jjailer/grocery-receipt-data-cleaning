{
 "cells": [
  {
   "cell_type": "markdown",
   "id": "2ff4cb0a-28dc-4934-957f-720f0d7e4761",
   "metadata": {},
   "source": [
    "## Preprocess Data for Algorithmic Merging\n",
    "The merging algorithm in merge.py employs an O(n!) brute force search, where n is the number of highly divergent item descriptions. To be computationally feasible n must be 8 or less. Cleaning is done by hand until they are sufficiently similar. This notebook preprocess the subset of participants whose receipts were transcribed in Mar's and S's data set only."
   ]
  },
  {
   "cell_type": "code",
   "execution_count": 1,
   "id": "e755e79d-6fe4-4ea7-868d-7226e7c3749d",
   "metadata": {},
   "outputs": [],
   "source": [
    "import re\n",
    "import datetime\n",
    "\n",
    "import pandas as pd\n",
    "import gensim.downloader as api\n",
    "\n",
    "import merge"
   ]
  },
  {
   "cell_type": "code",
   "execution_count": 2,
   "id": "68e10449-3998-4e8d-b688-69d52f84f461",
   "metadata": {},
   "outputs": [],
   "source": [
    "pd.set_option('display.max_rows', 200)"
   ]
  },
  {
   "cell_type": "code",
   "execution_count": 3,
   "id": "321f875b-770a-4b80-ae6f-f115f827222d",
   "metadata": {
    "tags": []
   },
   "outputs": [
    {
     "name": "stdout",
     "output_type": "stream",
     "text": [
      "CPU times: total: 1min 1s\n",
      "Wall time: 1min 1s\n"
     ]
    }
   ],
   "source": [
    "%time word_vectors = api.load(\"glove-wiki-gigaword-300\") # 50, 100, 200, 300 sizes available"
   ]
  },
  {
   "cell_type": "code",
   "execution_count": 4,
   "id": "21dad53c-f035-41b9-8791-d6adee8a7e74",
   "metadata": {},
   "outputs": [],
   "source": [
    "DATA_PATH = '../Data/'\n",
    "FILES = ['mar', 's']\n",
    "COLS = [0, 1, 2, 3, 5]  # Index, ID, Session, Receipt, Item\n",
    "DTYPES = {'ID': 'uint8', 'Session': 'uint8', 'Receipt': 'uint8', 'Item': str}\n",
    "\n",
    "dfs = [pd.read_csv(DATA_PATH + 'clean_' + file + '.csv', index_col=0, usecols=COLS, dtype=DTYPES) for file in FILES]\n",
    "df_m = pd.read_csv(DATA_PATH + 'clean_m.csv', index_col=0, usecols=COLS, dtype=DTYPES)"
   ]
  },
  {
   "cell_type": "markdown",
   "id": "0157290f-7345-4691-bd7b-2525bf30901c",
   "metadata": {},
   "source": [
    "Restrict data set to shared participants"
   ]
  },
  {
   "cell_type": "code",
   "execution_count": 5,
   "id": "55a8d0f0-723e-418b-a00a-c4112c4c793e",
   "metadata": {
    "tags": []
   },
   "outputs": [],
   "source": [
    "ids_shared = set.intersection(*[set(df.ID.unique()) for df in dfs]) - set(df_m.ID.unique())\n",
    "dfs = [df[df.ID.isin(ids_shared)].reset_index(drop=True) for df in dfs]"
   ]
  },
  {
   "cell_type": "code",
   "execution_count": 6,
   "id": "3050c0b7-d9c3-4421-a04a-a9f2bdf3acb8",
   "metadata": {},
   "outputs": [],
   "source": [
    "initial_row_counts = [df.shape[0] for df in dfs] # used at the end to compute drop rate"
   ]
  },
  {
   "cell_type": "code",
   "execution_count": 7,
   "id": "c98e684e-57ef-4ad2-9336-137c939d39d2",
   "metadata": {},
   "outputs": [
    {
     "name": "stdout",
     "output_type": "stream",
     "text": [
      "<class 'pandas.core.frame.DataFrame'>\n",
      "RangeIndex: 69 entries, 0 to 68\n",
      "Data columns (total 4 columns):\n",
      " #   Column   Non-Null Count  Dtype \n",
      "---  ------   --------------  ----- \n",
      " 0   ID       69 non-null     uint8 \n",
      " 1   Session  69 non-null     uint8 \n",
      " 2   Receipt  69 non-null     uint8 \n",
      " 3   Item     69 non-null     object\n",
      "dtypes: object(1), uint8(3)\n",
      "memory usage: 887.0+ bytes\n",
      "None\n",
      "\n",
      "<class 'pandas.core.frame.DataFrame'>\n",
      "RangeIndex: 71 entries, 0 to 70\n",
      "Data columns (total 4 columns):\n",
      " #   Column   Non-Null Count  Dtype \n",
      "---  ------   --------------  ----- \n",
      " 0   ID       71 non-null     uint8 \n",
      " 1   Session  71 non-null     uint8 \n",
      " 2   Receipt  71 non-null     uint8 \n",
      " 3   Item     71 non-null     object\n",
      "dtypes: object(1), uint8(3)\n",
      "memory usage: 909.0+ bytes\n",
      "None\n",
      "\n"
     ]
    }
   ],
   "source": [
    "for df in dfs:\n",
    "    print(df.info())\n",
    "    print()"
   ]
  },
  {
   "cell_type": "markdown",
   "id": "edc709c2-0191-4704-bda0-76d587d55036",
   "metadata": {},
   "source": [
    "### Examination of Variation within Sessions"
   ]
  },
  {
   "cell_type": "code",
   "execution_count": 8,
   "id": "1b0c7c7a-f34b-4541-beb6-45bb79768754",
   "metadata": {
    "tags": []
   },
   "outputs": [
    {
     "data": {
      "text/html": [
       "<div>\n",
       "<style scoped>\n",
       "    .dataframe tbody tr th:only-of-type {\n",
       "        vertical-align: middle;\n",
       "    }\n",
       "\n",
       "    .dataframe tbody tr th {\n",
       "        vertical-align: top;\n",
       "    }\n",
       "\n",
       "    .dataframe thead th {\n",
       "        text-align: right;\n",
       "    }\n",
       "</style>\n",
       "<table border=\"1\" class=\"dataframe\">\n",
       "  <thead>\n",
       "    <tr style=\"text-align: right;\">\n",
       "      <th></th>\n",
       "      <th></th>\n",
       "      <th>0</th>\n",
       "      <th>1</th>\n",
       "    </tr>\n",
       "    <tr>\n",
       "      <th>ID</th>\n",
       "      <th>Session</th>\n",
       "      <th></th>\n",
       "      <th></th>\n",
       "    </tr>\n",
       "  </thead>\n",
       "  <tbody>\n",
       "    <tr>\n",
       "      <th>148</th>\n",
       "      <th>2</th>\n",
       "      <td>69</td>\n",
       "      <td>71</td>\n",
       "    </tr>\n",
       "  </tbody>\n",
       "</table>\n",
       "</div>"
      ],
      "text/plain": [
       "              0   1\n",
       "ID  Session        \n",
       "148 2        69  71"
      ]
     },
     "execution_count": 8,
     "metadata": {},
     "output_type": "execute_result"
    }
   ],
   "source": [
    "pd.concat([df.groupby(by=['ID', 'Session']).Item.count() for df in dfs], axis=1, ignore_index=True)"
   ]
  },
  {
   "cell_type": "markdown",
   "id": "548d2015-3907-4b95-bf31-0f8686660eef",
   "metadata": {},
   "source": [
    "### Examination of Variation in Receipt Count\n",
    "The merge algorithm operates on receipts and requires each data set to recognize the same number of receipts per session per ID. The number of receipts are examined for variations between the data sets."
   ]
  },
  {
   "cell_type": "code",
   "execution_count": 9,
   "id": "8807529a-ebeb-4381-95c7-17b7e77e3df0",
   "metadata": {
    "tags": []
   },
   "outputs": [
    {
     "data": {
      "text/html": [
       "<div>\n",
       "<style scoped>\n",
       "    .dataframe tbody tr th:only-of-type {\n",
       "        vertical-align: middle;\n",
       "    }\n",
       "\n",
       "    .dataframe tbody tr th {\n",
       "        vertical-align: top;\n",
       "    }\n",
       "\n",
       "    .dataframe thead th {\n",
       "        text-align: right;\n",
       "    }\n",
       "</style>\n",
       "<table border=\"1\" class=\"dataframe\">\n",
       "  <thead>\n",
       "    <tr style=\"text-align: right;\">\n",
       "      <th></th>\n",
       "      <th></th>\n",
       "      <th>0</th>\n",
       "      <th>1</th>\n",
       "    </tr>\n",
       "    <tr>\n",
       "      <th>ID</th>\n",
       "      <th>Session</th>\n",
       "      <th></th>\n",
       "      <th></th>\n",
       "    </tr>\n",
       "  </thead>\n",
       "  <tbody>\n",
       "    <tr>\n",
       "      <th>148</th>\n",
       "      <th>2</th>\n",
       "      <td>[1, 2]</td>\n",
       "      <td>[1, 2]</td>\n",
       "    </tr>\n",
       "  </tbody>\n",
       "</table>\n",
       "</div>"
      ],
      "text/plain": [
       "                  0       1\n",
       "ID  Session                \n",
       "148 2        [1, 2]  [1, 2]"
      ]
     },
     "execution_count": 9,
     "metadata": {},
     "output_type": "execute_result"
    }
   ],
   "source": [
    "pd.concat([df.groupby(by=['ID', 'Session']).Receipt.unique() for df in dfs], axis=1, ignore_index=True)"
   ]
  },
  {
   "cell_type": "markdown",
   "id": "8969f345-d5a1-492d-94db-0930946f4f1b",
   "metadata": {},
   "source": [
    "### Examination of Item Divergence\n",
    "Receipts are examined individually for highly divergent items. Corrections are made by inspection."
   ]
  },
  {
   "cell_type": "code",
   "execution_count": 10,
   "id": "bc0117f3-b8c5-48ee-9c72-b2076936d2a0",
   "metadata": {
    "tags": []
   },
   "outputs": [
    {
     "name": "stdout",
     "output_type": "stream",
     "text": [
      "ID: 148, Session: 2, Receipt: 1, Div: 5! [2, 3, 6, 9, 10]\n",
      "ID: 148, Session: 2, Receipt: 2, Div: 7! [10, 16, 40, 41, 48, 49, 54]\n",
      "\n"
     ]
    }
   ],
   "source": [
    "merge.divergence([dfs[0], dfs[1]], word_vectors)"
   ]
  },
  {
   "cell_type": "markdown",
   "id": "4ee183ee-dd7b-47f6-b377-54f4f76803fd",
   "metadata": {},
   "source": [
    "This very small data set seems in order."
   ]
  },
  {
   "cell_type": "markdown",
   "id": "d622cc30-b338-4912-aa8e-fc7802b0b1f7",
   "metadata": {},
   "source": [
    "### Results"
   ]
  },
  {
   "cell_type": "code",
   "execution_count": 11,
   "id": "af64c7a5-dfc2-43c0-b8ca-dbc0db714812",
   "metadata": {},
   "outputs": [
    {
     "name": "stdout",
     "output_type": "stream",
     "text": [
      "Total row reduction: 0 (0%)\n",
      "Total row reduction: 0 (0%)\n"
     ]
    }
   ],
   "source": [
    "for initial_row_count, df in zip(initial_row_counts, dfs):\n",
    "    print(f'Total row reduction: {initial_row_count - df.shape[0]} ({(initial_row_count - df.shape[0]) / initial_row_count:.0%})')"
   ]
  },
  {
   "cell_type": "code",
   "execution_count": 12,
   "id": "ca2dda48-18aa-44fc-9c33-70ad8ebb33e9",
   "metadata": {
    "tags": []
   },
   "outputs": [],
   "source": [
    "for i, df in enumerate(dfs):\n",
    "    df = df.reset_index(drop=True)\n",
    "    df.to_csv(f'{DATA_PATH}only_two_{FILES[i]}_to_merge.csv')"
   ]
  },
  {
   "cell_type": "code",
   "execution_count": null,
   "id": "0bba5993-913b-4264-b17b-219d24fd4dea",
   "metadata": {},
   "outputs": [],
   "source": []
  }
 ],
 "metadata": {
  "kernelspec": {
   "display_name": "envs",
   "language": "python",
   "name": "envs"
  },
  "language_info": {
   "codemirror_mode": {
    "name": "ipython",
    "version": 3
   },
   "file_extension": ".py",
   "mimetype": "text/x-python",
   "name": "python",
   "nbconvert_exporter": "python",
   "pygments_lexer": "ipython3",
   "version": "3.10.8"
  }
 },
 "nbformat": 4,
 "nbformat_minor": 5
}
