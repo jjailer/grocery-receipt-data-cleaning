{
 "cells": [
  {
   "cell_type": "raw",
   "id": "426d3dc4-7cea-48d0-b460-af31b9a65451",
   "metadata": {},
   "source": [
    "# TODO\n",
    "Drop most columns\n",
    "venn diagram of verification ids\n",
    "expand out NumPurchased\n",
    "form multi-index only on shared IDs\n",
    "are basket lengths the same after accounting for num purchased?"
   ]
  }
 ],
 "metadata": {
  "kernelspec": {
   "display_name": "Python 3 (ipykernel)",
   "language": "python",
   "name": "python3"
  },
  "language_info": {
   "codemirror_mode": {
    "name": "ipython",
    "version": 3
   },
   "file_extension": ".py",
   "mimetype": "text/x-python",
   "name": "python",
   "nbconvert_exporter": "python",
   "pygments_lexer": "ipython3",
   "version": "3.9.7"
  }
 },
 "nbformat": 4,
 "nbformat_minor": 5
}
