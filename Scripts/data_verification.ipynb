{
 "cells": [
  {
   "cell_type": "code",
   "execution_count": null,
   "id": "e309521a-b4b7-44e6-879d-ad7ba860ab6e",
   "metadata": {},
   "outputs": [],
   "source": [
    "import numpy as np\n",
    "import pandas as pd\n",
    "import datetime\n",
    "\n",
    "import matplotlib.pyplot as plt\n",
    "from matplotlib_venn import venn3\n",
    "\n",
    "%matplotlib inline"
   ]
  },
  {
   "cell_type": "code",
   "execution_count": null,
   "id": "0185a174-eeca-4d55-852f-47745a98799a",
   "metadata": {},
   "outputs": [],
   "source": [
    "data_path = '../Data/Max, Samantha, Maria data.xlsx'\n",
    "xls = pd.ExcelFile(data_path)\n",
    "max_df = pd.read_excel(xls, sheet_name = 'Max', parse_dates = [3])\n",
    "mar_df = pd.read_excel(xls, sheet_name = 'Maria', parse_dates = [3])\n",
    "sam_df = pd.read_excel(xls, sheet_name = 'Samantha', parse_dates = [3])\n",
    "all_df = [max_df, mar_df, sam_df]"
   ]
  },
  {
   "cell_type": "code",
   "execution_count": null,
   "id": "5aa38436-c707-48f0-9889-d6cd270920c9",
   "metadata": {},
   "outputs": [],
   "source": [
    "# set logic for venn diagram\n",
    "max_ids = set(max_df.ID.unique())\n",
    "mar_ids = set(mar_df.ID.unique())\n",
    "sam_ids = set(sam_df.ID.unique())\n",
    "\n",
    "max_mar_ids = max_ids & mar_ids - sam_ids\n",
    "max_sam_ids = max_ids & sam_ids - mar_ids\n",
    "mar_sam_ids = mar_ids & sam_ids - max_ids\n",
    "max_mar_sam_ids = max_ids & mar_ids & sam_ids\n",
    "\n",
    "print('Max-Mar Cross IDs: ', max_mar_ids)\n",
    "print('Max-Sam Cross IDs: ', max_sam_ids)\n",
    "print('Mar-Sam Cross IDs: ', mar_sam_ids)\n",
    "print('Max-Mar-Sam Cross IDs: ', max_mar_sam_ids)\n",
    "\n",
    "plt.figure(figsize=(11,11))\n",
    "v = venn3([max_ids, mar_ids, sam_ids], ('Max', 'Maria', 'Samantha'))\n",
    "\n",
    "v.get_label_by_id('100').set_text('\\n'.join(str(s) for s in (max_ids - mar_ids - sam_ids)))\n",
    "v.get_label_by_id('110').set_text('\\n'.join(str(s) for s in (max_ids & mar_ids - sam_ids)))\n",
    "v.get_label_by_id('010').set_text('\\n'.join(str(s) for s in (mar_ids - max_ids - sam_ids)))\n",
    "v.get_label_by_id('101').set_text('\\n'.join(str(s) for s in (max_ids - mar_ids & sam_ids)))\n",
    "v.get_label_by_id('111').set_text('\\n'.join(str(s) for s in (max_ids & mar_ids & sam_ids)))\n",
    "v.get_label_by_id('011').set_text('\\n'.join(str(s) for s in (mar_ids & sam_ids - max_ids)))\n",
    "v.get_label_by_id('001').set_text('\\n'.join(str(s) for s in (sam_ids - max_ids - mar_ids)))\n",
    "\n",
    "# plt.savefig('../Output/cross-ref_venn_diagram.png')"
   ]
  },
  {
   "cell_type": "code",
   "execution_count": null,
   "id": "3c291cf0-5fca-493e-b793-65d0a753e1e4",
   "metadata": {},
   "outputs": [],
   "source": [
    "# Build (ID, BasketNum, ItemNum) multi-index\n",
    "# where BasketNum is a flatenning of (TP-Date, RecNum)\n",
    "\n",
    "# when receipt number is null, assume all items came from a single basket that day\n",
    "for df in all_df:\n",
    "    df['RecNum'].fillna(value = 1, inplace = True)\n",
    "    df['RecNum'] = df['RecNum'].astype('int32')\n",
    "\n",
    "# generate BasketNum column from unique (TP-Date, RecNum) pairs\n",
    "for df in all_df:\n",
    "    df['BasketNum'] = np.nan\n",
    "    for id_num in df['ID'].unique():\n",
    "        basket_counter = 0\n",
    "        # print()\n",
    "        for tp_num in df.loc[df['ID'] == id_num, 'TP-Date'].unique():\n",
    "            for rec_num in df.loc[(df['ID'] == id_num) & (df['TP-Date'] == tp_num), 'RecNum'].unique():\n",
    "                basket_counter += 1\n",
    "                # print(f'({id_num}, {tp_num}, {rec_num}): {basket_counter}')\n",
    "                df.loc[(df['ID'] == id_num) & (df['TP-Date'] == tp_num) & (df['RecNum'] == rec_num), 'BasketNum'] = basket_counter\n",
    "                # print(df.loc[(df['ID'] == id_num) & (df['TP-Date'] == tp_num), ['ID', 'BasketNum']].head(1))\n",
    "    df['BasketNum'] = df['BasketNum'].astype('Int64')\n",
    "\n",
    "# generate ItemNum per basket\n",
    "for df in all_df:\n",
    "    df['ItemNum'] = np.nan\n",
    "    for id_num in df['ID'].unique():\n",
    "        for basket_num in df.loc[df['ID'] == id_num, 'BasketNum'].unique():\n",
    "            df.loc[(df['ID'] == id_num) & (df['BasketNum'] == basket_num), 'ItemNum'] = \\\n",
    "                    range(1, df.loc[(df['ID'] == id_num) & (df['BasketNum'] == basket_num), 'ItemNum'].size + 1)\n",
    "            # print(df.loc[(df['ID'] == id_num) & (df['BasketNum'] == basket_num), ['ID', 'BasketNum', 'ItemNum']])\n",
    "            # print(range(1, df.loc[(df['ID'] == id_num) & (df['BasketNum'] == basket_num), 'ItemNum'].size + 1))\n",
    "    df['ItemNum'] = df['ItemNum'].astype('Int64')\n",
    "\n",
    "for df in all_df:\n",
    "    df.drop(columns = ['TP-Date', 'RecNum'], inplace = True)"
   ]
  },
  {
   "cell_type": "code",
   "execution_count": null,
   "id": "2c3451f0-347d-44c0-b37d-70d9ac7399dd",
   "metadata": {},
   "outputs": [],
   "source": [
    "# build multi-index\n",
    "for df in all_df:\n",
    "    df.set_index(['ID', 'BasketNum', 'ItemNum'], inplace = True)"
   ]
  },
  {
   "cell_type": "code",
   "execution_count": null,
   "id": "e15e8776-55b2-489f-9935-9c08917cb90a",
   "metadata": {},
   "outputs": [],
   "source": [
    "# sort multi-index in prep for comparisons\n",
    "for df in all_df:\n",
    "    df = df.sort_index()\n",
    "    print(df.index.is_monotonic_increasing)"
   ]
  },
  {
   "cell_type": "code",
   "execution_count": null,
   "id": "b58493d0-1122-4da5-b0c7-27f399ca5767",
   "metadata": {},
   "outputs": [],
   "source": [
    "# comparing shared multi-index\n",
    "mar_sam_cross = mar_df.loc[mar_sam_ids].index.symmetric_difference(sam_df.loc[mar_sam_ids].index).tolist()\n",
    "# A sd B sd C - A & B & C\n",
    "max_mar_sam_cross = set(max_df.loc[max_mar_sam_ids].index.symmetric_difference(mar_df.loc[max_mar_sam_ids].index).symmetric_difference(sam_df.loc[max_mar_sam_ids].index).tolist()) \\\n",
    "      - set(max_df.loc[max_mar_sam_ids].index.intersection(mar_df.loc[max_mar_sam_ids].index).intersection(sam_df.loc[max_mar_sam_ids].index).tolist())\n",
    "print('Mar-Sam Index Incongruities\\n', mar_sam_cross)\n",
    "# print('Max-Mar-Sam Index Incongruities\\n', max_mar_sam_cross)"
   ]
  },
  {
   "cell_type": "code",
   "execution_count": null,
   "id": "c70d7072-852b-4059-bfb8-5ff86d136c27",
   "metadata": {},
   "outputs": [],
   "source": [
    "# tidy up and begin verification\n",
    "\n",
    "print(sam_df.loc[(148, 3), ['Item (modifier)', 'NumP']].join(mar_df.loc[(148, 3), ['Item (modifier)', 'NumP']], \\\n",
    "                                                                     how = 'outer', lsuffix = '_s', rsuffix = '_m'))\n",
    "print(sum(sam_df.loc[(148, 3), 'NumP']))\n",
    "print('Sam total items: ', sum(sam_df.loc[(148, 3), 'NumP']), 'Mar total items: ', sum(mar_df.loc[(148, 3), 'NumP']), sep = '')\n",
    "# print(mar_df.loc[(148, 3), 'Item (modifier)'].value_counts(), sam_df.loc[(148, 3), 'Item (modifier)'].value_counts())"
   ]
  },
  {
   "cell_type": "raw",
   "id": "426d3dc4-7cea-48d0-b460-af31b9a65451",
   "metadata": {},
   "source": [
    "# TODO\n",
    "check if all assigned ids were transcribed (max)\n",
    "    Maria: [128, 134, 143, 146, 150, 154, 159, 110, 115, 119, 121, 114, 137, 153, 141, 127, 130, 135, 148, 158]\n",
    "    Max: [129, 136, 144, 147, 151, 156, 160, 112, 117, 120, 121, 114, 137, 153, 141, 127, 130, 135, 148, 158]\n",
    "    Samantha: [131, 139, 145, 149, 152, 157, 162, 113, 118, 126, 121, 114, 137, 153, 141, 127, 130, 135, 148, 158]\n",
    "venn diagram of verification ids\n",
    "expand out NumPurchased\n",
    "form multi-index only on shared IDs\n",
    "are basket lengths the same after accounting for num purchased?"
   ]
  }
 ],
 "metadata": {
  "kernelspec": {
   "display_name": "Python 3 (ipykernel)",
   "language": "python",
   "name": "python3"
  },
  "language_info": {
   "codemirror_mode": {
    "name": "ipython",
    "version": 3
   },
   "file_extension": ".py",
   "mimetype": "text/x-python",
   "name": "python",
   "nbconvert_exporter": "python",
   "pygments_lexer": "ipython3",
   "version": "3.9.7"
  }
 },
 "nbformat": 4,
 "nbformat_minor": 5
}
