{
 "cells": [
  {
   "cell_type": "code",
   "execution_count": 1,
   "id": "9478323c-dd2e-4dde-971d-02ead918817c",
   "metadata": {},
   "outputs": [],
   "source": [
    "import numpy as np\n",
    "import pandas as pd\n",
    "import datetime"
   ]
  },
  {
   "cell_type": "code",
   "execution_count": 2,
   "id": "9be84561-d288-47e6-b04d-6950972bb847",
   "metadata": {},
   "outputs": [
    {
     "name": "stderr",
     "output_type": "stream",
     "text": [
      "C:\\Users\\Joseph\\anaconda3\\lib\\site-packages\\openpyxl\\worksheet\\_reader.py:211: UserWarning: Cell D2858 is marked as a date but the serial value 6684137.0 is outside the limits for dates. The cell will be treated as an error.\n",
      "  warn(msg)\n"
     ]
    }
   ],
   "source": [
    "data_path = '../Data/Max, Samantha, Maria data.xlsx'\n",
    "xls = pd.ExcelFile(data_path)\n",
    "df_max = pd.read_excel(xls, sheet_name = 'Max', parse_dates = [3])\n",
    "df_mar = pd.read_excel(xls, sheet_name = 'Maria', parse_dates = [3])\n",
    "df_sam = pd.read_excel(xls, sheet_name = 'Samantha', parse_dates = [3])\n",
    "df_all = [df_max, df_mar, df_sam]"
   ]
  },
  {
   "cell_type": "code",
   "execution_count": 4,
   "id": "01681203-f577-4055-b2a8-4014338ba893",
   "metadata": {
    "tags": []
   },
   "outputs": [],
   "source": [
    "# Max df lacks coupon column; dropping\n",
    "df_mar.drop(columns = 'coupon', inplace = True)\n",
    "df_sam.drop(columns = 'Coupon (#)', inplace = True)"
   ]
  },
  {
   "cell_type": "code",
   "execution_count": 5,
   "id": "7c363eab-54d4-488f-8ece-d16801dcf21e",
   "metadata": {
    "tags": []
   },
   "outputs": [],
   "source": [
    "# Standarize column names\n",
    "column_names = ['ID', 'Session', 'ReceiptNum', 'ReceiptDate', 'Item', 'Item2',\n",
    "                 'Uncertain', 'Unknown', 'Quantity', 'Hit', 'Miss', 'Category', 'Comment']\n",
    "for df in df_all:\n",
    "    df.columns = column_names"
   ]
  },
  {
   "cell_type": "code",
   "execution_count": 20,
   "id": "deb15e33-e3d9-408f-b1e8-955330a706e7",
   "metadata": {
    "tags": []
   },
   "outputs": [
    {
     "name": "stderr",
     "output_type": "stream",
     "text": [
      "C:\\Users\\Joseph\\AppData\\Local\\Temp/ipykernel_7664/4197290296.py:13: FutureWarning: The default value of regex will change from True to False in a future version.\n",
      "  df[col] = df[col].str.replace(r'\\(|\\)|\\?', '')\n",
      "C:\\Users\\Joseph\\AppData\\Local\\Temp/ipykernel_7664/4197290296.py:13: FutureWarning: The default value of regex will change from True to False in a future version.\n",
      "  df[col] = df[col].str.replace(r'\\(|\\)|\\?', '')\n",
      "C:\\Users\\Joseph\\AppData\\Local\\Temp/ipykernel_7664/4197290296.py:13: FutureWarning: The default value of regex will change from True to False in a future version.\n",
      "  df[col] = df[col].str.replace(r'\\(|\\)|\\?', '')\n"
     ]
    }
   ],
   "source": [
    "# Assign data types after cleaning typos\n",
    "df_sam.loc[df_sam.ReceiptNum == datetime.datetime(1900, 1, 1, 0, 0), 'ReceiptNum'] = 1\n",
    "df_sam.loc[df_sam['Quantity'] == '??', 'Quantity'] = 1\n",
    "\n",
    "string_columns = ['Item', 'Item2', 'Category', 'Comment']\n",
    "for df in df_all:\n",
    "    df[['ID', 'Session', 'ReceiptNum', 'Quantity']] = df[['ID', 'Session', 'ReceiptNum', 'Quantity']].astype(pd.Int64Dtype())\n",
    "    df['ReceiptDate'] = pd.to_datetime(df['ReceiptDate'], errors = 'coerce')\n",
    "    df[string_columns] = df[string_columns].astype(str)\n",
    "    # clean strings\n",
    "    for col in string_columns:\n",
    "        df[col] = df[col].str.lower()\n",
    "        df[col] = df[col].str.replace(r'\\(|\\)|\\?', '')"
   ]
  },
  {
   "cell_type": "code",
   "execution_count": 7,
   "id": "6410e51a-bcd5-4a6d-ba3b-1bd4e80f4526",
   "metadata": {},
   "outputs": [],
   "source": [
    "# Fill NaN values\n",
    "# when receipt number is null, assume all items came from a single basket that session\n",
    "for df in df_all:\n",
    "    df['Quantity'].fillna(value = 1, inplace = True)\n",
    "    df.loc[pd.isna(df['ReceiptNum']), 'ReceiptNum'] = 1"
   ]
  },
  {
   "cell_type": "code",
   "execution_count": 8,
   "id": "de3d09a1-aa45-475e-b12c-e895cffc7c30",
   "metadata": {
    "tags": []
   },
   "outputs": [],
   "source": [
    "# Drop rows with essential NaN values\n",
    "# Drop 'Unknown' rows\n",
    "# Drop rows where 'Comments' contains \"duplicate\" or \"repeat\"\n",
    "for df in df_all:\n",
    "    df.dropna(subset = ['ID', 'Session', 'Item'], inplace = True)\n",
    "    df.drop(pd.notnull(df['Unknown']).index)\n",
    "    df.drop(df['Comment'].str.contains(r'duplicate|repeat').index)"
   ]
  },
  {
   "cell_type": "raw",
   "id": "a81eb391-d162-4056-a955-28a93ca26503",
   "metadata": {
    "tags": []
   },
   "source": [
    "TODO\n",
    "Cleanliness checks"
   ]
  }
 ],
 "metadata": {
  "kernelspec": {
   "display_name": "Python 3 (ipykernel)",
   "language": "python",
   "name": "python3"
  },
  "language_info": {
   "codemirror_mode": {
    "name": "ipython",
    "version": 3
   },
   "file_extension": ".py",
   "mimetype": "text/x-python",
   "name": "python",
   "nbconvert_exporter": "python",
   "pygments_lexer": "ipython3",
   "version": "3.9.7"
  }
 },
 "nbformat": 4,
 "nbformat_minor": 5
}
